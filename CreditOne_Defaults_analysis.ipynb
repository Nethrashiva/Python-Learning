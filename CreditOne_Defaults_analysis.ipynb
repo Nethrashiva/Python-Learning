{
 "cells": [
  {
   "cell_type": "markdown",
   "metadata": {},
   "source": [
    "## Import Libraries "
   ]
  },
  {
   "cell_type": "code",
   "execution_count": 1,
   "metadata": {},
   "outputs": [],
   "source": [
    "import matplotlib.pyplot as plt\n",
    "import pandas as pd\n",
    "import seaborn as sn\n",
    "import numpy as np"
   ]
  },
  {
   "cell_type": "markdown",
   "metadata": {},
   "source": [
    "## Reading Data Set using Pandas"
   ]
  },
  {
   "cell_type": "code",
   "execution_count": 2,
   "metadata": {},
   "outputs": [],
   "source": [
    "#Read csv file\n",
    "credit = pd.read_csv(\"default of credit card clients.csv\", header= 1)"
   ]
  },
  {
   "cell_type": "markdown",
   "metadata": {},
   "source": [
    "## Intial analysis"
   ]
  },
  {
   "cell_type": "code",
   "execution_count": 3,
   "metadata": {},
   "outputs": [
    {
     "data": {
      "text/html": [
       "<div>\n",
       "<style scoped>\n",
       "    .dataframe tbody tr th:only-of-type {\n",
       "        vertical-align: middle;\n",
       "    }\n",
       "\n",
       "    .dataframe tbody tr th {\n",
       "        vertical-align: top;\n",
       "    }\n",
       "\n",
       "    .dataframe thead th {\n",
       "        text-align: right;\n",
       "    }\n",
       "</style>\n",
       "<table border=\"1\" class=\"dataframe\">\n",
       "  <thead>\n",
       "    <tr style=\"text-align: right;\">\n",
       "      <th></th>\n",
       "      <th>ID</th>\n",
       "      <th>LIMIT_BAL</th>\n",
       "      <th>SEX</th>\n",
       "      <th>EDUCATION</th>\n",
       "      <th>MARRIAGE</th>\n",
       "      <th>AGE</th>\n",
       "      <th>PAY_0</th>\n",
       "      <th>PAY_2</th>\n",
       "      <th>PAY_3</th>\n",
       "      <th>PAY_4</th>\n",
       "      <th>...</th>\n",
       "      <th>BILL_AMT4</th>\n",
       "      <th>BILL_AMT5</th>\n",
       "      <th>BILL_AMT6</th>\n",
       "      <th>PAY_AMT1</th>\n",
       "      <th>PAY_AMT2</th>\n",
       "      <th>PAY_AMT3</th>\n",
       "      <th>PAY_AMT4</th>\n",
       "      <th>PAY_AMT5</th>\n",
       "      <th>PAY_AMT6</th>\n",
       "      <th>default payment next month</th>\n",
       "    </tr>\n",
       "  </thead>\n",
       "  <tbody>\n",
       "    <tr>\n",
       "      <th>0</th>\n",
       "      <td>1</td>\n",
       "      <td>20000</td>\n",
       "      <td>2</td>\n",
       "      <td>2</td>\n",
       "      <td>1</td>\n",
       "      <td>24</td>\n",
       "      <td>2</td>\n",
       "      <td>2</td>\n",
       "      <td>-1</td>\n",
       "      <td>-1</td>\n",
       "      <td>...</td>\n",
       "      <td>0</td>\n",
       "      <td>0</td>\n",
       "      <td>0</td>\n",
       "      <td>0</td>\n",
       "      <td>689</td>\n",
       "      <td>0</td>\n",
       "      <td>0</td>\n",
       "      <td>0</td>\n",
       "      <td>0</td>\n",
       "      <td>1</td>\n",
       "    </tr>\n",
       "    <tr>\n",
       "      <th>1</th>\n",
       "      <td>2</td>\n",
       "      <td>120000</td>\n",
       "      <td>2</td>\n",
       "      <td>2</td>\n",
       "      <td>2</td>\n",
       "      <td>26</td>\n",
       "      <td>-1</td>\n",
       "      <td>2</td>\n",
       "      <td>0</td>\n",
       "      <td>0</td>\n",
       "      <td>...</td>\n",
       "      <td>3272</td>\n",
       "      <td>3455</td>\n",
       "      <td>3261</td>\n",
       "      <td>0</td>\n",
       "      <td>1000</td>\n",
       "      <td>1000</td>\n",
       "      <td>1000</td>\n",
       "      <td>0</td>\n",
       "      <td>2000</td>\n",
       "      <td>1</td>\n",
       "    </tr>\n",
       "    <tr>\n",
       "      <th>2</th>\n",
       "      <td>3</td>\n",
       "      <td>90000</td>\n",
       "      <td>2</td>\n",
       "      <td>2</td>\n",
       "      <td>2</td>\n",
       "      <td>34</td>\n",
       "      <td>0</td>\n",
       "      <td>0</td>\n",
       "      <td>0</td>\n",
       "      <td>0</td>\n",
       "      <td>...</td>\n",
       "      <td>14331</td>\n",
       "      <td>14948</td>\n",
       "      <td>15549</td>\n",
       "      <td>1518</td>\n",
       "      <td>1500</td>\n",
       "      <td>1000</td>\n",
       "      <td>1000</td>\n",
       "      <td>1000</td>\n",
       "      <td>5000</td>\n",
       "      <td>0</td>\n",
       "    </tr>\n",
       "    <tr>\n",
       "      <th>3</th>\n",
       "      <td>4</td>\n",
       "      <td>50000</td>\n",
       "      <td>2</td>\n",
       "      <td>2</td>\n",
       "      <td>1</td>\n",
       "      <td>37</td>\n",
       "      <td>0</td>\n",
       "      <td>0</td>\n",
       "      <td>0</td>\n",
       "      <td>0</td>\n",
       "      <td>...</td>\n",
       "      <td>28314</td>\n",
       "      <td>28959</td>\n",
       "      <td>29547</td>\n",
       "      <td>2000</td>\n",
       "      <td>2019</td>\n",
       "      <td>1200</td>\n",
       "      <td>1100</td>\n",
       "      <td>1069</td>\n",
       "      <td>1000</td>\n",
       "      <td>0</td>\n",
       "    </tr>\n",
       "    <tr>\n",
       "      <th>4</th>\n",
       "      <td>5</td>\n",
       "      <td>50000</td>\n",
       "      <td>1</td>\n",
       "      <td>2</td>\n",
       "      <td>1</td>\n",
       "      <td>57</td>\n",
       "      <td>-1</td>\n",
       "      <td>0</td>\n",
       "      <td>-1</td>\n",
       "      <td>0</td>\n",
       "      <td>...</td>\n",
       "      <td>20940</td>\n",
       "      <td>19146</td>\n",
       "      <td>19131</td>\n",
       "      <td>2000</td>\n",
       "      <td>36681</td>\n",
       "      <td>10000</td>\n",
       "      <td>9000</td>\n",
       "      <td>689</td>\n",
       "      <td>679</td>\n",
       "      <td>0</td>\n",
       "    </tr>\n",
       "  </tbody>\n",
       "</table>\n",
       "<p>5 rows × 25 columns</p>\n",
       "</div>"
      ],
      "text/plain": [
       "   ID  LIMIT_BAL  SEX  EDUCATION  MARRIAGE  AGE  PAY_0  PAY_2  PAY_3  PAY_4  \\\n",
       "0   1      20000    2          2         1   24      2      2     -1     -1   \n",
       "1   2     120000    2          2         2   26     -1      2      0      0   \n",
       "2   3      90000    2          2         2   34      0      0      0      0   \n",
       "3   4      50000    2          2         1   37      0      0      0      0   \n",
       "4   5      50000    1          2         1   57     -1      0     -1      0   \n",
       "\n",
       "   ...  BILL_AMT4  BILL_AMT5  BILL_AMT6  PAY_AMT1  PAY_AMT2  PAY_AMT3  \\\n",
       "0  ...          0          0          0         0       689         0   \n",
       "1  ...       3272       3455       3261         0      1000      1000   \n",
       "2  ...      14331      14948      15549      1518      1500      1000   \n",
       "3  ...      28314      28959      29547      2000      2019      1200   \n",
       "4  ...      20940      19146      19131      2000     36681     10000   \n",
       "\n",
       "   PAY_AMT4  PAY_AMT5  PAY_AMT6  default payment next month  \n",
       "0         0         0         0                           1  \n",
       "1      1000         0      2000                           1  \n",
       "2      1000      1000      5000                           0  \n",
       "3      1100      1069      1000                           0  \n",
       "4      9000       689       679                           0  \n",
       "\n",
       "[5 rows x 25 columns]"
      ]
     },
     "execution_count": 3,
     "metadata": {},
     "output_type": "execute_result"
    }
   ],
   "source": [
    "#Check the first 5 rows of the data frame\n",
    "credit.head()"
   ]
  },
  {
   "cell_type": "code",
   "execution_count": 4,
   "metadata": {},
   "outputs": [
    {
     "data": {
      "text/html": [
       "<div>\n",
       "<style scoped>\n",
       "    .dataframe tbody tr th:only-of-type {\n",
       "        vertical-align: middle;\n",
       "    }\n",
       "\n",
       "    .dataframe tbody tr th {\n",
       "        vertical-align: top;\n",
       "    }\n",
       "\n",
       "    .dataframe thead th {\n",
       "        text-align: right;\n",
       "    }\n",
       "</style>\n",
       "<table border=\"1\" class=\"dataframe\">\n",
       "  <thead>\n",
       "    <tr style=\"text-align: right;\">\n",
       "      <th></th>\n",
       "      <th>ID</th>\n",
       "      <th>LIMIT_BAL</th>\n",
       "      <th>SEX</th>\n",
       "      <th>EDUCATION</th>\n",
       "      <th>MARRIAGE</th>\n",
       "      <th>AGE</th>\n",
       "      <th>PAY_0</th>\n",
       "      <th>PAY_2</th>\n",
       "      <th>PAY_3</th>\n",
       "      <th>PAY_4</th>\n",
       "      <th>...</th>\n",
       "      <th>BILL_AMT4</th>\n",
       "      <th>BILL_AMT5</th>\n",
       "      <th>BILL_AMT6</th>\n",
       "      <th>PAY_AMT1</th>\n",
       "      <th>PAY_AMT2</th>\n",
       "      <th>PAY_AMT3</th>\n",
       "      <th>PAY_AMT4</th>\n",
       "      <th>PAY_AMT5</th>\n",
       "      <th>PAY_AMT6</th>\n",
       "      <th>default payment next month</th>\n",
       "    </tr>\n",
       "  </thead>\n",
       "  <tbody>\n",
       "    <tr>\n",
       "      <th>count</th>\n",
       "      <td>30000.000000</td>\n",
       "      <td>30000.000000</td>\n",
       "      <td>30000.000000</td>\n",
       "      <td>30000.000000</td>\n",
       "      <td>30000.000000</td>\n",
       "      <td>30000.000000</td>\n",
       "      <td>30000.000000</td>\n",
       "      <td>30000.000000</td>\n",
       "      <td>30000.000000</td>\n",
       "      <td>30000.000000</td>\n",
       "      <td>...</td>\n",
       "      <td>30000.000000</td>\n",
       "      <td>30000.000000</td>\n",
       "      <td>30000.000000</td>\n",
       "      <td>30000.000000</td>\n",
       "      <td>3.000000e+04</td>\n",
       "      <td>30000.00000</td>\n",
       "      <td>30000.000000</td>\n",
       "      <td>30000.000000</td>\n",
       "      <td>30000.000000</td>\n",
       "      <td>30000.000000</td>\n",
       "    </tr>\n",
       "    <tr>\n",
       "      <th>mean</th>\n",
       "      <td>15000.500000</td>\n",
       "      <td>167484.322667</td>\n",
       "      <td>1.603733</td>\n",
       "      <td>1.853133</td>\n",
       "      <td>1.551867</td>\n",
       "      <td>35.485500</td>\n",
       "      <td>-0.016700</td>\n",
       "      <td>-0.133767</td>\n",
       "      <td>-0.166200</td>\n",
       "      <td>-0.220667</td>\n",
       "      <td>...</td>\n",
       "      <td>43262.948967</td>\n",
       "      <td>40311.400967</td>\n",
       "      <td>38871.760400</td>\n",
       "      <td>5663.580500</td>\n",
       "      <td>5.921163e+03</td>\n",
       "      <td>5225.68150</td>\n",
       "      <td>4826.076867</td>\n",
       "      <td>4799.387633</td>\n",
       "      <td>5215.502567</td>\n",
       "      <td>0.221200</td>\n",
       "    </tr>\n",
       "    <tr>\n",
       "      <th>std</th>\n",
       "      <td>8660.398374</td>\n",
       "      <td>129747.661567</td>\n",
       "      <td>0.489129</td>\n",
       "      <td>0.790349</td>\n",
       "      <td>0.521970</td>\n",
       "      <td>9.217904</td>\n",
       "      <td>1.123802</td>\n",
       "      <td>1.197186</td>\n",
       "      <td>1.196868</td>\n",
       "      <td>1.169139</td>\n",
       "      <td>...</td>\n",
       "      <td>64332.856134</td>\n",
       "      <td>60797.155770</td>\n",
       "      <td>59554.107537</td>\n",
       "      <td>16563.280354</td>\n",
       "      <td>2.304087e+04</td>\n",
       "      <td>17606.96147</td>\n",
       "      <td>15666.159744</td>\n",
       "      <td>15278.305679</td>\n",
       "      <td>17777.465775</td>\n",
       "      <td>0.415062</td>\n",
       "    </tr>\n",
       "    <tr>\n",
       "      <th>min</th>\n",
       "      <td>1.000000</td>\n",
       "      <td>10000.000000</td>\n",
       "      <td>1.000000</td>\n",
       "      <td>0.000000</td>\n",
       "      <td>0.000000</td>\n",
       "      <td>21.000000</td>\n",
       "      <td>-2.000000</td>\n",
       "      <td>-2.000000</td>\n",
       "      <td>-2.000000</td>\n",
       "      <td>-2.000000</td>\n",
       "      <td>...</td>\n",
       "      <td>-170000.000000</td>\n",
       "      <td>-81334.000000</td>\n",
       "      <td>-339603.000000</td>\n",
       "      <td>0.000000</td>\n",
       "      <td>0.000000e+00</td>\n",
       "      <td>0.00000</td>\n",
       "      <td>0.000000</td>\n",
       "      <td>0.000000</td>\n",
       "      <td>0.000000</td>\n",
       "      <td>0.000000</td>\n",
       "    </tr>\n",
       "    <tr>\n",
       "      <th>25%</th>\n",
       "      <td>7500.750000</td>\n",
       "      <td>50000.000000</td>\n",
       "      <td>1.000000</td>\n",
       "      <td>1.000000</td>\n",
       "      <td>1.000000</td>\n",
       "      <td>28.000000</td>\n",
       "      <td>-1.000000</td>\n",
       "      <td>-1.000000</td>\n",
       "      <td>-1.000000</td>\n",
       "      <td>-1.000000</td>\n",
       "      <td>...</td>\n",
       "      <td>2326.750000</td>\n",
       "      <td>1763.000000</td>\n",
       "      <td>1256.000000</td>\n",
       "      <td>1000.000000</td>\n",
       "      <td>8.330000e+02</td>\n",
       "      <td>390.00000</td>\n",
       "      <td>296.000000</td>\n",
       "      <td>252.500000</td>\n",
       "      <td>117.750000</td>\n",
       "      <td>0.000000</td>\n",
       "    </tr>\n",
       "    <tr>\n",
       "      <th>50%</th>\n",
       "      <td>15000.500000</td>\n",
       "      <td>140000.000000</td>\n",
       "      <td>2.000000</td>\n",
       "      <td>2.000000</td>\n",
       "      <td>2.000000</td>\n",
       "      <td>34.000000</td>\n",
       "      <td>0.000000</td>\n",
       "      <td>0.000000</td>\n",
       "      <td>0.000000</td>\n",
       "      <td>0.000000</td>\n",
       "      <td>...</td>\n",
       "      <td>19052.000000</td>\n",
       "      <td>18104.500000</td>\n",
       "      <td>17071.000000</td>\n",
       "      <td>2100.000000</td>\n",
       "      <td>2.009000e+03</td>\n",
       "      <td>1800.00000</td>\n",
       "      <td>1500.000000</td>\n",
       "      <td>1500.000000</td>\n",
       "      <td>1500.000000</td>\n",
       "      <td>0.000000</td>\n",
       "    </tr>\n",
       "    <tr>\n",
       "      <th>75%</th>\n",
       "      <td>22500.250000</td>\n",
       "      <td>240000.000000</td>\n",
       "      <td>2.000000</td>\n",
       "      <td>2.000000</td>\n",
       "      <td>2.000000</td>\n",
       "      <td>41.000000</td>\n",
       "      <td>0.000000</td>\n",
       "      <td>0.000000</td>\n",
       "      <td>0.000000</td>\n",
       "      <td>0.000000</td>\n",
       "      <td>...</td>\n",
       "      <td>54506.000000</td>\n",
       "      <td>50190.500000</td>\n",
       "      <td>49198.250000</td>\n",
       "      <td>5006.000000</td>\n",
       "      <td>5.000000e+03</td>\n",
       "      <td>4505.00000</td>\n",
       "      <td>4013.250000</td>\n",
       "      <td>4031.500000</td>\n",
       "      <td>4000.000000</td>\n",
       "      <td>0.000000</td>\n",
       "    </tr>\n",
       "    <tr>\n",
       "      <th>max</th>\n",
       "      <td>30000.000000</td>\n",
       "      <td>1000000.000000</td>\n",
       "      <td>2.000000</td>\n",
       "      <td>6.000000</td>\n",
       "      <td>3.000000</td>\n",
       "      <td>79.000000</td>\n",
       "      <td>8.000000</td>\n",
       "      <td>8.000000</td>\n",
       "      <td>8.000000</td>\n",
       "      <td>8.000000</td>\n",
       "      <td>...</td>\n",
       "      <td>891586.000000</td>\n",
       "      <td>927171.000000</td>\n",
       "      <td>961664.000000</td>\n",
       "      <td>873552.000000</td>\n",
       "      <td>1.684259e+06</td>\n",
       "      <td>896040.00000</td>\n",
       "      <td>621000.000000</td>\n",
       "      <td>426529.000000</td>\n",
       "      <td>528666.000000</td>\n",
       "      <td>1.000000</td>\n",
       "    </tr>\n",
       "  </tbody>\n",
       "</table>\n",
       "<p>8 rows × 25 columns</p>\n",
       "</div>"
      ],
      "text/plain": [
       "                 ID       LIMIT_BAL           SEX     EDUCATION      MARRIAGE  \\\n",
       "count  30000.000000    30000.000000  30000.000000  30000.000000  30000.000000   \n",
       "mean   15000.500000   167484.322667      1.603733      1.853133      1.551867   \n",
       "std     8660.398374   129747.661567      0.489129      0.790349      0.521970   \n",
       "min        1.000000    10000.000000      1.000000      0.000000      0.000000   \n",
       "25%     7500.750000    50000.000000      1.000000      1.000000      1.000000   \n",
       "50%    15000.500000   140000.000000      2.000000      2.000000      2.000000   \n",
       "75%    22500.250000   240000.000000      2.000000      2.000000      2.000000   \n",
       "max    30000.000000  1000000.000000      2.000000      6.000000      3.000000   \n",
       "\n",
       "                AGE         PAY_0         PAY_2         PAY_3         PAY_4  \\\n",
       "count  30000.000000  30000.000000  30000.000000  30000.000000  30000.000000   \n",
       "mean      35.485500     -0.016700     -0.133767     -0.166200     -0.220667   \n",
       "std        9.217904      1.123802      1.197186      1.196868      1.169139   \n",
       "min       21.000000     -2.000000     -2.000000     -2.000000     -2.000000   \n",
       "25%       28.000000     -1.000000     -1.000000     -1.000000     -1.000000   \n",
       "50%       34.000000      0.000000      0.000000      0.000000      0.000000   \n",
       "75%       41.000000      0.000000      0.000000      0.000000      0.000000   \n",
       "max       79.000000      8.000000      8.000000      8.000000      8.000000   \n",
       "\n",
       "       ...      BILL_AMT4      BILL_AMT5      BILL_AMT6       PAY_AMT1  \\\n",
       "count  ...   30000.000000   30000.000000   30000.000000   30000.000000   \n",
       "mean   ...   43262.948967   40311.400967   38871.760400    5663.580500   \n",
       "std    ...   64332.856134   60797.155770   59554.107537   16563.280354   \n",
       "min    ... -170000.000000  -81334.000000 -339603.000000       0.000000   \n",
       "25%    ...    2326.750000    1763.000000    1256.000000    1000.000000   \n",
       "50%    ...   19052.000000   18104.500000   17071.000000    2100.000000   \n",
       "75%    ...   54506.000000   50190.500000   49198.250000    5006.000000   \n",
       "max    ...  891586.000000  927171.000000  961664.000000  873552.000000   \n",
       "\n",
       "           PAY_AMT2      PAY_AMT3       PAY_AMT4       PAY_AMT5  \\\n",
       "count  3.000000e+04   30000.00000   30000.000000   30000.000000   \n",
       "mean   5.921163e+03    5225.68150    4826.076867    4799.387633   \n",
       "std    2.304087e+04   17606.96147   15666.159744   15278.305679   \n",
       "min    0.000000e+00       0.00000       0.000000       0.000000   \n",
       "25%    8.330000e+02     390.00000     296.000000     252.500000   \n",
       "50%    2.009000e+03    1800.00000    1500.000000    1500.000000   \n",
       "75%    5.000000e+03    4505.00000    4013.250000    4031.500000   \n",
       "max    1.684259e+06  896040.00000  621000.000000  426529.000000   \n",
       "\n",
       "            PAY_AMT6  default payment next month  \n",
       "count   30000.000000                30000.000000  \n",
       "mean     5215.502567                    0.221200  \n",
       "std     17777.465775                    0.415062  \n",
       "min         0.000000                    0.000000  \n",
       "25%       117.750000                    0.000000  \n",
       "50%      1500.000000                    0.000000  \n",
       "75%      4000.000000                    0.000000  \n",
       "max    528666.000000                    1.000000  \n",
       "\n",
       "[8 rows x 25 columns]"
      ]
     },
     "execution_count": 4,
     "metadata": {},
     "output_type": "execute_result"
    }
   ],
   "source": [
    "#Check the statistics of dataframe\n",
    "credit.describe()"
   ]
  },
  {
   "cell_type": "code",
   "execution_count": 5,
   "metadata": {},
   "outputs": [
    {
     "data": {
      "text/plain": [
       "Index(['ID', 'LIMIT_BAL', 'SEX', 'EDUCATION', 'MARRIAGE', 'AGE', 'PAY_0',\n",
       "       'PAY_2', 'PAY_3', 'PAY_4', 'PAY_5', 'PAY_6', 'BILL_AMT1', 'BILL_AMT2',\n",
       "       'BILL_AMT3', 'BILL_AMT4', 'BILL_AMT5', 'BILL_AMT6', 'PAY_AMT1',\n",
       "       'PAY_AMT2', 'PAY_AMT3', 'PAY_AMT4', 'PAY_AMT5', 'PAY_AMT6',\n",
       "       'default payment next month'],\n",
       "      dtype='object')"
      ]
     },
     "execution_count": 5,
     "metadata": {},
     "output_type": "execute_result"
    }
   ],
   "source": [
    "#Column Names\n",
    "credit.columns"
   ]
  },
  {
   "cell_type": "code",
   "execution_count": 6,
   "metadata": {},
   "outputs": [
    {
     "name": "stdout",
     "output_type": "stream",
     "text": [
      "<class 'pandas.core.frame.DataFrame'>\n",
      "RangeIndex: 30000 entries, 0 to 29999\n",
      "Data columns (total 25 columns):\n",
      " #   Column                      Non-Null Count  Dtype\n",
      "---  ------                      --------------  -----\n",
      " 0   ID                          30000 non-null  int64\n",
      " 1   LIMIT_BAL                   30000 non-null  int64\n",
      " 2   SEX                         30000 non-null  int64\n",
      " 3   EDUCATION                   30000 non-null  int64\n",
      " 4   MARRIAGE                    30000 non-null  int64\n",
      " 5   AGE                         30000 non-null  int64\n",
      " 6   PAY_0                       30000 non-null  int64\n",
      " 7   PAY_2                       30000 non-null  int64\n",
      " 8   PAY_3                       30000 non-null  int64\n",
      " 9   PAY_4                       30000 non-null  int64\n",
      " 10  PAY_5                       30000 non-null  int64\n",
      " 11  PAY_6                       30000 non-null  int64\n",
      " 12  BILL_AMT1                   30000 non-null  int64\n",
      " 13  BILL_AMT2                   30000 non-null  int64\n",
      " 14  BILL_AMT3                   30000 non-null  int64\n",
      " 15  BILL_AMT4                   30000 non-null  int64\n",
      " 16  BILL_AMT5                   30000 non-null  int64\n",
      " 17  BILL_AMT6                   30000 non-null  int64\n",
      " 18  PAY_AMT1                    30000 non-null  int64\n",
      " 19  PAY_AMT2                    30000 non-null  int64\n",
      " 20  PAY_AMT3                    30000 non-null  int64\n",
      " 21  PAY_AMT4                    30000 non-null  int64\n",
      " 22  PAY_AMT5                    30000 non-null  int64\n",
      " 23  PAY_AMT6                    30000 non-null  int64\n",
      " 24  default payment next month  30000 non-null  int64\n",
      "dtypes: int64(25)\n",
      "memory usage: 5.7 MB\n"
     ]
    }
   ],
   "source": [
    "#Information about the dataset\n",
    "credit.info()"
   ]
  },
  {
   "cell_type": "markdown",
   "metadata": {},
   "source": [
    "## Data Preparation"
   ]
  },
  {
   "cell_type": "code",
   "execution_count": 7,
   "metadata": {},
   "outputs": [
    {
     "data": {
      "text/plain": [
       "Index(['ID', 'LIMIT_BAL', 'SEX', 'EDUCATION', 'MARRIAGE', 'AGE', 'PAY_1',\n",
       "       'PAY_2', 'PAY_3', 'PAY_4', 'PAY_5', 'PAY_6', 'BILL_AMT1', 'BILL_AMT2',\n",
       "       'BILL_AMT3', 'BILL_AMT4', 'BILL_AMT5', 'BILL_AMT6', 'PAY_AMT1',\n",
       "       'PAY_AMT2', 'PAY_AMT3', 'PAY_AMT4', 'PAY_AMT5', 'PAY_AMT6',\n",
       "       'default_pay'],\n",
       "      dtype='object')"
      ]
     },
     "execution_count": 7,
     "metadata": {},
     "output_type": "execute_result"
    }
   ],
   "source": [
    "#Rename variable \"default payment next month\" to \"default\" and PAY_0 to PAY_1\n",
    "credit.rename(columns= {\"default payment next month\" : \"default_pay\",\"PAY_0\" : \"PAY_1\"}, inplace = True)\n",
    "credit.columns"
   ]
  },
  {
   "cell_type": "code",
   "execution_count": 8,
   "metadata": {},
   "outputs": [
    {
     "name": "stdout",
     "output_type": "stream",
     "text": [
      "Series([], dtype: bool)\n"
     ]
    }
   ],
   "source": [
    "#Check for any duplicates\n",
    "credit_dups = pd.DataFrame.duplicated(credit)\n",
    "#print(credit)\n",
    "print(credit_dups[credit_dups == True])"
   ]
  },
  {
   "cell_type": "code",
   "execution_count": 9,
   "metadata": {
    "scrolled": false
   },
   "outputs": [
    {
     "name": "stdout",
     "output_type": "stream",
     "text": [
      "No missing values in ID\n",
      "No missing values in LIMIT_BAL\n",
      "No missing values in SEX\n",
      "No missing values in EDUCATION\n",
      "No missing values in MARRIAGE\n",
      "No missing values in AGE\n",
      "No missing values in PAY_1\n",
      "No missing values in PAY_2\n",
      "No missing values in PAY_3\n",
      "No missing values in PAY_4\n",
      "No missing values in PAY_5\n",
      "No missing values in PAY_6\n",
      "No missing values in BILL_AMT1\n",
      "No missing values in BILL_AMT2\n",
      "No missing values in BILL_AMT3\n",
      "No missing values in BILL_AMT4\n",
      "No missing values in BILL_AMT5\n",
      "No missing values in BILL_AMT6\n",
      "No missing values in PAY_AMT1\n",
      "No missing values in PAY_AMT2\n",
      "No missing values in PAY_AMT3\n",
      "No missing values in PAY_AMT4\n",
      "No missing values in PAY_AMT5\n",
      "No missing values in PAY_AMT6\n",
      "No missing values in default_pay\n"
     ]
    }
   ],
   "source": [
    "#Check for any missing values\n",
    "#checking NaN values if there is any then data will be sanitized \n",
    "for column in credit:\n",
    "    if credit[column].isnull().values.any():\n",
    "        print (\"NaN value/s detected in \"+column)\n",
    "    else:\n",
    "        print (\"No missing values in \"+column)"
   ]
  },
  {
   "cell_type": "code",
   "execution_count": 10,
   "metadata": {},
   "outputs": [
    {
     "name": "stdout",
     "output_type": "stream",
     "text": [
      "<class 'pandas.core.frame.DataFrame'>\n",
      "RangeIndex: 30000 entries, 0 to 29999\n",
      "Data columns (total 25 columns):\n",
      " #   Column       Non-Null Count  Dtype   \n",
      "---  ------       --------------  -----   \n",
      " 0   ID           30000 non-null  int64   \n",
      " 1   LIMIT_BAL    30000 non-null  float64 \n",
      " 2   SEX          30000 non-null  category\n",
      " 3   EDUCATION    30000 non-null  category\n",
      " 4   MARRIAGE     30000 non-null  category\n",
      " 5   AGE          30000 non-null  int64   \n",
      " 6   PAY_1        30000 non-null  category\n",
      " 7   PAY_2        30000 non-null  category\n",
      " 8   PAY_3        30000 non-null  category\n",
      " 9   PAY_4        30000 non-null  category\n",
      " 10  PAY_5        30000 non-null  category\n",
      " 11  PAY_6        30000 non-null  category\n",
      " 12  BILL_AMT1    30000 non-null  float64 \n",
      " 13  BILL_AMT2    30000 non-null  float64 \n",
      " 14  BILL_AMT3    30000 non-null  float64 \n",
      " 15  BILL_AMT4    30000 non-null  float64 \n",
      " 16  BILL_AMT5    30000 non-null  float64 \n",
      " 17  BILL_AMT6    30000 non-null  float64 \n",
      " 18  PAY_AMT1     30000 non-null  float64 \n",
      " 19  PAY_AMT2     30000 non-null  float64 \n",
      " 20  PAY_AMT3     30000 non-null  float64 \n",
      " 21  PAY_AMT4     30000 non-null  float64 \n",
      " 22  PAY_AMT5     30000 non-null  float64 \n",
      " 23  PAY_AMT6     30000 non-null  float64 \n",
      " 24  default_pay  30000 non-null  category\n",
      "dtypes: category(10), float64(13), int64(2)\n",
      "memory usage: 3.7 MB\n"
     ]
    }
   ],
   "source": [
    "#Convert Sex, Education, Marriage, Default_pay,and all Payment status svariables from integer to category\n",
    "credit[[\"SEX\",\"EDUCATION\",\"MARRIAGE\",\"default_pay\"]] = credit[[\"SEX\",\"EDUCATION\",\"MARRIAGE\",\"default_pay\"]].astype(\"category\")\n",
    "credit[[\"PAY_1\",\"PAY_2\",\"PAY_3\",\"PAY_4\",\"PAY_5\",\"PAY_6\"]] = credit[[\"PAY_1\",\"PAY_2\",\"PAY_3\",\"PAY_4\",\"PAY_5\",\"PAY_6\"]].astype(\"category\")\n",
    "credit[['LIMIT_BAL','PAY_AMT1','PAY_AMT2','PAY_AMT3','PAY_AMT4','PAY_AMT5','PAY_AMT6','BILL_AMT1','BILL_AMT2','BILL_AMT3','BILL_AMT4','BILL_AMT5','BILL_AMT6']]= credit[['LIMIT_BAL','PAY_AMT1','PAY_AMT2','PAY_AMT3','PAY_AMT4','PAY_AMT5','PAY_AMT6','BILL_AMT1','BILL_AMT2','BILL_AMT3','BILL_AMT4','BILL_AMT5','BILL_AMT6']].astype('float64')\n",
    "\n",
    "credit.info()"
   ]
  },
  {
   "cell_type": "code",
   "execution_count": 11,
   "metadata": {},
   "outputs": [
    {
     "name": "stdout",
     "output_type": "stream",
     "text": [
      "Sex:  [2, 1]\n",
      "Categories (2, int64): [2, 1] \n",
      "\n",
      "Marriage:  [1, 2, 3, 0]\n",
      "Categories (4, int64): [1, 2, 3, 0] \n",
      "\n",
      "Education:  [2, 1, 3, 5, 4, 6, 0]\n",
      "Categories (7, int64): [2, 1, 3, 5, 4, 6, 0] \n",
      "\n"
     ]
    },
    {
     "data": {
      "text/plain": [
       "2    14030\n",
       "1    10585\n",
       "3     4917\n",
       "5      280\n",
       "4      123\n",
       "6       51\n",
       "0       14\n",
       "Name: EDUCATION, dtype: int64"
      ]
     },
     "execution_count": 11,
     "metadata": {},
     "output_type": "execute_result"
    }
   ],
   "source": [
    "#Check for category levels\n",
    "print(\"Sex: \",credit[\"SEX\"].unique(),\"\\n\")\n",
    "print(\"Marriage: \",credit[\"MARRIAGE\"].unique(),\"\\n\")\n",
    "print(\"Education: \",credit[\"EDUCATION\"].unique(),\"\\n\")\n",
    "credit[\"EDUCATION\"].value_counts()"
   ]
  },
  {
   "cell_type": "code",
   "execution_count": 12,
   "metadata": {},
   "outputs": [
    {
     "data": {
      "text/plain": [
       "0         University\n",
       "1         University\n",
       "2         University\n",
       "3         University\n",
       "4         University\n",
       "            ...     \n",
       "29995    High School\n",
       "29996    High School\n",
       "29997     University\n",
       "29998    High School\n",
       "29999     University\n",
       "Name: EDUCATION, Length: 30000, dtype: category\n",
       "Categories (4, object): ['Graduate School', 'University', 'High School', 'Others']"
      ]
     },
     "execution_count": 12,
     "metadata": {},
     "output_type": "execute_result"
    }
   ],
   "source": [
    "#change the values of EDUCATION : (1 = graduate school; 2 = university; 3 = high school; 0, 4, 5, 6 = others)\n",
    "#Merge levels 0,4,5,6 to 4\n",
    "\n",
    "Edu_level = ((credit[\"EDUCATION\"] == 0) | (credit[\"EDUCATION\"] == 5) | (credit[\"EDUCATION\"] ==6))\n",
    "credit.loc[Edu_level, \"EDUCATION\"] = 4\n",
    "credit['EDUCATION'] = credit['EDUCATION'].cat.rename_categories({1 : 'Graduate School' , 2: 'University' , 3: 'High School', 4: 'Others'})\n",
    "credit[\"EDUCATION\"].cat.remove_unused_categories()\n"
   ]
  },
  {
   "cell_type": "code",
   "execution_count": 13,
   "metadata": {},
   "outputs": [
    {
     "data": {
      "text/plain": [
       "Female    18112\n",
       "Male      11888\n",
       "Name: SEX, dtype: int64"
      ]
     },
     "execution_count": 13,
     "metadata": {},
     "output_type": "execute_result"
    }
   ],
   "source": [
    "#Rename levels in SEX as 1- Male , 2- Female\n",
    "credit['SEX'] = credit['SEX'].cat.rename_categories(['Male', 'Female'])\n",
    "credit['SEX'].value_counts()"
   ]
  },
  {
   "cell_type": "code",
   "execution_count": 14,
   "metadata": {},
   "outputs": [
    {
     "data": {
      "text/plain": [
       "Single     15964\n",
       "Married    13659\n",
       "Divorce      323\n",
       "Others        54\n",
       "Name: MARRIAGE, dtype: int64"
      ]
     },
     "execution_count": 14,
     "metadata": {},
     "output_type": "execute_result"
    }
   ],
   "source": [
    "#Rename levels in Marriage as 1- Married, 2- single, 3- Divorce, 0- Others\n",
    "credit['MARRIAGE'] = credit['MARRIAGE'].cat.rename_categories({1 : 'Married' , 2: 'Single' , 3: 'Divorce', 0: 'Others'})\n",
    "credit['MARRIAGE'].value_counts()"
   ]
  },
  {
   "cell_type": "code",
   "execution_count": 15,
   "metadata": {},
   "outputs": [
    {
     "data": {
      "text/plain": [
       "No Default    23364\n",
       "Default        6636\n",
       "Name: default_pay, dtype: int64"
      ]
     },
     "execution_count": 15,
     "metadata": {},
     "output_type": "execute_result"
    }
   ],
   "source": [
    "#Rename levels in default_pay as 1- Default and 0- No Default\n",
    "credit['default_pay'] = credit['default_pay'].cat.rename_categories(['No Default', 'Default'])\n",
    "credit[\"default_pay\"].value_counts()"
   ]
  },
  {
   "cell_type": "code",
   "execution_count": 16,
   "metadata": {},
   "outputs": [
    {
     "data": {
      "text/plain": [
       "Index(['LIMIT_BAL', 'SEX', 'EDUCATION', 'MARRIAGE', 'AGE', 'PAY_1', 'PAY_2',\n",
       "       'PAY_3', 'PAY_4', 'PAY_5', 'PAY_6', 'BILL_AMT1', 'BILL_AMT2',\n",
       "       'BILL_AMT3', 'BILL_AMT4', 'BILL_AMT5', 'BILL_AMT6', 'PAY_AMT1',\n",
       "       'PAY_AMT2', 'PAY_AMT3', 'PAY_AMT4', 'PAY_AMT5', 'PAY_AMT6',\n",
       "       'default_pay'],\n",
       "      dtype='object')"
      ]
     },
     "execution_count": 16,
     "metadata": {},
     "output_type": "execute_result"
    }
   ],
   "source": [
    "#Drop variables- here we drop ID column \n",
    "\n",
    "credit.drop(columns = [\"ID\"], inplace = True)\n",
    "credit.columns"
   ]
  },
  {
   "cell_type": "code",
   "execution_count": 17,
   "metadata": {},
   "outputs": [
    {
     "name": "stdout",
     "output_type": "stream",
     "text": [
      "<class 'pandas.core.frame.DataFrame'>\n",
      "RangeIndex: 30000 entries, 0 to 29999\n",
      "Data columns (total 24 columns):\n",
      " #   Column       Non-Null Count  Dtype   \n",
      "---  ------       --------------  -----   \n",
      " 0   LIMIT_BAL    30000 non-null  float64 \n",
      " 1   SEX          30000 non-null  category\n",
      " 2   EDUCATION    30000 non-null  category\n",
      " 3   MARRIAGE     30000 non-null  category\n",
      " 4   AGE          30000 non-null  int64   \n",
      " 5   PAY_1        30000 non-null  category\n",
      " 6   PAY_2        30000 non-null  category\n",
      " 7   PAY_3        30000 non-null  category\n",
      " 8   PAY_4        30000 non-null  category\n",
      " 9   PAY_5        30000 non-null  category\n",
      " 10  PAY_6        30000 non-null  category\n",
      " 11  BILL_AMT1    30000 non-null  float64 \n",
      " 12  BILL_AMT2    30000 non-null  float64 \n",
      " 13  BILL_AMT3    30000 non-null  float64 \n",
      " 14  BILL_AMT4    30000 non-null  float64 \n",
      " 15  BILL_AMT5    30000 non-null  float64 \n",
      " 16  BILL_AMT6    30000 non-null  float64 \n",
      " 17  PAY_AMT1     30000 non-null  float64 \n",
      " 18  PAY_AMT2     30000 non-null  float64 \n",
      " 19  PAY_AMT3     30000 non-null  float64 \n",
      " 20  PAY_AMT4     30000 non-null  float64 \n",
      " 21  PAY_AMT5     30000 non-null  float64 \n",
      " 22  PAY_AMT6     30000 non-null  float64 \n",
      " 23  default_pay  30000 non-null  category\n",
      "dtypes: category(10), float64(13), int64(1)\n",
      "memory usage: 3.5 MB\n"
     ]
    }
   ],
   "source": [
    "credit.info()"
   ]
  },
  {
   "cell_type": "code",
   "execution_count": 18,
   "metadata": {},
   "outputs": [],
   "source": [
    "#Discretize the AGE variable by decades.\n",
    "credit['age_by_decade'] = pd.cut(x=credit['AGE'], bins=[20, 29, 39, 49, 59, 69, 79, 89], labels=['20s', '30s', '40s', '50s','60s','70s','80s'])"
   ]
  },
  {
   "cell_type": "code",
   "execution_count": 19,
   "metadata": {},
   "outputs": [],
   "source": [
    "#Write the modified credit defaults dataframe to a csv file for further visualizationsssss\n",
    "credit.to_csv('Credit_defaults_v1.csv', sep = ',', index = False)"
   ]
  },
  {
   "cell_type": "code",
   "execution_count": 20,
   "metadata": {},
   "outputs": [
    {
     "data": {
      "text/html": [
       "<div>\n",
       "<style scoped>\n",
       "    .dataframe tbody tr th:only-of-type {\n",
       "        vertical-align: middle;\n",
       "    }\n",
       "\n",
       "    .dataframe tbody tr th {\n",
       "        vertical-align: top;\n",
       "    }\n",
       "\n",
       "    .dataframe thead th {\n",
       "        text-align: right;\n",
       "    }\n",
       "</style>\n",
       "<table border=\"1\" class=\"dataframe\">\n",
       "  <thead>\n",
       "    <tr style=\"text-align: right;\">\n",
       "      <th></th>\n",
       "      <th>PAY_AMT1</th>\n",
       "      <th>PAY_AMT2</th>\n",
       "      <th>PAY_AMT3</th>\n",
       "      <th>PAY_AMT4</th>\n",
       "      <th>PAY_AMT5</th>\n",
       "      <th>PAY_AMT6</th>\n",
       "    </tr>\n",
       "  </thead>\n",
       "  <tbody>\n",
       "    <tr>\n",
       "      <th>count</th>\n",
       "      <td>30000.000000</td>\n",
       "      <td>3.000000e+04</td>\n",
       "      <td>30000.00000</td>\n",
       "      <td>30000.000000</td>\n",
       "      <td>30000.000000</td>\n",
       "      <td>30000.000000</td>\n",
       "    </tr>\n",
       "    <tr>\n",
       "      <th>mean</th>\n",
       "      <td>5663.580500</td>\n",
       "      <td>5.921163e+03</td>\n",
       "      <td>5225.68150</td>\n",
       "      <td>4826.076867</td>\n",
       "      <td>4799.387633</td>\n",
       "      <td>5215.502567</td>\n",
       "    </tr>\n",
       "    <tr>\n",
       "      <th>std</th>\n",
       "      <td>16563.280354</td>\n",
       "      <td>2.304087e+04</td>\n",
       "      <td>17606.96147</td>\n",
       "      <td>15666.159744</td>\n",
       "      <td>15278.305679</td>\n",
       "      <td>17777.465775</td>\n",
       "    </tr>\n",
       "    <tr>\n",
       "      <th>min</th>\n",
       "      <td>0.000000</td>\n",
       "      <td>0.000000e+00</td>\n",
       "      <td>0.00000</td>\n",
       "      <td>0.000000</td>\n",
       "      <td>0.000000</td>\n",
       "      <td>0.000000</td>\n",
       "    </tr>\n",
       "    <tr>\n",
       "      <th>25%</th>\n",
       "      <td>1000.000000</td>\n",
       "      <td>8.330000e+02</td>\n",
       "      <td>390.00000</td>\n",
       "      <td>296.000000</td>\n",
       "      <td>252.500000</td>\n",
       "      <td>117.750000</td>\n",
       "    </tr>\n",
       "    <tr>\n",
       "      <th>50%</th>\n",
       "      <td>2100.000000</td>\n",
       "      <td>2.009000e+03</td>\n",
       "      <td>1800.00000</td>\n",
       "      <td>1500.000000</td>\n",
       "      <td>1500.000000</td>\n",
       "      <td>1500.000000</td>\n",
       "    </tr>\n",
       "    <tr>\n",
       "      <th>75%</th>\n",
       "      <td>5006.000000</td>\n",
       "      <td>5.000000e+03</td>\n",
       "      <td>4505.00000</td>\n",
       "      <td>4013.250000</td>\n",
       "      <td>4031.500000</td>\n",
       "      <td>4000.000000</td>\n",
       "    </tr>\n",
       "    <tr>\n",
       "      <th>max</th>\n",
       "      <td>873552.000000</td>\n",
       "      <td>1.684259e+06</td>\n",
       "      <td>896040.00000</td>\n",
       "      <td>621000.000000</td>\n",
       "      <td>426529.000000</td>\n",
       "      <td>528666.000000</td>\n",
       "    </tr>\n",
       "  </tbody>\n",
       "</table>\n",
       "</div>"
      ],
      "text/plain": [
       "            PAY_AMT1      PAY_AMT2      PAY_AMT3       PAY_AMT4  \\\n",
       "count   30000.000000  3.000000e+04   30000.00000   30000.000000   \n",
       "mean     5663.580500  5.921163e+03    5225.68150    4826.076867   \n",
       "std     16563.280354  2.304087e+04   17606.96147   15666.159744   \n",
       "min         0.000000  0.000000e+00       0.00000       0.000000   \n",
       "25%      1000.000000  8.330000e+02     390.00000     296.000000   \n",
       "50%      2100.000000  2.009000e+03    1800.00000    1500.000000   \n",
       "75%      5006.000000  5.000000e+03    4505.00000    4013.250000   \n",
       "max    873552.000000  1.684259e+06  896040.00000  621000.000000   \n",
       "\n",
       "            PAY_AMT5       PAY_AMT6  \n",
       "count   30000.000000   30000.000000  \n",
       "mean     4799.387633    5215.502567  \n",
       "std     15278.305679   17777.465775  \n",
       "min         0.000000       0.000000  \n",
       "25%       252.500000     117.750000  \n",
       "50%      1500.000000    1500.000000  \n",
       "75%      4031.500000    4000.000000  \n",
       "max    426529.000000  528666.000000  "
      ]
     },
     "execution_count": 20,
     "metadata": {},
     "output_type": "execute_result"
    }
   ],
   "source": [
    "#initial analysis of Payment amount variables\n",
    "credit[['PAY_AMT1','PAY_AMT2','PAY_AMT3','PAY_AMT4','PAY_AMT5','PAY_AMT6']].describe()"
   ]
  },
  {
   "cell_type": "code",
   "execution_count": 21,
   "metadata": {},
   "outputs": [
    {
     "data": {
      "text/html": [
       "<div>\n",
       "<style scoped>\n",
       "    .dataframe tbody tr th:only-of-type {\n",
       "        vertical-align: middle;\n",
       "    }\n",
       "\n",
       "    .dataframe tbody tr th {\n",
       "        vertical-align: top;\n",
       "    }\n",
       "\n",
       "    .dataframe thead th {\n",
       "        text-align: right;\n",
       "    }\n",
       "</style>\n",
       "<table border=\"1\" class=\"dataframe\">\n",
       "  <thead>\n",
       "    <tr style=\"text-align: right;\">\n",
       "      <th></th>\n",
       "      <th>BILL_AMT1</th>\n",
       "      <th>BILL_AMT2</th>\n",
       "      <th>BILL_AMT3</th>\n",
       "      <th>BILL_AMT4</th>\n",
       "      <th>BILL_AMT5</th>\n",
       "      <th>BILL_AMT6</th>\n",
       "    </tr>\n",
       "  </thead>\n",
       "  <tbody>\n",
       "    <tr>\n",
       "      <th>count</th>\n",
       "      <td>30000.000000</td>\n",
       "      <td>30000.000000</td>\n",
       "      <td>3.000000e+04</td>\n",
       "      <td>30000.000000</td>\n",
       "      <td>30000.000000</td>\n",
       "      <td>30000.000000</td>\n",
       "    </tr>\n",
       "    <tr>\n",
       "      <th>mean</th>\n",
       "      <td>51223.330900</td>\n",
       "      <td>49179.075167</td>\n",
       "      <td>4.701315e+04</td>\n",
       "      <td>43262.948967</td>\n",
       "      <td>40311.400967</td>\n",
       "      <td>38871.760400</td>\n",
       "    </tr>\n",
       "    <tr>\n",
       "      <th>std</th>\n",
       "      <td>73635.860576</td>\n",
       "      <td>71173.768783</td>\n",
       "      <td>6.934939e+04</td>\n",
       "      <td>64332.856134</td>\n",
       "      <td>60797.155770</td>\n",
       "      <td>59554.107537</td>\n",
       "    </tr>\n",
       "    <tr>\n",
       "      <th>min</th>\n",
       "      <td>-165580.000000</td>\n",
       "      <td>-69777.000000</td>\n",
       "      <td>-1.572640e+05</td>\n",
       "      <td>-170000.000000</td>\n",
       "      <td>-81334.000000</td>\n",
       "      <td>-339603.000000</td>\n",
       "    </tr>\n",
       "    <tr>\n",
       "      <th>25%</th>\n",
       "      <td>3558.750000</td>\n",
       "      <td>2984.750000</td>\n",
       "      <td>2.666250e+03</td>\n",
       "      <td>2326.750000</td>\n",
       "      <td>1763.000000</td>\n",
       "      <td>1256.000000</td>\n",
       "    </tr>\n",
       "    <tr>\n",
       "      <th>50%</th>\n",
       "      <td>22381.500000</td>\n",
       "      <td>21200.000000</td>\n",
       "      <td>2.008850e+04</td>\n",
       "      <td>19052.000000</td>\n",
       "      <td>18104.500000</td>\n",
       "      <td>17071.000000</td>\n",
       "    </tr>\n",
       "    <tr>\n",
       "      <th>75%</th>\n",
       "      <td>67091.000000</td>\n",
       "      <td>64006.250000</td>\n",
       "      <td>6.016475e+04</td>\n",
       "      <td>54506.000000</td>\n",
       "      <td>50190.500000</td>\n",
       "      <td>49198.250000</td>\n",
       "    </tr>\n",
       "    <tr>\n",
       "      <th>max</th>\n",
       "      <td>964511.000000</td>\n",
       "      <td>983931.000000</td>\n",
       "      <td>1.664089e+06</td>\n",
       "      <td>891586.000000</td>\n",
       "      <td>927171.000000</td>\n",
       "      <td>961664.000000</td>\n",
       "    </tr>\n",
       "  </tbody>\n",
       "</table>\n",
       "</div>"
      ],
      "text/plain": [
       "           BILL_AMT1      BILL_AMT2     BILL_AMT3      BILL_AMT4  \\\n",
       "count   30000.000000   30000.000000  3.000000e+04   30000.000000   \n",
       "mean    51223.330900   49179.075167  4.701315e+04   43262.948967   \n",
       "std     73635.860576   71173.768783  6.934939e+04   64332.856134   \n",
       "min   -165580.000000  -69777.000000 -1.572640e+05 -170000.000000   \n",
       "25%      3558.750000    2984.750000  2.666250e+03    2326.750000   \n",
       "50%     22381.500000   21200.000000  2.008850e+04   19052.000000   \n",
       "75%     67091.000000   64006.250000  6.016475e+04   54506.000000   \n",
       "max    964511.000000  983931.000000  1.664089e+06  891586.000000   \n",
       "\n",
       "           BILL_AMT5      BILL_AMT6  \n",
       "count   30000.000000   30000.000000  \n",
       "mean    40311.400967   38871.760400  \n",
       "std     60797.155770   59554.107537  \n",
       "min    -81334.000000 -339603.000000  \n",
       "25%      1763.000000    1256.000000  \n",
       "50%     18104.500000   17071.000000  \n",
       "75%     50190.500000   49198.250000  \n",
       "max    927171.000000  961664.000000  "
      ]
     },
     "execution_count": 21,
     "metadata": {},
     "output_type": "execute_result"
    }
   ],
   "source": [
    "#Initial analysis of Bill amount variables\n",
    "credit[['BILL_AMT1','BILL_AMT2','BILL_AMT3','BILL_AMT4','BILL_AMT5','BILL_AMT6']].describe()"
   ]
  },
  {
   "cell_type": "code",
   "execution_count": 22,
   "metadata": {},
   "outputs": [
    {
     "data": {
      "text/html": [
       "<div>\n",
       "<style scoped>\n",
       "    .dataframe tbody tr th:only-of-type {\n",
       "        vertical-align: middle;\n",
       "    }\n",
       "\n",
       "    .dataframe tbody tr th {\n",
       "        vertical-align: top;\n",
       "    }\n",
       "\n",
       "    .dataframe thead th {\n",
       "        text-align: right;\n",
       "    }\n",
       "</style>\n",
       "<table border=\"1\" class=\"dataframe\">\n",
       "  <thead>\n",
       "    <tr style=\"text-align: right;\">\n",
       "      <th></th>\n",
       "      <th>LIMIT_BAL</th>\n",
       "    </tr>\n",
       "  </thead>\n",
       "  <tbody>\n",
       "    <tr>\n",
       "      <th>count</th>\n",
       "      <td>30000.000000</td>\n",
       "    </tr>\n",
       "    <tr>\n",
       "      <th>mean</th>\n",
       "      <td>167484.322667</td>\n",
       "    </tr>\n",
       "    <tr>\n",
       "      <th>std</th>\n",
       "      <td>129747.661567</td>\n",
       "    </tr>\n",
       "    <tr>\n",
       "      <th>min</th>\n",
       "      <td>10000.000000</td>\n",
       "    </tr>\n",
       "    <tr>\n",
       "      <th>25%</th>\n",
       "      <td>50000.000000</td>\n",
       "    </tr>\n",
       "    <tr>\n",
       "      <th>50%</th>\n",
       "      <td>140000.000000</td>\n",
       "    </tr>\n",
       "    <tr>\n",
       "      <th>75%</th>\n",
       "      <td>240000.000000</td>\n",
       "    </tr>\n",
       "    <tr>\n",
       "      <th>max</th>\n",
       "      <td>1000000.000000</td>\n",
       "    </tr>\n",
       "  </tbody>\n",
       "</table>\n",
       "</div>"
      ],
      "text/plain": [
       "            LIMIT_BAL\n",
       "count    30000.000000\n",
       "mean    167484.322667\n",
       "std     129747.661567\n",
       "min      10000.000000\n",
       "25%      50000.000000\n",
       "50%     140000.000000\n",
       "75%     240000.000000\n",
       "max    1000000.000000"
      ]
     },
     "execution_count": 22,
     "metadata": {},
     "output_type": "execute_result"
    }
   ],
   "source": [
    "#initial analysis of Payment amount variable\n",
    "credit[['LIMIT_BAL']].describe()"
   ]
  },
  {
   "cell_type": "markdown",
   "metadata": {},
   "source": [
    "## Visualization"
   ]
  },
  {
   "cell_type": "code",
   "execution_count": 23,
   "metadata": {},
   "outputs": [],
   "source": [
    "#Function to print percentage of defaults and non defaults according to different faactors\n",
    "\n",
    "def percentage_ratio(default_count, total_count, label):\n",
    "    print(\"Percentage of defaults in \", label ,\" is: \" +\"{:.0f}\".format(((default_count * 100)/total_count))+\"%\")\n",
    "    \n",
    "\n",
    "def draw_histograms(pay_data,variables, n_rows, n_cols, n_bins):\n",
    "    fig = plt.figure()\n",
    "    for i, var_name in enumerate(variables):\n",
    "        ax = fig.add_subplot(n_rows, n_cols, i+1)\n",
    "        credit[var_name].hist(bins=n_bins, ax=ax)\n",
    "        ax.set_title(var_name)\n",
    "    fig.tight_layout()\n",
    "    plt.show()"
   ]
  },
  {
   "cell_type": "code",
   "execution_count": 24,
   "metadata": {},
   "outputs": [
    {
     "name": "stdout",
     "output_type": "stream",
     "text": [
      "Percentage of defaults in  Default  is: 22%\n",
      "Percentage of defaults in  No Default  is: 78%\n"
     ]
    },
    {
     "data": {
      "image/png": "[encoded data removed]",
      "text/plain": [
       "<Figure size 540x360 with 1 Axes>"
      ]
     },
     "metadata": {
      "needs_background": "light"
     },
     "output_type": "display_data"
    }
   ],
   "source": [
    "#Defaults and No Defaults plot\n",
    "defaults = sn.catplot(x='default_pay', data=credit, kind='count', aspect=1.5)\n",
    "for x in sorted(credit['default_pay'].unique()):\n",
    "    default_count = credit['default_pay'].count()\n",
    "    credit_default = credit['default_pay'][(credit['default_pay']== x)].count()\n",
    "    percentage_ratio(credit_default,default_count, x)"
   ]
  },
  {
   "cell_type": "markdown",
   "metadata": {},
   "source": [
    "About 78% of the data population is not defaulted, however there are about 22% of the population are defulted. Lets get into detailed analysis on how each factor is affecting the credit defaults."
   ]
  },
  {
   "cell_type": "markdown",
   "metadata": {},
   "source": [
    "### 1. Age Factor"
   ]
  },
  {
   "cell_type": "code",
   "execution_count": 25,
   "metadata": {},
   "outputs": [
    {
     "name": "stdout",
     "output_type": "stream",
     "text": [
      "Percentage of defaults in  20s  is: 23%\n",
      "Percentage of defaults in  30s  is: 20%\n",
      "Percentage of defaults in  40s  is: 23%\n",
      "Percentage of defaults in  50s  is: 25%\n",
      "Percentage of defaults in  60s  is: 28%\n",
      "Percentage of defaults in  70s  is: 28%\n"
     ]
    },
    {
     "data": {
      "image/png": "[encoded data removed]",
      "text/plain": [
       "<Figure size 629.375x360 with 1 Axes>"
      ]
     },
     "metadata": {
      "needs_background": "light"
     },
     "output_type": "display_data"
    }
   ],
   "source": [
    "#Visulise the data on Age Factor.\n",
    "agegroup = sn.catplot(x= 'age_by_decade' ,hue= 'default_pay', data= credit, kind= 'count', aspect = 1.5)\n",
    "\n",
    "for x in sorted(credit['age_by_decade'].unique()):\n",
    "    Age_count = credit['age_by_decade'][credit['age_by_decade']==x].count()\n",
    "    credit_default_byage = credit['age_by_decade'][(credit['age_by_decade']== x) & (credit['default_pay'] =='Default')].count()\n",
    "    percentage_ratio(credit_default_byage,Age_count, x)"
   ]
  },
  {
   "cell_type": "code",
   "execution_count": 26,
   "metadata": {
    "scrolled": true
   },
   "outputs": [
    {
     "data": {
      "text/plain": [
       "<seaborn.axisgrid.FacetGrid at 0x1eb21ba6d30>"
      ]
     },
     "execution_count": 26,
     "metadata": {},
     "output_type": "execute_result"
    },
    {
     "data": {
      "image/png": "[encoded data removed]",
      "text/plain": [
       "<Figure size 953.375x216 with 1 Axes>"
      ]
     },
     "metadata": {
      "needs_background": "light"
     },
     "output_type": "display_data"
    }
   ],
   "source": [
    "#Distribution of Age of customers who defaults\n",
    "fig = sn.FacetGrid(credit, hue='default_pay', aspect=4)\n",
    "fig.map(sn.kdeplot, 'AGE', shade=True)\n",
    "oldest = credit['AGE'].max()\n",
    "fig.set(xlim=(0,oldest))\n",
    "fig.set(title='Distribution of Age Grouped by defaults')\n",
    "fig.add_legend()"
   ]
  },
  {
   "cell_type": "markdown",
   "metadata": {},
   "source": [
    "The above category plot and distribution plot shows that the age groups between 20-40 are more likely to default compared to the other age groups. "
   ]
  },
  {
   "cell_type": "markdown",
   "metadata": {},
   "source": [
    "#### Distribution of Age on Marital status"
   ]
  },
  {
   "cell_type": "code",
   "execution_count": 27,
   "metadata": {},
   "outputs": [
    {
     "data": {
      "text/plain": [
       "<seaborn.axisgrid.FacetGrid at 0x1eb2220c250>"
      ]
     },
     "execution_count": 27,
     "metadata": {},
     "output_type": "execute_result"
    },
    {
     "data": {
      "image/png": "[encoded data removed]",
      "text/plain": [
       "<Figure size 938.25x216 with 1 Axes>"
      ]
     },
     "metadata": {
      "needs_background": "light"
     },
     "output_type": "display_data"
    }
   ],
   "source": [
    "fig = sn.FacetGrid(credit, hue='MARRIAGE', aspect=4)\n",
    "fig.map(sn.kdeplot, 'AGE', shade=True)\n",
    "oldest = credit['AGE'].max()\n",
    "fig.set(xlim=(0,oldest))\n",
    "fig.set(title='Distribution of Age Grouped by Marriage')\n",
    "fig.add_legend()"
   ]
  },
  {
   "cell_type": "markdown",
   "metadata": {},
   "source": [
    "The distribution plot above shows that the majority of the population are Single and are ranging from the age 20-40. the remaining population are distributed across all the marital status- Married, Divorce and Others."
   ]
  },
  {
   "cell_type": "markdown",
   "metadata": {},
   "source": [
    "#### Distribution of Age on Gender"
   ]
  },
  {
   "cell_type": "code",
   "execution_count": 28,
   "metadata": {},
   "outputs": [
    {
     "data": {
      "text/plain": [
       "<seaborn.axisgrid.FacetGrid at 0x1eb2220caf0>"
      ]
     },
     "execution_count": 28,
     "metadata": {},
     "output_type": "execute_result"
    },
    {
     "data": {
      "image/png": "[encoded data removed]",
      "text/plain": [
       "<Figure size 936.125x216 with 1 Axes>"
      ]
     },
     "metadata": {
      "needs_background": "light"
     },
     "output_type": "display_data"
    }
   ],
   "source": [
    "fig = sn.FacetGrid(credit, hue='SEX', aspect=4)\n",
    "fig.map(sn.kdeplot, 'AGE', shade=True)\n",
    "oldest = credit['AGE'].max()\n",
    "fig.set(xlim=(0,oldest))\n",
    "fig.set(title='Distribution of Age Grouped by Gender')\n",
    "fig.add_legend()\n",
    "\n",
    "### 2. Gender Factor"
   ]
  },
  {
   "cell_type": "markdown",
   "metadata": {},
   "source": [
    "The majority of the population are Female and are majorily between the age group of 20-40. "
   ]
  },
  {
   "cell_type": "markdown",
   "metadata": {},
   "source": [
    "## Gender Factor"
   ]
  },
  {
   "cell_type": "code",
   "execution_count": 29,
   "metadata": {},
   "outputs": [
    {
     "name": "stderr",
     "output_type": "stream",
     "text": [
      "C:\\Users\\nethu\\Ananconda31\\lib\\site-packages\\seaborn\\_decorators.py:36: FutureWarning: Pass the following variable as a keyword arg: x. From version 0.12, the only valid positional argument will be `data`, and passing other arguments without an explicit keyword will result in an error or misinterpretation.\n",
      "  warnings.warn(\n"
     ]
    },
    {
     "name": "stdout",
     "output_type": "stream",
     "text": [
      "Percentage of defaults in  Female  is: 21%\n",
      "Percentage of defaults in  Male  is: 24%\n"
     ]
    },
    {
     "data": {
      "image/png": "[encoded data removed]",
      "text/plain": [
       "<Figure size 629.375x360 with 1 Axes>"
      ]
     },
     "metadata": {
      "needs_background": "light"
     },
     "output_type": "display_data"
    }
   ],
   "source": [
    "gender = sn.catplot('SEX',hue='default_pay', data= credit, kind= 'count', aspect = 1.5)\n",
    "gender._legend.set_title('Default status')\n",
    "for x in credit['SEX'].unique():\n",
    "    gender_count = credit['SEX'][credit['SEX']==x].count()\n",
    "    credit_default_bygender = credit['SEX'][(credit['SEX']== x) & (credit['default_pay'] =='Default')].count()\n",
    "    percentage_ratio(credit_default_bygender,gender_count, x)"
   ]
  },
  {
   "cell_type": "markdown",
   "metadata": {},
   "source": [
    "As you can see above the majority of the population that are in the dataset are Female and are also more likely to be defaulted when compared to the Male population. The dataset shows about out of 18112 Female population atleast 21% of them are said to be defaulted. Whereas, for about 11888 male population about 24% are said to be defaulted."
   ]
  },
  {
   "cell_type": "markdown",
   "metadata": {},
   "source": [
    "### 3. Education Factor"
   ]
  },
  {
   "cell_type": "code",
   "execution_count": 30,
   "metadata": {
    "scrolled": true
   },
   "outputs": [
    {
     "name": "stdout",
     "output_type": "stream",
     "text": [
      "Percentage of defaults in  Graduate School  is: 19%\n",
      "Percentage of defaults in  High School  is: 25%\n",
      "Percentage of defaults in  Others  is: 7%\n",
      "Percentage of defaults in  University  is: 24%\n"
     ]
    },
    {
     "data": {
      "image/png": "[encoded data removed]",
      "text/plain": [
       "<Figure size 629.375x360 with 1 Axes>"
      ]
     },
     "metadata": {
      "needs_background": "light"
     },
     "output_type": "display_data"
    }
   ],
   "source": [
    "Education = sn.catplot('EDUCATION', hue='default_pay', data= credit, kind= 'count', aspect = 1.5, order= ['Graduate School','University','High School','Others'])\n",
    "Education._legend.set_title('Default status')\n",
    "for x in sorted(credit['EDUCATION'].unique()):\n",
    "    \n",
    "    Edu_count = credit['EDUCATION'][credit['EDUCATION']==x].count()\n",
    "    credit_default_byedu = credit['EDUCATION'][(credit['EDUCATION']== x) & (credit['default_pay'] =='Default')].count()\n",
    "   \n",
    "    percentage_ratio(credit_default_byedu,Edu_count, x)"
   ]
  },
  {
   "cell_type": "markdown",
   "metadata": {},
   "source": [
    "As per the above graph, The defaulters are likely to have education either from - Graduate School, High School or University."
   ]
  },
  {
   "cell_type": "markdown",
   "metadata": {},
   "source": [
    "### 4. Marriage Factor"
   ]
  },
  {
   "cell_type": "code",
   "execution_count": 31,
   "metadata": {},
   "outputs": [
    {
     "name": "stdout",
     "output_type": "stream",
     "text": [
      "Percentage of defaults in  Divorce  is: 26%\n",
      "Percentage of defaults in  Married  is: 23%\n",
      "Percentage of defaults in  Others  is: 9%\n",
      "Percentage of defaults in  Single  is: 21%\n"
     ]
    },
    {
     "data": {
      "image/png": "[encoded data removed]",
      "text/plain": [
       "<Figure size 629.375x360 with 1 Axes>"
      ]
     },
     "metadata": {
      "needs_background": "light"
     },
     "output_type": "display_data"
    }
   ],
   "source": [
    "maritalstatusgroup = sn.catplot('MARRIAGE',hue= 'default_pay', data= credit, kind= 'count', aspect = 1.5, order =['Single','Married','Divorce','Others'])\n",
    "maritalstatusgroup._legend.set_title('Default status')\n",
    "for x in sorted(credit['MARRIAGE'].unique()):\n",
    "    \n",
    "    marriage_count = credit['MARRIAGE'][credit['MARRIAGE']==x].count()\n",
    "    credit_default_bymar = credit['MARRIAGE'][(credit['MARRIAGE']== x) & (credit['default_pay'] =='Default')].count()\n",
    "    percentage_ratio(credit_default_bymar,marriage_count, x)"
   ]
  },
  {
   "cell_type": "markdown",
   "metadata": {},
   "source": [
    "If we consider Marriage factor, then we can see that the majority defaulters are either Single or Married.  "
   ]
  },
  {
   "cell_type": "markdown",
   "metadata": {},
   "source": [
    "#### Relationship between Age, Education and defaults"
   ]
  },
  {
   "cell_type": "code",
   "execution_count": 32,
   "metadata": {
    "scrolled": true
   },
   "outputs": [
    {
     "data": {
      "image/png": "[encoded data removed]",
      "text/plain": [
       "<Figure size 1241.38x288 with 4 Axes>"
      ]
     },
     "metadata": {
      "needs_background": "light"
     },
     "output_type": "display_data"
    }
   ],
   "source": [
    "g = sn.FacetGrid(credit, col='EDUCATION', hue='default_pay',height=4, aspect=1, sharey=False, col_order= ['Graduate School','University','High School','Others'])\n",
    "g = g.map(plt.hist, 'AGE', alpha=0.5).set_axis_labels('AGE','Count').set_titles((\"{col_name}\"))\n",
    "g.add_legend()\n",
    "g.savefig('Education_and_Age')"
   ]
  },
  {
   "cell_type": "markdown",
   "metadata": {},
   "source": [
    "After analysing how different factors are individually contributing to Defaults. We tried to establish relationship between the Factors to see how the Defaulters are distributed across the Dataset.\n",
    "As per the above graphs, we can rank in order the defaulters as below:\n",
    "1. Defaulters with age group 20-50 and with Education from University. \n",
    "2. Defaulters with age group 20-50 and with Education from Graduate School.\n",
    "3. Defaulters with age group 20-50 and with Education from High School.\n",
    "4. Defaulters with age group 20-50 and with other qualifications."
   ]
  },
  {
   "cell_type": "markdown",
   "metadata": {},
   "source": [
    "#### Relationship  between Marriage, Age and Default"
   ]
  },
  {
   "cell_type": "code",
   "execution_count": 33,
   "metadata": {},
   "outputs": [
    {
     "data": {
      "image/png": "[encoded data removed]",
      "text/plain": [
       "<Figure size 1152x288 with 4 Axes>"
      ]
     },
     "metadata": {
      "needs_background": "light"
     },
     "output_type": "display_data"
    }
   ],
   "source": [
    "g1 = sn.FacetGrid(credit, col='MARRIAGE', hue='default_pay',height=4, aspect=1, sharey=False)\n",
    "g1 = g1.map(plt.hist, 'AGE', alpha=0.5).set_axis_labels('AGE','Count').set_titles((\"{col_name}\"))\n",
    "\n",
    "g1.savefig('Marriage and age')"
   ]
  },
  {
   "cell_type": "markdown",
   "metadata": {},
   "source": [
    "As per the above graph, we can rank in order the defaulters based on their marital status and age as below:\n",
    "1. Defaulters with age group 20-50 and are Single.\n",
    "2. Defaulters with age group 20-50 and are Married.\n",
    "3. Defaulters with age group 20-50 and are Divorced.\n",
    "4. Defaulters with age group 20-40 with other marital status."
   ]
  },
  {
   "cell_type": "markdown",
   "metadata": {},
   "source": [
    "### 5. Payment Status"
   ]
  },
  {
   "cell_type": "code",
   "execution_count": 34,
   "metadata": {},
   "outputs": [],
   "source": [
    "def get_columns(prefix):\n",
    "    return[prefix+str(x) for x in range(1,7)]"
   ]
  },
  {
   "cell_type": "code",
   "execution_count": 35,
   "metadata": {
    "scrolled": true
   },
   "outputs": [
    {
     "name": "stderr",
     "output_type": "stream",
     "text": [
      "C:\\Users\\nethu\\Ananconda31\\lib\\site-packages\\seaborn\\categorical.py:3772: UserWarning: catplot is a figure-level function and does not accept target axes. You may wish to try countplot\n",
      "  warnings.warn(msg, UserWarning)\n"
     ]
    },
    {
     "data": {
      "image/png": "[encoded data removed]",
      "text/plain": [
       "<Figure size 1440x720 with 6 Axes>"
      ]
     },
     "metadata": {
      "needs_background": "light"
     },
     "output_type": "display_data"
    }
   ],
   "source": [
    "pay_columns = get_columns('PAY_')\n",
    "_, ax = plt.subplots(2,3, figsize=(20,10))\n",
    "for i in range(len(pay_columns)):\n",
    "    sn.catplot(pay_columns[i],hue= 'default_pay', data= credit, kind= 'count', aspect = 1.5,ax=ax[i//3][i%3] )\n",
    "    plt.close()"
   ]
  },
  {
   "cell_type": "markdown",
   "metadata": {},
   "source": [
    "The above graph says that, the majority of the customers are defaulted for delay in payment for 2 months.  "
   ]
  },
  {
   "cell_type": "markdown",
   "metadata": {},
   "source": [
    "### 6. Credit Limit"
   ]
  },
  {
   "cell_type": "code",
   "execution_count": 36,
   "metadata": {},
   "outputs": [
    {
     "data": {
      "text/plain": [
       "<seaborn.axisgrid.FacetGrid at 0x1eb26dcdd30>"
      ]
     },
     "execution_count": 36,
     "metadata": {},
     "output_type": "execute_result"
    },
    {
     "data": {
      "image/png": "[encoded data removed]",
      "text/plain": [
       "<Figure size 953.375x216 with 1 Axes>"
      ]
     },
     "metadata": {
      "needs_background": "light"
     },
     "output_type": "display_data"
    }
   ],
   "source": [
    "Limit = sn.FacetGrid(credit, hue='default_pay', aspect=4)\n",
    "Limit.map(sn.kdeplot, 'LIMIT_BAL', shade=True)\n",
    "Maxlimit = credit['LIMIT_BAL'].max()\n",
    "Limit.set(xlim=(0,Maxlimit))\n",
    "Limit.set(title='Distribution of Credit Limit by defaults')\n",
    "Limit.add_legend()\n"
   ]
  },
  {
   "cell_type": "markdown",
   "metadata": {},
   "source": [
    "#### Relationship between Age and Credit Limit"
   ]
  },
  {
   "cell_type": "code",
   "execution_count": 37,
   "metadata": {},
   "outputs": [
    {
     "data": {
      "image/png": "[encoded data removed]",
      "text/plain": [
       "<Figure size 432x288 with 1 Axes>"
      ]
     },
     "metadata": {
      "needs_background": "light"
     },
     "output_type": "display_data"
    }
   ],
   "source": [
    "plt.scatter(credit['AGE'], credit['LIMIT_BAL'],alpha=0.5)\n",
    "plt.show()\n"
   ]
  },
  {
   "cell_type": "raw",
   "metadata": {},
   "source": [
    "The credit limits upto $500,000 are higher between age groups 20-50. However, there are some population above age 25 and below 60 who have taken credit limits upto $800,000 and beyond."
   ]
  },
  {
   "cell_type": "code",
   "execution_count": 38,
   "metadata": {},
   "outputs": [
    {
     "name": "stderr",
     "output_type": "stream",
     "text": [
      "C:\\Users\\nethu\\Ananconda31\\lib\\site-packages\\seaborn\\_decorators.py:36: FutureWarning: Pass the following variables as keyword args: x, y. From version 0.12, the only valid positional argument will be `data`, and passing other arguments without an explicit keyword will result in an error or misinterpretation.\n",
      "  warnings.warn(\n"
     ]
    },
    {
     "data": {
      "image/png": "[encoded data removed]",
      "text/plain": [
       "<Figure size 432x288 with 1 Axes>"
      ]
     },
     "metadata": {
      "needs_background": "light"
     },
     "output_type": "display_data"
    }
   ],
   "source": [
    "sn.scatterplot(credit['EDUCATION'], credit['LIMIT_BAL'],alpha=1.0)\n",
    "plt.show()"
   ]
  },
  {
   "cell_type": "markdown",
   "metadata": {},
   "source": [
    "### 7. Payment Amount"
   ]
  },
  {
   "cell_type": "code",
   "execution_count": 39,
   "metadata": {
    "scrolled": true
   },
   "outputs": [
    {
     "data": {
      "image/png": "[encoded data removed]",
      "text/plain": [
       "<Figure size 432x288 with 6 Axes>"
      ]
     },
     "metadata": {
      "needs_background": "light"
     },
     "output_type": "display_data"
    }
   ],
   "source": [
    "pay_amt = credit[get_columns('PAY_AMT')]\n",
    "draw_histograms(pay_amt,pay_amt.columns, 2, 3, 4)"
   ]
  },
  {
   "cell_type": "code",
   "execution_count": 40,
   "metadata": {},
   "outputs": [
    {
     "data": {
      "text/html": [
       "<div>\n",
       "<style scoped>\n",
       "    .dataframe tbody tr th:only-of-type {\n",
       "        vertical-align: middle;\n",
       "    }\n",
       "\n",
       "    .dataframe tbody tr th {\n",
       "        vertical-align: top;\n",
       "    }\n",
       "\n",
       "    .dataframe thead th {\n",
       "        text-align: right;\n",
       "    }\n",
       "</style>\n",
       "<table border=\"1\" class=\"dataframe\">\n",
       "  <thead>\n",
       "    <tr style=\"text-align: right;\">\n",
       "      <th></th>\n",
       "      <th>LIMIT_BAL</th>\n",
       "      <th>AGE</th>\n",
       "      <th>SEX</th>\n",
       "      <th>EDUCATION</th>\n",
       "      <th>MARRIAGE</th>\n",
       "      <th>PAY_AMT1</th>\n",
       "      <th>PAY_AMT2</th>\n",
       "      <th>PAY_AMT3</th>\n",
       "      <th>PAY_AMT4</th>\n",
       "      <th>PAY_AMT5</th>\n",
       "      <th>PAY_AMT6</th>\n",
       "      <th>default_pay</th>\n",
       "    </tr>\n",
       "  </thead>\n",
       "  <tbody>\n",
       "    <tr>\n",
       "      <th>0</th>\n",
       "      <td>20000.0</td>\n",
       "      <td>24</td>\n",
       "      <td>Female</td>\n",
       "      <td>University</td>\n",
       "      <td>Married</td>\n",
       "      <td>0.0</td>\n",
       "      <td>689.0</td>\n",
       "      <td>0.0</td>\n",
       "      <td>0.0</td>\n",
       "      <td>0.0</td>\n",
       "      <td>0.0</td>\n",
       "      <td>Default</td>\n",
       "    </tr>\n",
       "    <tr>\n",
       "      <th>1</th>\n",
       "      <td>120000.0</td>\n",
       "      <td>26</td>\n",
       "      <td>Female</td>\n",
       "      <td>University</td>\n",
       "      <td>Single</td>\n",
       "      <td>0.0</td>\n",
       "      <td>1000.0</td>\n",
       "      <td>1000.0</td>\n",
       "      <td>1000.0</td>\n",
       "      <td>0.0</td>\n",
       "      <td>2000.0</td>\n",
       "      <td>Default</td>\n",
       "    </tr>\n",
       "    <tr>\n",
       "      <th>13</th>\n",
       "      <td>70000.0</td>\n",
       "      <td>30</td>\n",
       "      <td>Male</td>\n",
       "      <td>University</td>\n",
       "      <td>Single</td>\n",
       "      <td>3200.0</td>\n",
       "      <td>0.0</td>\n",
       "      <td>3000.0</td>\n",
       "      <td>3000.0</td>\n",
       "      <td>1500.0</td>\n",
       "      <td>0.0</td>\n",
       "      <td>Default</td>\n",
       "    </tr>\n",
       "    <tr>\n",
       "      <th>16</th>\n",
       "      <td>20000.0</td>\n",
       "      <td>24</td>\n",
       "      <td>Male</td>\n",
       "      <td>Graduate School</td>\n",
       "      <td>Single</td>\n",
       "      <td>3200.0</td>\n",
       "      <td>0.0</td>\n",
       "      <td>1500.0</td>\n",
       "      <td>0.0</td>\n",
       "      <td>1650.0</td>\n",
       "      <td>0.0</td>\n",
       "      <td>Default</td>\n",
       "    </tr>\n",
       "    <tr>\n",
       "      <th>21</th>\n",
       "      <td>120000.0</td>\n",
       "      <td>39</td>\n",
       "      <td>Female</td>\n",
       "      <td>University</td>\n",
       "      <td>Married</td>\n",
       "      <td>316.0</td>\n",
       "      <td>316.0</td>\n",
       "      <td>0.0</td>\n",
       "      <td>632.0</td>\n",
       "      <td>316.0</td>\n",
       "      <td>0.0</td>\n",
       "      <td>Default</td>\n",
       "    </tr>\n",
       "    <tr>\n",
       "      <th>22</th>\n",
       "      <td>70000.0</td>\n",
       "      <td>26</td>\n",
       "      <td>Female</td>\n",
       "      <td>University</td>\n",
       "      <td>Single</td>\n",
       "      <td>2007.0</td>\n",
       "      <td>3582.0</td>\n",
       "      <td>0.0</td>\n",
       "      <td>3601.0</td>\n",
       "      <td>0.0</td>\n",
       "      <td>1820.0</td>\n",
       "      <td>Default</td>\n",
       "    </tr>\n",
       "    <tr>\n",
       "      <th>23</th>\n",
       "      <td>450000.0</td>\n",
       "      <td>40</td>\n",
       "      <td>Female</td>\n",
       "      <td>Graduate School</td>\n",
       "      <td>Married</td>\n",
       "      <td>19428.0</td>\n",
       "      <td>1473.0</td>\n",
       "      <td>560.0</td>\n",
       "      <td>0.0</td>\n",
       "      <td>0.0</td>\n",
       "      <td>1128.0</td>\n",
       "      <td>Default</td>\n",
       "    </tr>\n",
       "    <tr>\n",
       "      <th>26</th>\n",
       "      <td>60000.0</td>\n",
       "      <td>27</td>\n",
       "      <td>Male</td>\n",
       "      <td>Graduate School</td>\n",
       "      <td>Single</td>\n",
       "      <td>0.0</td>\n",
       "      <td>1000.0</td>\n",
       "      <td>0.0</td>\n",
       "      <td>500.0</td>\n",
       "      <td>0.0</td>\n",
       "      <td>1000.0</td>\n",
       "      <td>Default</td>\n",
       "    </tr>\n",
       "    <tr>\n",
       "      <th>31</th>\n",
       "      <td>50000.0</td>\n",
       "      <td>33</td>\n",
       "      <td>Male</td>\n",
       "      <td>University</td>\n",
       "      <td>Single</td>\n",
       "      <td>1718.0</td>\n",
       "      <td>1500.0</td>\n",
       "      <td>1000.0</td>\n",
       "      <td>1000.0</td>\n",
       "      <td>1000.0</td>\n",
       "      <td>716.0</td>\n",
       "      <td>Default</td>\n",
       "    </tr>\n",
       "    <tr>\n",
       "      <th>38</th>\n",
       "      <td>50000.0</td>\n",
       "      <td>25</td>\n",
       "      <td>Male</td>\n",
       "      <td>Graduate School</td>\n",
       "      <td>Single</td>\n",
       "      <td>780.0</td>\n",
       "      <td>0.0</td>\n",
       "      <td>0.0</td>\n",
       "      <td>0.0</td>\n",
       "      <td>0.0</td>\n",
       "      <td>0.0</td>\n",
       "      <td>Default</td>\n",
       "    </tr>\n",
       "  </tbody>\n",
       "</table>\n",
       "</div>"
      ],
      "text/plain": [
       "    LIMIT_BAL  AGE     SEX        EDUCATION MARRIAGE  PAY_AMT1  PAY_AMT2  \\\n",
       "0     20000.0   24  Female       University  Married       0.0     689.0   \n",
       "1    120000.0   26  Female       University   Single       0.0    1000.0   \n",
       "13    70000.0   30    Male       University   Single    3200.0       0.0   \n",
       "16    20000.0   24    Male  Graduate School   Single    3200.0       0.0   \n",
       "21   120000.0   39  Female       University  Married     316.0     316.0   \n",
       "22    70000.0   26  Female       University   Single    2007.0    3582.0   \n",
       "23   450000.0   40  Female  Graduate School  Married   19428.0    1473.0   \n",
       "26    60000.0   27    Male  Graduate School   Single       0.0    1000.0   \n",
       "31    50000.0   33    Male       University   Single    1718.0    1500.0   \n",
       "38    50000.0   25    Male  Graduate School   Single     780.0       0.0   \n",
       "\n",
       "    PAY_AMT3  PAY_AMT4  PAY_AMT5  PAY_AMT6 default_pay  \n",
       "0        0.0       0.0       0.0       0.0     Default  \n",
       "1     1000.0    1000.0       0.0    2000.0     Default  \n",
       "13    3000.0    3000.0    1500.0       0.0     Default  \n",
       "16    1500.0       0.0    1650.0       0.0     Default  \n",
       "21       0.0     632.0     316.0       0.0     Default  \n",
       "22       0.0    3601.0       0.0    1820.0     Default  \n",
       "23     560.0       0.0       0.0    1128.0     Default  \n",
       "26       0.0     500.0       0.0    1000.0     Default  \n",
       "31    1000.0    1000.0    1000.0     716.0     Default  \n",
       "38       0.0       0.0       0.0       0.0     Default  "
      ]
     },
     "execution_count": 40,
     "metadata": {},
     "output_type": "execute_result"
    }
   ],
   "source": [
    "pay_amt= pd.DataFrame(credit[['LIMIT_BAL','AGE','SEX','EDUCATION','MARRIAGE','PAY_AMT1', 'PAY_AMT2', 'PAY_AMT3', 'PAY_AMT4', 'PAY_AMT5', 'PAY_AMT6', 'default_pay']])\n",
    "pay_amt[pay_amt['default_pay']== 'Default'].head(10)"
   ]
  },
  {
   "cell_type": "markdown",
   "metadata": {},
   "source": [
    "### 8. Bill Amount"
   ]
  },
  {
   "cell_type": "code",
   "execution_count": 41,
   "metadata": {},
   "outputs": [
    {
     "data": {
      "image/png": "[encoded data removed]",
      "text/plain": [
       "<Figure size 432x288 with 6 Axes>"
      ]
     },
     "metadata": {
      "needs_background": "light"
     },
     "output_type": "display_data"
    }
   ],
   "source": [
    "bill_amt = credit[get_columns('BILL_AMT')]\n",
    "draw_histograms(bill_amt,bill_amt.columns, 2, 3, 4)"
   ]
  },
  {
   "cell_type": "code",
   "execution_count": 42,
   "metadata": {},
   "outputs": [
    {
     "data": {
      "text/html": [
       "<div>\n",
       "<style scoped>\n",
       "    .dataframe tbody tr th:only-of-type {\n",
       "        vertical-align: middle;\n",
       "    }\n",
       "\n",
       "    .dataframe tbody tr th {\n",
       "        vertical-align: top;\n",
       "    }\n",
       "\n",
       "    .dataframe thead th {\n",
       "        text-align: right;\n",
       "    }\n",
       "</style>\n",
       "<table border=\"1\" class=\"dataframe\">\n",
       "  <thead>\n",
       "    <tr style=\"text-align: right;\">\n",
       "      <th></th>\n",
       "      <th>LIMIT_BAL</th>\n",
       "      <th>AGE</th>\n",
       "      <th>SEX</th>\n",
       "      <th>EDUCATION</th>\n",
       "      <th>MARRIAGE</th>\n",
       "      <th>BILL_AMT1</th>\n",
       "      <th>BILL_AMT2</th>\n",
       "      <th>BILL_AMT3</th>\n",
       "      <th>BILL_AMT4</th>\n",
       "      <th>BILL_AMT5</th>\n",
       "      <th>BILL_AMT6</th>\n",
       "      <th>default_pay</th>\n",
       "    </tr>\n",
       "  </thead>\n",
       "  <tbody>\n",
       "    <tr>\n",
       "      <th>0</th>\n",
       "      <td>20000.0</td>\n",
       "      <td>24</td>\n",
       "      <td>Female</td>\n",
       "      <td>University</td>\n",
       "      <td>Married</td>\n",
       "      <td>3913.0</td>\n",
       "      <td>3102.0</td>\n",
       "      <td>689.0</td>\n",
       "      <td>0.0</td>\n",
       "      <td>0.0</td>\n",
       "      <td>0.0</td>\n",
       "      <td>Default</td>\n",
       "    </tr>\n",
       "    <tr>\n",
       "      <th>1</th>\n",
       "      <td>120000.0</td>\n",
       "      <td>26</td>\n",
       "      <td>Female</td>\n",
       "      <td>University</td>\n",
       "      <td>Single</td>\n",
       "      <td>2682.0</td>\n",
       "      <td>1725.0</td>\n",
       "      <td>2682.0</td>\n",
       "      <td>3272.0</td>\n",
       "      <td>3455.0</td>\n",
       "      <td>3261.0</td>\n",
       "      <td>Default</td>\n",
       "    </tr>\n",
       "    <tr>\n",
       "      <th>13</th>\n",
       "      <td>70000.0</td>\n",
       "      <td>30</td>\n",
       "      <td>Male</td>\n",
       "      <td>University</td>\n",
       "      <td>Single</td>\n",
       "      <td>65802.0</td>\n",
       "      <td>67369.0</td>\n",
       "      <td>65701.0</td>\n",
       "      <td>66782.0</td>\n",
       "      <td>36137.0</td>\n",
       "      <td>36894.0</td>\n",
       "      <td>Default</td>\n",
       "    </tr>\n",
       "    <tr>\n",
       "      <th>16</th>\n",
       "      <td>20000.0</td>\n",
       "      <td>24</td>\n",
       "      <td>Male</td>\n",
       "      <td>Graduate School</td>\n",
       "      <td>Single</td>\n",
       "      <td>15376.0</td>\n",
       "      <td>18010.0</td>\n",
       "      <td>17428.0</td>\n",
       "      <td>18338.0</td>\n",
       "      <td>17905.0</td>\n",
       "      <td>19104.0</td>\n",
       "      <td>Default</td>\n",
       "    </tr>\n",
       "    <tr>\n",
       "      <th>21</th>\n",
       "      <td>120000.0</td>\n",
       "      <td>39</td>\n",
       "      <td>Female</td>\n",
       "      <td>University</td>\n",
       "      <td>Married</td>\n",
       "      <td>316.0</td>\n",
       "      <td>316.0</td>\n",
       "      <td>316.0</td>\n",
       "      <td>0.0</td>\n",
       "      <td>632.0</td>\n",
       "      <td>316.0</td>\n",
       "      <td>Default</td>\n",
       "    </tr>\n",
       "    <tr>\n",
       "      <th>22</th>\n",
       "      <td>70000.0</td>\n",
       "      <td>26</td>\n",
       "      <td>Female</td>\n",
       "      <td>University</td>\n",
       "      <td>Single</td>\n",
       "      <td>41087.0</td>\n",
       "      <td>42445.0</td>\n",
       "      <td>45020.0</td>\n",
       "      <td>44006.0</td>\n",
       "      <td>46905.0</td>\n",
       "      <td>46012.0</td>\n",
       "      <td>Default</td>\n",
       "    </tr>\n",
       "    <tr>\n",
       "      <th>23</th>\n",
       "      <td>450000.0</td>\n",
       "      <td>40</td>\n",
       "      <td>Female</td>\n",
       "      <td>Graduate School</td>\n",
       "      <td>Married</td>\n",
       "      <td>5512.0</td>\n",
       "      <td>19420.0</td>\n",
       "      <td>1473.0</td>\n",
       "      <td>560.0</td>\n",
       "      <td>0.0</td>\n",
       "      <td>0.0</td>\n",
       "      <td>Default</td>\n",
       "    </tr>\n",
       "    <tr>\n",
       "      <th>26</th>\n",
       "      <td>60000.0</td>\n",
       "      <td>27</td>\n",
       "      <td>Male</td>\n",
       "      <td>Graduate School</td>\n",
       "      <td>Single</td>\n",
       "      <td>-109.0</td>\n",
       "      <td>-425.0</td>\n",
       "      <td>259.0</td>\n",
       "      <td>-57.0</td>\n",
       "      <td>127.0</td>\n",
       "      <td>-189.0</td>\n",
       "      <td>Default</td>\n",
       "    </tr>\n",
       "    <tr>\n",
       "      <th>31</th>\n",
       "      <td>50000.0</td>\n",
       "      <td>33</td>\n",
       "      <td>Male</td>\n",
       "      <td>University</td>\n",
       "      <td>Single</td>\n",
       "      <td>30518.0</td>\n",
       "      <td>29618.0</td>\n",
       "      <td>22102.0</td>\n",
       "      <td>22734.0</td>\n",
       "      <td>23217.0</td>\n",
       "      <td>23680.0</td>\n",
       "      <td>Default</td>\n",
       "    </tr>\n",
       "    <tr>\n",
       "      <th>38</th>\n",
       "      <td>50000.0</td>\n",
       "      <td>25</td>\n",
       "      <td>Male</td>\n",
       "      <td>Graduate School</td>\n",
       "      <td>Single</td>\n",
       "      <td>0.0</td>\n",
       "      <td>780.0</td>\n",
       "      <td>0.0</td>\n",
       "      <td>0.0</td>\n",
       "      <td>0.0</td>\n",
       "      <td>0.0</td>\n",
       "      <td>Default</td>\n",
       "    </tr>\n",
       "  </tbody>\n",
       "</table>\n",
       "</div>"
      ],
      "text/plain": [
       "    LIMIT_BAL  AGE     SEX        EDUCATION MARRIAGE  BILL_AMT1  BILL_AMT2  \\\n",
       "0     20000.0   24  Female       University  Married     3913.0     3102.0   \n",
       "1    120000.0   26  Female       University   Single     2682.0     1725.0   \n",
       "13    70000.0   30    Male       University   Single    65802.0    67369.0   \n",
       "16    20000.0   24    Male  Graduate School   Single    15376.0    18010.0   \n",
       "21   120000.0   39  Female       University  Married      316.0      316.0   \n",
       "22    70000.0   26  Female       University   Single    41087.0    42445.0   \n",
       "23   450000.0   40  Female  Graduate School  Married     5512.0    19420.0   \n",
       "26    60000.0   27    Male  Graduate School   Single     -109.0     -425.0   \n",
       "31    50000.0   33    Male       University   Single    30518.0    29618.0   \n",
       "38    50000.0   25    Male  Graduate School   Single        0.0      780.0   \n",
       "\n",
       "    BILL_AMT3  BILL_AMT4  BILL_AMT5  BILL_AMT6 default_pay  \n",
       "0       689.0        0.0        0.0        0.0     Default  \n",
       "1      2682.0     3272.0     3455.0     3261.0     Default  \n",
       "13    65701.0    66782.0    36137.0    36894.0     Default  \n",
       "16    17428.0    18338.0    17905.0    19104.0     Default  \n",
       "21      316.0        0.0      632.0      316.0     Default  \n",
       "22    45020.0    44006.0    46905.0    46012.0     Default  \n",
       "23     1473.0      560.0        0.0        0.0     Default  \n",
       "26      259.0      -57.0      127.0     -189.0     Default  \n",
       "31    22102.0    22734.0    23217.0    23680.0     Default  \n",
       "38        0.0        0.0        0.0        0.0     Default  "
      ]
     },
     "execution_count": 42,
     "metadata": {},
     "output_type": "execute_result"
    }
   ],
   "source": [
    "bill_amt= pd.DataFrame(credit[['LIMIT_BAL', 'AGE','SEX','EDUCATION','MARRIAGE','BILL_AMT1', 'BILL_AMT2', 'BILL_AMT3', 'BILL_AMT4', 'BILL_AMT5', 'BILL_AMT6', 'default_pay']])\n",
    "bill_amt[bill_amt['default_pay']== 'Default'].head(10)\n"
   ]
  },
  {
   "cell_type": "code",
   "execution_count": 43,
   "metadata": {},
   "outputs": [
    {
     "data": {
      "text/html": [
       "<div>\n",
       "<style scoped>\n",
       "    .dataframe tbody tr th:only-of-type {\n",
       "        vertical-align: middle;\n",
       "    }\n",
       "\n",
       "    .dataframe tbody tr th {\n",
       "        vertical-align: top;\n",
       "    }\n",
       "\n",
       "    .dataframe thead th {\n",
       "        text-align: right;\n",
       "    }\n",
       "</style>\n",
       "<table border=\"1\" class=\"dataframe\">\n",
       "  <thead>\n",
       "    <tr style=\"text-align: right;\">\n",
       "      <th></th>\n",
       "      <th>LIMIT_BAL</th>\n",
       "      <th>SEX</th>\n",
       "      <th>EDUCATION</th>\n",
       "      <th>MARRIAGE</th>\n",
       "      <th>AGE</th>\n",
       "      <th>PAY_1</th>\n",
       "      <th>PAY_2</th>\n",
       "      <th>PAY_3</th>\n",
       "      <th>PAY_4</th>\n",
       "      <th>PAY_5</th>\n",
       "      <th>...</th>\n",
       "      <th>BILL_AMT5</th>\n",
       "      <th>BILL_AMT6</th>\n",
       "      <th>PAY_AMT1</th>\n",
       "      <th>PAY_AMT2</th>\n",
       "      <th>PAY_AMT3</th>\n",
       "      <th>PAY_AMT4</th>\n",
       "      <th>PAY_AMT5</th>\n",
       "      <th>PAY_AMT6</th>\n",
       "      <th>default_pay</th>\n",
       "      <th>age_by_decade</th>\n",
       "    </tr>\n",
       "  </thead>\n",
       "  <tbody>\n",
       "    <tr>\n",
       "      <th>0</th>\n",
       "      <td>20000.0</td>\n",
       "      <td>Female</td>\n",
       "      <td>University</td>\n",
       "      <td>Married</td>\n",
       "      <td>24</td>\n",
       "      <td>2</td>\n",
       "      <td>2</td>\n",
       "      <td>-1</td>\n",
       "      <td>-1</td>\n",
       "      <td>-2</td>\n",
       "      <td>...</td>\n",
       "      <td>0.0</td>\n",
       "      <td>0.0</td>\n",
       "      <td>0.0</td>\n",
       "      <td>689.0</td>\n",
       "      <td>0.0</td>\n",
       "      <td>0.0</td>\n",
       "      <td>0.0</td>\n",
       "      <td>0.0</td>\n",
       "      <td>Default</td>\n",
       "      <td>20s</td>\n",
       "    </tr>\n",
       "    <tr>\n",
       "      <th>1</th>\n",
       "      <td>120000.0</td>\n",
       "      <td>Female</td>\n",
       "      <td>University</td>\n",
       "      <td>Single</td>\n",
       "      <td>26</td>\n",
       "      <td>-1</td>\n",
       "      <td>2</td>\n",
       "      <td>0</td>\n",
       "      <td>0</td>\n",
       "      <td>0</td>\n",
       "      <td>...</td>\n",
       "      <td>3455.0</td>\n",
       "      <td>3261.0</td>\n",
       "      <td>0.0</td>\n",
       "      <td>1000.0</td>\n",
       "      <td>1000.0</td>\n",
       "      <td>1000.0</td>\n",
       "      <td>0.0</td>\n",
       "      <td>2000.0</td>\n",
       "      <td>Default</td>\n",
       "      <td>20s</td>\n",
       "    </tr>\n",
       "    <tr>\n",
       "      <th>2</th>\n",
       "      <td>90000.0</td>\n",
       "      <td>Female</td>\n",
       "      <td>University</td>\n",
       "      <td>Single</td>\n",
       "      <td>34</td>\n",
       "      <td>0</td>\n",
       "      <td>0</td>\n",
       "      <td>0</td>\n",
       "      <td>0</td>\n",
       "      <td>0</td>\n",
       "      <td>...</td>\n",
       "      <td>14948.0</td>\n",
       "      <td>15549.0</td>\n",
       "      <td>1518.0</td>\n",
       "      <td>1500.0</td>\n",
       "      <td>1000.0</td>\n",
       "      <td>1000.0</td>\n",
       "      <td>1000.0</td>\n",
       "      <td>5000.0</td>\n",
       "      <td>No Default</td>\n",
       "      <td>30s</td>\n",
       "    </tr>\n",
       "    <tr>\n",
       "      <th>3</th>\n",
       "      <td>50000.0</td>\n",
       "      <td>Female</td>\n",
       "      <td>University</td>\n",
       "      <td>Married</td>\n",
       "      <td>37</td>\n",
       "      <td>0</td>\n",
       "      <td>0</td>\n",
       "      <td>0</td>\n",
       "      <td>0</td>\n",
       "      <td>0</td>\n",
       "      <td>...</td>\n",
       "      <td>28959.0</td>\n",
       "      <td>29547.0</td>\n",
       "      <td>2000.0</td>\n",
       "      <td>2019.0</td>\n",
       "      <td>1200.0</td>\n",
       "      <td>1100.0</td>\n",
       "      <td>1069.0</td>\n",
       "      <td>1000.0</td>\n",
       "      <td>No Default</td>\n",
       "      <td>30s</td>\n",
       "    </tr>\n",
       "    <tr>\n",
       "      <th>4</th>\n",
       "      <td>50000.0</td>\n",
       "      <td>Male</td>\n",
       "      <td>University</td>\n",
       "      <td>Married</td>\n",
       "      <td>57</td>\n",
       "      <td>-1</td>\n",
       "      <td>0</td>\n",
       "      <td>-1</td>\n",
       "      <td>0</td>\n",
       "      <td>0</td>\n",
       "      <td>...</td>\n",
       "      <td>19146.0</td>\n",
       "      <td>19131.0</td>\n",
       "      <td>2000.0</td>\n",
       "      <td>36681.0</td>\n",
       "      <td>10000.0</td>\n",
       "      <td>9000.0</td>\n",
       "      <td>689.0</td>\n",
       "      <td>679.0</td>\n",
       "      <td>No Default</td>\n",
       "      <td>50s</td>\n",
       "    </tr>\n",
       "  </tbody>\n",
       "</table>\n",
       "<p>5 rows × 25 columns</p>\n",
       "</div>"
      ],
      "text/plain": [
       "   LIMIT_BAL     SEX   EDUCATION MARRIAGE  AGE PAY_1 PAY_2 PAY_3 PAY_4 PAY_5  \\\n",
       "0    20000.0  Female  University  Married   24     2     2    -1    -1    -2   \n",
       "1   120000.0  Female  University   Single   26    -1     2     0     0     0   \n",
       "2    90000.0  Female  University   Single   34     0     0     0     0     0   \n",
       "3    50000.0  Female  University  Married   37     0     0     0     0     0   \n",
       "4    50000.0    Male  University  Married   57    -1     0    -1     0     0   \n",
       "\n",
       "   ... BILL_AMT5  BILL_AMT6  PAY_AMT1  PAY_AMT2  PAY_AMT3  PAY_AMT4  PAY_AMT5  \\\n",
       "0  ...       0.0        0.0       0.0     689.0       0.0       0.0       0.0   \n",
       "1  ...    3455.0     3261.0       0.0    1000.0    1000.0    1000.0       0.0   \n",
       "2  ...   14948.0    15549.0    1518.0    1500.0    1000.0    1000.0    1000.0   \n",
       "3  ...   28959.0    29547.0    2000.0    2019.0    1200.0    1100.0    1069.0   \n",
       "4  ...   19146.0    19131.0    2000.0   36681.0   10000.0    9000.0     689.0   \n",
       "\n",
       "   PAY_AMT6  default_pay  age_by_decade  \n",
       "0       0.0      Default            20s  \n",
       "1    2000.0      Default            20s  \n",
       "2    5000.0   No Default            30s  \n",
       "3    1000.0   No Default            30s  \n",
       "4     679.0   No Default            50s  \n",
       "\n",
       "[5 rows x 25 columns]"
      ]
     },
     "execution_count": 43,
     "metadata": {},
     "output_type": "execute_result"
    }
   ],
   "source": [
    "credit.head()"
   ]
  },
  {
   "cell_type": "markdown",
   "metadata": {},
   "source": [
    "### Correlation"
   ]
  },
  {
   "cell_type": "code",
   "execution_count": 44,
   "metadata": {},
   "outputs": [
    {
     "data": {
      "text/html": [
       "<div>\n",
       "<style scoped>\n",
       "    .dataframe tbody tr th:only-of-type {\n",
       "        vertical-align: middle;\n",
       "    }\n",
       "\n",
       "    .dataframe tbody tr th {\n",
       "        vertical-align: top;\n",
       "    }\n",
       "\n",
       "    .dataframe thead th {\n",
       "        text-align: right;\n",
       "    }\n",
       "</style>\n",
       "<table border=\"1\" class=\"dataframe\">\n",
       "  <thead>\n",
       "    <tr style=\"text-align: right;\">\n",
       "      <th></th>\n",
       "      <th>LIMIT_BAL</th>\n",
       "      <th>AGE</th>\n",
       "      <th>BILL_AMT1</th>\n",
       "      <th>BILL_AMT2</th>\n",
       "      <th>BILL_AMT3</th>\n",
       "      <th>BILL_AMT4</th>\n",
       "      <th>BILL_AMT5</th>\n",
       "      <th>BILL_AMT6</th>\n",
       "      <th>PAY_AMT1</th>\n",
       "      <th>PAY_AMT2</th>\n",
       "      <th>PAY_AMT3</th>\n",
       "      <th>PAY_AMT4</th>\n",
       "      <th>PAY_AMT5</th>\n",
       "      <th>PAY_AMT6</th>\n",
       "    </tr>\n",
       "  </thead>\n",
       "  <tbody>\n",
       "    <tr>\n",
       "      <th>LIMIT_BAL</th>\n",
       "      <td>1.000000</td>\n",
       "      <td>0.144713</td>\n",
       "      <td>0.285430</td>\n",
       "      <td>0.278314</td>\n",
       "      <td>0.283236</td>\n",
       "      <td>0.293988</td>\n",
       "      <td>0.295562</td>\n",
       "      <td>0.290389</td>\n",
       "      <td>0.195236</td>\n",
       "      <td>0.178408</td>\n",
       "      <td>0.210167</td>\n",
       "      <td>0.203242</td>\n",
       "      <td>0.217202</td>\n",
       "      <td>0.219595</td>\n",
       "    </tr>\n",
       "    <tr>\n",
       "      <th>AGE</th>\n",
       "      <td>0.144713</td>\n",
       "      <td>1.000000</td>\n",
       "      <td>0.056239</td>\n",
       "      <td>0.054283</td>\n",
       "      <td>0.053710</td>\n",
       "      <td>0.051353</td>\n",
       "      <td>0.049345</td>\n",
       "      <td>0.047613</td>\n",
       "      <td>0.026147</td>\n",
       "      <td>0.021785</td>\n",
       "      <td>0.029247</td>\n",
       "      <td>0.021379</td>\n",
       "      <td>0.022850</td>\n",
       "      <td>0.019478</td>\n",
       "    </tr>\n",
       "    <tr>\n",
       "      <th>BILL_AMT1</th>\n",
       "      <td>0.285430</td>\n",
       "      <td>0.056239</td>\n",
       "      <td>1.000000</td>\n",
       "      <td>0.951484</td>\n",
       "      <td>0.892279</td>\n",
       "      <td>0.860272</td>\n",
       "      <td>0.829779</td>\n",
       "      <td>0.802650</td>\n",
       "      <td>0.140277</td>\n",
       "      <td>0.099355</td>\n",
       "      <td>0.156887</td>\n",
       "      <td>0.158303</td>\n",
       "      <td>0.167026</td>\n",
       "      <td>0.179341</td>\n",
       "    </tr>\n",
       "    <tr>\n",
       "      <th>BILL_AMT2</th>\n",
       "      <td>0.278314</td>\n",
       "      <td>0.054283</td>\n",
       "      <td>0.951484</td>\n",
       "      <td>1.000000</td>\n",
       "      <td>0.928326</td>\n",
       "      <td>0.892482</td>\n",
       "      <td>0.859778</td>\n",
       "      <td>0.831594</td>\n",
       "      <td>0.280365</td>\n",
       "      <td>0.100851</td>\n",
       "      <td>0.150718</td>\n",
       "      <td>0.147398</td>\n",
       "      <td>0.157957</td>\n",
       "      <td>0.174256</td>\n",
       "    </tr>\n",
       "    <tr>\n",
       "      <th>BILL_AMT3</th>\n",
       "      <td>0.283236</td>\n",
       "      <td>0.053710</td>\n",
       "      <td>0.892279</td>\n",
       "      <td>0.928326</td>\n",
       "      <td>1.000000</td>\n",
       "      <td>0.923969</td>\n",
       "      <td>0.883910</td>\n",
       "      <td>0.853320</td>\n",
       "      <td>0.244335</td>\n",
       "      <td>0.316936</td>\n",
       "      <td>0.130011</td>\n",
       "      <td>0.143405</td>\n",
       "      <td>0.179712</td>\n",
       "      <td>0.182326</td>\n",
       "    </tr>\n",
       "    <tr>\n",
       "      <th>BILL_AMT4</th>\n",
       "      <td>0.293988</td>\n",
       "      <td>0.051353</td>\n",
       "      <td>0.860272</td>\n",
       "      <td>0.892482</td>\n",
       "      <td>0.923969</td>\n",
       "      <td>1.000000</td>\n",
       "      <td>0.940134</td>\n",
       "      <td>0.900941</td>\n",
       "      <td>0.233012</td>\n",
       "      <td>0.207564</td>\n",
       "      <td>0.300023</td>\n",
       "      <td>0.130191</td>\n",
       "      <td>0.160433</td>\n",
       "      <td>0.177637</td>\n",
       "    </tr>\n",
       "    <tr>\n",
       "      <th>BILL_AMT5</th>\n",
       "      <td>0.295562</td>\n",
       "      <td>0.049345</td>\n",
       "      <td>0.829779</td>\n",
       "      <td>0.859778</td>\n",
       "      <td>0.883910</td>\n",
       "      <td>0.940134</td>\n",
       "      <td>1.000000</td>\n",
       "      <td>0.946197</td>\n",
       "      <td>0.217031</td>\n",
       "      <td>0.181246</td>\n",
       "      <td>0.252305</td>\n",
       "      <td>0.293118</td>\n",
       "      <td>0.141574</td>\n",
       "      <td>0.164184</td>\n",
       "    </tr>\n",
       "    <tr>\n",
       "      <th>BILL_AMT6</th>\n",
       "      <td>0.290389</td>\n",
       "      <td>0.047613</td>\n",
       "      <td>0.802650</td>\n",
       "      <td>0.831594</td>\n",
       "      <td>0.853320</td>\n",
       "      <td>0.900941</td>\n",
       "      <td>0.946197</td>\n",
       "      <td>1.000000</td>\n",
       "      <td>0.199965</td>\n",
       "      <td>0.172663</td>\n",
       "      <td>0.233770</td>\n",
       "      <td>0.250237</td>\n",
       "      <td>0.307729</td>\n",
       "      <td>0.115494</td>\n",
       "    </tr>\n",
       "    <tr>\n",
       "      <th>PAY_AMT1</th>\n",
       "      <td>0.195236</td>\n",
       "      <td>0.026147</td>\n",
       "      <td>0.140277</td>\n",
       "      <td>0.280365</td>\n",
       "      <td>0.244335</td>\n",
       "      <td>0.233012</td>\n",
       "      <td>0.217031</td>\n",
       "      <td>0.199965</td>\n",
       "      <td>1.000000</td>\n",
       "      <td>0.285576</td>\n",
       "      <td>0.252191</td>\n",
       "      <td>0.199558</td>\n",
       "      <td>0.148459</td>\n",
       "      <td>0.185735</td>\n",
       "    </tr>\n",
       "    <tr>\n",
       "      <th>PAY_AMT2</th>\n",
       "      <td>0.178408</td>\n",
       "      <td>0.021785</td>\n",
       "      <td>0.099355</td>\n",
       "      <td>0.100851</td>\n",
       "      <td>0.316936</td>\n",
       "      <td>0.207564</td>\n",
       "      <td>0.181246</td>\n",
       "      <td>0.172663</td>\n",
       "      <td>0.285576</td>\n",
       "      <td>1.000000</td>\n",
       "      <td>0.244770</td>\n",
       "      <td>0.180107</td>\n",
       "      <td>0.180908</td>\n",
       "      <td>0.157634</td>\n",
       "    </tr>\n",
       "    <tr>\n",
       "      <th>PAY_AMT3</th>\n",
       "      <td>0.210167</td>\n",
       "      <td>0.029247</td>\n",
       "      <td>0.156887</td>\n",
       "      <td>0.150718</td>\n",
       "      <td>0.130011</td>\n",
       "      <td>0.300023</td>\n",
       "      <td>0.252305</td>\n",
       "      <td>0.233770</td>\n",
       "      <td>0.252191</td>\n",
       "      <td>0.244770</td>\n",
       "      <td>1.000000</td>\n",
       "      <td>0.216325</td>\n",
       "      <td>0.159214</td>\n",
       "      <td>0.162740</td>\n",
       "    </tr>\n",
       "    <tr>\n",
       "      <th>PAY_AMT4</th>\n",
       "      <td>0.203242</td>\n",
       "      <td>0.021379</td>\n",
       "      <td>0.158303</td>\n",
       "      <td>0.147398</td>\n",
       "      <td>0.143405</td>\n",
       "      <td>0.130191</td>\n",
       "      <td>0.293118</td>\n",
       "      <td>0.250237</td>\n",
       "      <td>0.199558</td>\n",
       "      <td>0.180107</td>\n",
       "      <td>0.216325</td>\n",
       "      <td>1.000000</td>\n",
       "      <td>0.151830</td>\n",
       "      <td>0.157834</td>\n",
       "    </tr>\n",
       "    <tr>\n",
       "      <th>PAY_AMT5</th>\n",
       "      <td>0.217202</td>\n",
       "      <td>0.022850</td>\n",
       "      <td>0.167026</td>\n",
       "      <td>0.157957</td>\n",
       "      <td>0.179712</td>\n",
       "      <td>0.160433</td>\n",
       "      <td>0.141574</td>\n",
       "      <td>0.307729</td>\n",
       "      <td>0.148459</td>\n",
       "      <td>0.180908</td>\n",
       "      <td>0.159214</td>\n",
       "      <td>0.151830</td>\n",
       "      <td>1.000000</td>\n",
       "      <td>0.154896</td>\n",
       "    </tr>\n",
       "    <tr>\n",
       "      <th>PAY_AMT6</th>\n",
       "      <td>0.219595</td>\n",
       "      <td>0.019478</td>\n",
       "      <td>0.179341</td>\n",
       "      <td>0.174256</td>\n",
       "      <td>0.182326</td>\n",
       "      <td>0.177637</td>\n",
       "      <td>0.164184</td>\n",
       "      <td>0.115494</td>\n",
       "      <td>0.185735</td>\n",
       "      <td>0.157634</td>\n",
       "      <td>0.162740</td>\n",
       "      <td>0.157834</td>\n",
       "      <td>0.154896</td>\n",
       "      <td>1.000000</td>\n",
       "    </tr>\n",
       "  </tbody>\n",
       "</table>\n",
       "</div>"
      ],
      "text/plain": [
       "           LIMIT_BAL       AGE  BILL_AMT1  BILL_AMT2  BILL_AMT3  BILL_AMT4  \\\n",
       "LIMIT_BAL   1.000000  0.144713   0.285430   0.278314   0.283236   0.293988   \n",
       "AGE         0.144713  1.000000   0.056239   0.054283   0.053710   0.051353   \n",
       "BILL_AMT1   0.285430  0.056239   1.000000   0.951484   0.892279   0.860272   \n",
       "BILL_AMT2   0.278314  0.054283   0.951484   1.000000   0.928326   0.892482   \n",
       "BILL_AMT3   0.283236  0.053710   0.892279   0.928326   1.000000   0.923969   \n",
       "BILL_AMT4   0.293988  0.051353   0.860272   0.892482   0.923969   1.000000   \n",
       "BILL_AMT5   0.295562  0.049345   0.829779   0.859778   0.883910   0.940134   \n",
       "BILL_AMT6   0.290389  0.047613   0.802650   0.831594   0.853320   0.900941   \n",
       "PAY_AMT1    0.195236  0.026147   0.140277   0.280365   0.244335   0.233012   \n",
       "PAY_AMT2    0.178408  0.021785   0.099355   0.100851   0.316936   0.207564   \n",
       "PAY_AMT3    0.210167  0.029247   0.156887   0.150718   0.130011   0.300023   \n",
       "PAY_AMT4    0.203242  0.021379   0.158303   0.147398   0.143405   0.130191   \n",
       "PAY_AMT5    0.217202  0.022850   0.167026   0.157957   0.179712   0.160433   \n",
       "PAY_AMT6    0.219595  0.019478   0.179341   0.174256   0.182326   0.177637   \n",
       "\n",
       "           BILL_AMT5  BILL_AMT6  PAY_AMT1  PAY_AMT2  PAY_AMT3  PAY_AMT4  \\\n",
       "LIMIT_BAL   0.295562   0.290389  0.195236  0.178408  0.210167  0.203242   \n",
       "AGE         0.049345   0.047613  0.026147  0.021785  0.029247  0.021379   \n",
       "BILL_AMT1   0.829779   0.802650  0.140277  0.099355  0.156887  0.158303   \n",
       "BILL_AMT2   0.859778   0.831594  0.280365  0.100851  0.150718  0.147398   \n",
       "BILL_AMT3   0.883910   0.853320  0.244335  0.316936  0.130011  0.143405   \n",
       "BILL_AMT4   0.940134   0.900941  0.233012  0.207564  0.300023  0.130191   \n",
       "BILL_AMT5   1.000000   0.946197  0.217031  0.181246  0.252305  0.293118   \n",
       "BILL_AMT6   0.946197   1.000000  0.199965  0.172663  0.233770  0.250237   \n",
       "PAY_AMT1    0.217031   0.199965  1.000000  0.285576  0.252191  0.199558   \n",
       "PAY_AMT2    0.181246   0.172663  0.285576  1.000000  0.244770  0.180107   \n",
       "PAY_AMT3    0.252305   0.233770  0.252191  0.244770  1.000000  0.216325   \n",
       "PAY_AMT4    0.293118   0.250237  0.199558  0.180107  0.216325  1.000000   \n",
       "PAY_AMT5    0.141574   0.307729  0.148459  0.180908  0.159214  0.151830   \n",
       "PAY_AMT6    0.164184   0.115494  0.185735  0.157634  0.162740  0.157834   \n",
       "\n",
       "           PAY_AMT5  PAY_AMT6  \n",
       "LIMIT_BAL  0.217202  0.219595  \n",
       "AGE        0.022850  0.019478  \n",
       "BILL_AMT1  0.167026  0.179341  \n",
       "BILL_AMT2  0.157957  0.174256  \n",
       "BILL_AMT3  0.179712  0.182326  \n",
       "BILL_AMT4  0.160433  0.177637  \n",
       "BILL_AMT5  0.141574  0.164184  \n",
       "BILL_AMT6  0.307729  0.115494  \n",
       "PAY_AMT1   0.148459  0.185735  \n",
       "PAY_AMT2   0.180908  0.157634  \n",
       "PAY_AMT3   0.159214  0.162740  \n",
       "PAY_AMT4   0.151830  0.157834  \n",
       "PAY_AMT5   1.000000  0.154896  \n",
       "PAY_AMT6   0.154896  1.000000  "
      ]
     },
     "execution_count": 44,
     "metadata": {},
     "output_type": "execute_result"
    }
   ],
   "source": [
    "#Correlation\n",
    "corr_credit = credit.corr()\n",
    "corr_credit"
   ]
  },
  {
   "cell_type": "code",
   "execution_count": 90,
   "metadata": {},
   "outputs": [
    {
     "data": {
      "text/plain": [
       "<AxesSubplot:>"
      ]
     },
     "execution_count": 90,
     "metadata": {},
     "output_type": "execute_result"
    },
    {
     "data": {
      "image/png": "[encoded data removed]",
      "text/plain": [
       "<Figure size 432x288 with 2 Axes>"
      ]
     },
     "metadata": {
      "needs_background": "light"
     },
     "output_type": "display_data"
    }
   ],
   "source": [
    "cmap = sn.diverging_palette(220, 10, as_cmap=True)\n",
    "sn.heatmap(corr_credit,cmap='Greens', vmin=0,vmax=1, center=0,\n",
    "            square=True, linewidths=.5)"
   ]
  },
  {
   "cell_type": "markdown",
   "metadata": {},
   "source": [
    "1. We see that there is high correlation between the variables BILL_AMTX and their correlation also increases with time. i.e., the BILL_AMT2 is highly correlated with BILL_AMT1 when compared to other BILL_AMTX variables. This indicates that the Bill amount increases month by month.\n",
    "2. We also noticed a kind of pattern that exists between BILL_AMTX and PAY_AMTX variables. The BILL_AMT2 is highly correlated to PAY_AMT1. Which means that the Amount of Bill Statement in August is correlated to Amount paid in September. This is a similar pattern observed between BILL_AMTX and PAY_AMTX+1.\n",
    "3. Credit Limit is correlated to all variables. But, its comparitevly high with variables BILL_AMTX and PAY_AMTX:\n",
    "    we can consider 2 reasons here:\n",
    "     1. Considering the increase in Previous Payment history, the customer would be provided with higher credit limit.\n",
    "     2. Since the Credit Limit increases the Bill amount also increases."
   ]
  },
  {
   "cell_type": "markdown",
   "metadata": {},
   "source": [
    "### Covariance"
   ]
  },
  {
   "cell_type": "code",
   "execution_count": 46,
   "metadata": {
    "scrolled": false
   },
   "outputs": [
    {
     "data": {
      "text/html": [
       "<div>\n",
       "<style scoped>\n",
       "    .dataframe tbody tr th:only-of-type {\n",
       "        vertical-align: middle;\n",
       "    }\n",
       "\n",
       "    .dataframe tbody tr th {\n",
       "        vertical-align: top;\n",
       "    }\n",
       "\n",
       "    .dataframe thead th {\n",
       "        text-align: right;\n",
       "    }\n",
       "</style>\n",
       "<table border=\"1\" class=\"dataframe\">\n",
       "  <thead>\n",
       "    <tr style=\"text-align: right;\">\n",
       "      <th></th>\n",
       "      <th>LIMIT_BAL</th>\n",
       "      <th>AGE</th>\n",
       "      <th>BILL_AMT1</th>\n",
       "      <th>BILL_AMT2</th>\n",
       "      <th>BILL_AMT3</th>\n",
       "      <th>BILL_AMT4</th>\n",
       "      <th>BILL_AMT5</th>\n",
       "      <th>BILL_AMT6</th>\n",
       "      <th>PAY_AMT1</th>\n",
       "      <th>PAY_AMT2</th>\n",
       "      <th>PAY_AMT3</th>\n",
       "      <th>PAY_AMT4</th>\n",
       "      <th>PAY_AMT5</th>\n",
       "      <th>PAY_AMT6</th>\n",
       "    </tr>\n",
       "  </thead>\n",
       "  <tbody>\n",
       "    <tr>\n",
       "      <th>LIMIT_BAL</th>\n",
       "      <td>1.683446e+10</td>\n",
       "      <td>173076.722569</td>\n",
       "      <td>2.727020e+09</td>\n",
       "      <td>2.570130e+09</td>\n",
       "      <td>2.548533e+09</td>\n",
       "      <td>2.453926e+09</td>\n",
       "      <td>2.331481e+09</td>\n",
       "      <td>2.243837e+09</td>\n",
       "      <td>4.195711e+08</td>\n",
       "      <td>5.333504e+08</td>\n",
       "      <td>4.801180e+08</td>\n",
       "      <td>4.131202e+08</td>\n",
       "      <td>4.305657e+08</td>\n",
       "      <td>5.065153e+08</td>\n",
       "    </tr>\n",
       "    <tr>\n",
       "      <th>AGE</th>\n",
       "      <td>1.730767e+05</td>\n",
       "      <td>84.969755</td>\n",
       "      <td>3.817293e+04</td>\n",
       "      <td>3.561366e+04</td>\n",
       "      <td>3.433425e+04</td>\n",
       "      <td>3.045311e+04</td>\n",
       "      <td>2.765407e+04</td>\n",
       "      <td>2.613765e+04</td>\n",
       "      <td>3.992042e+03</td>\n",
       "      <td>4.626862e+03</td>\n",
       "      <td>4.746824e+03</td>\n",
       "      <td>3.087324e+03</td>\n",
       "      <td>3.218052e+03</td>\n",
       "      <td>3.191904e+03</td>\n",
       "    </tr>\n",
       "    <tr>\n",
       "      <th>BILL_AMT1</th>\n",
       "      <td>2.727020e+09</td>\n",
       "      <td>38172.933546</td>\n",
       "      <td>5.422240e+09</td>\n",
       "      <td>4.986670e+09</td>\n",
       "      <td>4.556511e+09</td>\n",
       "      <td>4.075286e+09</td>\n",
       "      <td>3.714795e+09</td>\n",
       "      <td>3.519876e+09</td>\n",
       "      <td>1.710894e+08</td>\n",
       "      <td>1.685692e+08</td>\n",
       "      <td>2.034048e+08</td>\n",
       "      <td>1.826164e+08</td>\n",
       "      <td>1.879091e+08</td>\n",
       "      <td>2.347681e+08</td>\n",
       "    </tr>\n",
       "    <tr>\n",
       "      <th>BILL_AMT2</th>\n",
       "      <td>2.570130e+09</td>\n",
       "      <td>35613.657962</td>\n",
       "      <td>4.986670e+09</td>\n",
       "      <td>5.065705e+09</td>\n",
       "      <td>4.582086e+09</td>\n",
       "      <td>4.086508e+09</td>\n",
       "      <td>3.720401e+09</td>\n",
       "      <td>3.524868e+09</td>\n",
       "      <td>3.305146e+08</td>\n",
       "      <td>1.653859e+08</td>\n",
       "      <td>1.888731e+08</td>\n",
       "      <td>1.643518e+08</td>\n",
       "      <td>1.717652e+08</td>\n",
       "      <td>2.204845e+08</td>\n",
       "    </tr>\n",
       "    <tr>\n",
       "      <th>BILL_AMT3</th>\n",
       "      <td>2.548533e+09</td>\n",
       "      <td>34334.251320</td>\n",
       "      <td>4.556511e+09</td>\n",
       "      <td>4.582086e+09</td>\n",
       "      <td>4.809338e+09</td>\n",
       "      <td>4.122238e+09</td>\n",
       "      <td>3.726780e+09</td>\n",
       "      <td>3.524247e+09</td>\n",
       "      <td>2.806565e+08</td>\n",
       "      <td>5.064226e+08</td>\n",
       "      <td>1.587478e+08</td>\n",
       "      <td>1.558003e+08</td>\n",
       "      <td>1.904126e+08</td>\n",
       "      <td>2.247817e+08</td>\n",
       "    </tr>\n",
       "    <tr>\n",
       "      <th>BILL_AMT4</th>\n",
       "      <td>2.453926e+09</td>\n",
       "      <td>30453.108180</td>\n",
       "      <td>4.075286e+09</td>\n",
       "      <td>4.086508e+09</td>\n",
       "      <td>4.122238e+09</td>\n",
       "      <td>4.138716e+09</td>\n",
       "      <td>3.677105e+09</td>\n",
       "      <td>3.451762e+09</td>\n",
       "      <td>2.482888e+08</td>\n",
       "      <td>3.076686e+08</td>\n",
       "      <td>3.398374e+08</td>\n",
       "      <td>1.312133e+08</td>\n",
       "      <td>1.576892e+08</td>\n",
       "      <td>2.031590e+08</td>\n",
       "    </tr>\n",
       "    <tr>\n",
       "      <th>BILL_AMT5</th>\n",
       "      <td>2.331481e+09</td>\n",
       "      <td>27654.067800</td>\n",
       "      <td>3.714795e+09</td>\n",
       "      <td>3.720401e+09</td>\n",
       "      <td>3.726780e+09</td>\n",
       "      <td>3.677105e+09</td>\n",
       "      <td>3.696294e+09</td>\n",
       "      <td>3.425914e+09</td>\n",
       "      <td>2.185501e+08</td>\n",
       "      <td>2.538936e+08</td>\n",
       "      <td>2.700805e+08</td>\n",
       "      <td>2.791830e+08</td>\n",
       "      <td>1.315051e+08</td>\n",
       "      <td>1.774537e+08</td>\n",
       "    </tr>\n",
       "    <tr>\n",
       "      <th>BILL_AMT6</th>\n",
       "      <td>2.243837e+09</td>\n",
       "      <td>26137.648547</td>\n",
       "      <td>3.519876e+09</td>\n",
       "      <td>3.524868e+09</td>\n",
       "      <td>3.524247e+09</td>\n",
       "      <td>3.451762e+09</td>\n",
       "      <td>3.425914e+09</td>\n",
       "      <td>3.546692e+09</td>\n",
       "      <td>1.972478e+08</td>\n",
       "      <td>2.369244e+08</td>\n",
       "      <td>2.451233e+08</td>\n",
       "      <td>2.334670e+08</td>\n",
       "      <td>2.799982e+08</td>\n",
       "      <td>1.222761e+08</td>\n",
       "    </tr>\n",
       "    <tr>\n",
       "      <th>PAY_AMT1</th>\n",
       "      <td>4.195711e+08</td>\n",
       "      <td>3992.041735</td>\n",
       "      <td>1.710894e+08</td>\n",
       "      <td>3.305146e+08</td>\n",
       "      <td>2.806565e+08</td>\n",
       "      <td>2.482888e+08</td>\n",
       "      <td>2.185501e+08</td>\n",
       "      <td>1.972478e+08</td>\n",
       "      <td>2.743423e+08</td>\n",
       "      <td>1.089849e+08</td>\n",
       "      <td>7.354626e+07</td>\n",
       "      <td>5.178189e+07</td>\n",
       "      <td>3.756893e+07</td>\n",
       "      <td>5.469033e+07</td>\n",
       "    </tr>\n",
       "    <tr>\n",
       "      <th>PAY_AMT2</th>\n",
       "      <td>5.333504e+08</td>\n",
       "      <td>4626.861549</td>\n",
       "      <td>1.685692e+08</td>\n",
       "      <td>1.653859e+08</td>\n",
       "      <td>5.064226e+08</td>\n",
       "      <td>3.076686e+08</td>\n",
       "      <td>2.538936e+08</td>\n",
       "      <td>2.369244e+08</td>\n",
       "      <td>1.089849e+08</td>\n",
       "      <td>5.308817e+08</td>\n",
       "      <td>9.929841e+07</td>\n",
       "      <td>6.501168e+07</td>\n",
       "      <td>6.368414e+07</td>\n",
       "      <td>6.456816e+07</td>\n",
       "    </tr>\n",
       "    <tr>\n",
       "      <th>PAY_AMT3</th>\n",
       "      <td>4.801180e+08</td>\n",
       "      <td>4746.824393</td>\n",
       "      <td>2.034048e+08</td>\n",
       "      <td>1.888731e+08</td>\n",
       "      <td>1.587478e+08</td>\n",
       "      <td>3.398374e+08</td>\n",
       "      <td>2.700805e+08</td>\n",
       "      <td>2.451233e+08</td>\n",
       "      <td>7.354626e+07</td>\n",
       "      <td>9.929841e+07</td>\n",
       "      <td>3.100051e+08</td>\n",
       "      <td>5.966970e+07</td>\n",
       "      <td>4.282921e+07</td>\n",
       "      <td>5.093879e+07</td>\n",
       "    </tr>\n",
       "    <tr>\n",
       "      <th>PAY_AMT4</th>\n",
       "      <td>4.131202e+08</td>\n",
       "      <td>3087.324192</td>\n",
       "      <td>1.826164e+08</td>\n",
       "      <td>1.643518e+08</td>\n",
       "      <td>1.558003e+08</td>\n",
       "      <td>1.312133e+08</td>\n",
       "      <td>2.791830e+08</td>\n",
       "      <td>2.334670e+08</td>\n",
       "      <td>5.178189e+07</td>\n",
       "      <td>6.501168e+07</td>\n",
       "      <td>5.966970e+07</td>\n",
       "      <td>2.454286e+08</td>\n",
       "      <td>3.634098e+07</td>\n",
       "      <td>4.395747e+07</td>\n",
       "    </tr>\n",
       "    <tr>\n",
       "      <th>PAY_AMT5</th>\n",
       "      <td>4.305657e+08</td>\n",
       "      <td>3218.052172</td>\n",
       "      <td>1.879091e+08</td>\n",
       "      <td>1.717652e+08</td>\n",
       "      <td>1.904126e+08</td>\n",
       "      <td>1.576892e+08</td>\n",
       "      <td>1.315051e+08</td>\n",
       "      <td>2.799982e+08</td>\n",
       "      <td>3.756893e+07</td>\n",
       "      <td>6.368414e+07</td>\n",
       "      <td>4.282921e+07</td>\n",
       "      <td>3.634098e+07</td>\n",
       "      <td>2.334266e+08</td>\n",
       "      <td>4.207110e+07</td>\n",
       "    </tr>\n",
       "    <tr>\n",
       "      <th>PAY_AMT6</th>\n",
       "      <td>5.065153e+08</td>\n",
       "      <td>3191.903901</td>\n",
       "      <td>2.347681e+08</td>\n",
       "      <td>2.204845e+08</td>\n",
       "      <td>2.247817e+08</td>\n",
       "      <td>2.031590e+08</td>\n",
       "      <td>1.774537e+08</td>\n",
       "      <td>1.222761e+08</td>\n",
       "      <td>5.469033e+07</td>\n",
       "      <td>6.456816e+07</td>\n",
       "      <td>5.093879e+07</td>\n",
       "      <td>4.395747e+07</td>\n",
       "      <td>4.207110e+07</td>\n",
       "      <td>3.160383e+08</td>\n",
       "    </tr>\n",
       "  </tbody>\n",
       "</table>\n",
       "</div>"
      ],
      "text/plain": [
       "              LIMIT_BAL            AGE     BILL_AMT1     BILL_AMT2  \\\n",
       "LIMIT_BAL  1.683446e+10  173076.722569  2.727020e+09  2.570130e+09   \n",
       "AGE        1.730767e+05      84.969755  3.817293e+04  3.561366e+04   \n",
       "BILL_AMT1  2.727020e+09   38172.933546  5.422240e+09  4.986670e+09   \n",
       "BILL_AMT2  2.570130e+09   35613.657962  4.986670e+09  5.065705e+09   \n",
       "BILL_AMT3  2.548533e+09   34334.251320  4.556511e+09  4.582086e+09   \n",
       "BILL_AMT4  2.453926e+09   30453.108180  4.075286e+09  4.086508e+09   \n",
       "BILL_AMT5  2.331481e+09   27654.067800  3.714795e+09  3.720401e+09   \n",
       "BILL_AMT6  2.243837e+09   26137.648547  3.519876e+09  3.524868e+09   \n",
       "PAY_AMT1   4.195711e+08    3992.041735  1.710894e+08  3.305146e+08   \n",
       "PAY_AMT2   5.333504e+08    4626.861549  1.685692e+08  1.653859e+08   \n",
       "PAY_AMT3   4.801180e+08    4746.824393  2.034048e+08  1.888731e+08   \n",
       "PAY_AMT4   4.131202e+08    3087.324192  1.826164e+08  1.643518e+08   \n",
       "PAY_AMT5   4.305657e+08    3218.052172  1.879091e+08  1.717652e+08   \n",
       "PAY_AMT6   5.065153e+08    3191.903901  2.347681e+08  2.204845e+08   \n",
       "\n",
       "              BILL_AMT3     BILL_AMT4     BILL_AMT5     BILL_AMT6  \\\n",
       "LIMIT_BAL  2.548533e+09  2.453926e+09  2.331481e+09  2.243837e+09   \n",
       "AGE        3.433425e+04  3.045311e+04  2.765407e+04  2.613765e+04   \n",
       "BILL_AMT1  4.556511e+09  4.075286e+09  3.714795e+09  3.519876e+09   \n",
       "BILL_AMT2  4.582086e+09  4.086508e+09  3.720401e+09  3.524868e+09   \n",
       "BILL_AMT3  4.809338e+09  4.122238e+09  3.726780e+09  3.524247e+09   \n",
       "BILL_AMT4  4.122238e+09  4.138716e+09  3.677105e+09  3.451762e+09   \n",
       "BILL_AMT5  3.726780e+09  3.677105e+09  3.696294e+09  3.425914e+09   \n",
       "BILL_AMT6  3.524247e+09  3.451762e+09  3.425914e+09  3.546692e+09   \n",
       "PAY_AMT1   2.806565e+08  2.482888e+08  2.185501e+08  1.972478e+08   \n",
       "PAY_AMT2   5.064226e+08  3.076686e+08  2.538936e+08  2.369244e+08   \n",
       "PAY_AMT3   1.587478e+08  3.398374e+08  2.700805e+08  2.451233e+08   \n",
       "PAY_AMT4   1.558003e+08  1.312133e+08  2.791830e+08  2.334670e+08   \n",
       "PAY_AMT5   1.904126e+08  1.576892e+08  1.315051e+08  2.799982e+08   \n",
       "PAY_AMT6   2.247817e+08  2.031590e+08  1.774537e+08  1.222761e+08   \n",
       "\n",
       "               PAY_AMT1      PAY_AMT2      PAY_AMT3      PAY_AMT4  \\\n",
       "LIMIT_BAL  4.195711e+08  5.333504e+08  4.801180e+08  4.131202e+08   \n",
       "AGE        3.992042e+03  4.626862e+03  4.746824e+03  3.087324e+03   \n",
       "BILL_AMT1  1.710894e+08  1.685692e+08  2.034048e+08  1.826164e+08   \n",
       "BILL_AMT2  3.305146e+08  1.653859e+08  1.888731e+08  1.643518e+08   \n",
       "BILL_AMT3  2.806565e+08  5.064226e+08  1.587478e+08  1.558003e+08   \n",
       "BILL_AMT4  2.482888e+08  3.076686e+08  3.398374e+08  1.312133e+08   \n",
       "BILL_AMT5  2.185501e+08  2.538936e+08  2.700805e+08  2.791830e+08   \n",
       "BILL_AMT6  1.972478e+08  2.369244e+08  2.451233e+08  2.334670e+08   \n",
       "PAY_AMT1   2.743423e+08  1.089849e+08  7.354626e+07  5.178189e+07   \n",
       "PAY_AMT2   1.089849e+08  5.308817e+08  9.929841e+07  6.501168e+07   \n",
       "PAY_AMT3   7.354626e+07  9.929841e+07  3.100051e+08  5.966970e+07   \n",
       "PAY_AMT4   5.178189e+07  6.501168e+07  5.966970e+07  2.454286e+08   \n",
       "PAY_AMT5   3.756893e+07  6.368414e+07  4.282921e+07  3.634098e+07   \n",
       "PAY_AMT6   5.469033e+07  6.456816e+07  5.093879e+07  4.395747e+07   \n",
       "\n",
       "               PAY_AMT5      PAY_AMT6  \n",
       "LIMIT_BAL  4.305657e+08  5.065153e+08  \n",
       "AGE        3.218052e+03  3.191904e+03  \n",
       "BILL_AMT1  1.879091e+08  2.347681e+08  \n",
       "BILL_AMT2  1.717652e+08  2.204845e+08  \n",
       "BILL_AMT3  1.904126e+08  2.247817e+08  \n",
       "BILL_AMT4  1.576892e+08  2.031590e+08  \n",
       "BILL_AMT5  1.315051e+08  1.774537e+08  \n",
       "BILL_AMT6  2.799982e+08  1.222761e+08  \n",
       "PAY_AMT1   3.756893e+07  5.469033e+07  \n",
       "PAY_AMT2   6.368414e+07  6.456816e+07  \n",
       "PAY_AMT3   4.282921e+07  5.093879e+07  \n",
       "PAY_AMT4   3.634098e+07  4.395747e+07  \n",
       "PAY_AMT5   2.334266e+08  4.207110e+07  \n",
       "PAY_AMT6   4.207110e+07  3.160383e+08  "
      ]
     },
     "execution_count": 46,
     "metadata": {},
     "output_type": "execute_result"
    }
   ],
   "source": [
    "#Covariance\n",
    "cov_credit = credit.cov()\n",
    "cov_credit"
   ]
  },
  {
   "cell_type": "code",
   "execution_count": 47,
   "metadata": {},
   "outputs": [],
   "source": [
    "#Rename levels in Marriage as 1- Married, 2- single, 3- Divorce, 0- Others\n",
    "credit['MARRIAGE'] = credit['MARRIAGE'].cat.rename_categories({ 'Married': 1 , 'Single' : 2 , 'Divorce' : 3,  'Others' : 0})\n",
    "\n",
    "#Rename levels in SEX as 1- Male , 2- Female\n",
    "credit['SEX'] = credit['SEX'].cat.rename_categories([1, 2])\n",
    "\n",
    "#change the values of EDUCATION : (1 = graduate school; 2 = university; 3 = high school; 0, 4, 5, 6 = others)\n",
    "#Merge levels 0,4,5,6 to 4\n",
    "credit['EDUCATION'] = credit['EDUCATION'].cat.rename_categories({'Graduate School' : 1 , 'University' : 2 , 'High School' : 3, 'Others' : 4})\n",
    "\n"
   ]
  },
  {
   "cell_type": "markdown",
   "metadata": {},
   "source": [
    "## Model Building and Analysis"
   ]
  },
  {
   "cell_type": "code",
   "execution_count": 48,
   "metadata": {},
   "outputs": [],
   "source": [
    "import time\n",
    "from sklearn.pipeline import Pipeline\n",
    "from sklearn.compose import ColumnTransformer\n",
    "from sklearn.preprocessing import MinMaxScaler,  OneHotEncoder\n",
    "from sklearn.svm import LinearSVC\n",
    "from sklearn.model_selection import GridSearchCV, train_test_split\n",
    "from sklearn.metrics import classification_report, f1_score,confusion_matrix,plot_roc_curve,roc_curve, accuracy_score, precision_score, recall_score, precision_recall_curve,plot_confusion_matrix"
   ]
  },
  {
   "cell_type": "markdown",
   "metadata": {},
   "source": [
    "#### Preprocess Data"
   ]
  },
  {
   "cell_type": "code",
   "execution_count": 49,
   "metadata": {
    "scrolled": true
   },
   "outputs": [
    {
     "data": {
      "text/plain": [
       "ColumnTransformer(transformers=[('num',\n",
       "                                 Pipeline(steps=[('scaler', MinMaxScaler())]),\n",
       "                                 ['LIMIT_BAL', 'AGE', 'PAY_AMT1', 'PAY_AMT2',\n",
       "                                  'PAY_AMT3', 'PAY_AMT4', 'PAY_AMT5',\n",
       "                                  'PAY_AMT6', 'BILL_AMT1', 'BILL_AMT2',\n",
       "                                  'BILL_AMT3', 'BILL_AMT4', 'BILL_AMT5',\n",
       "                                  'BILL_AMT6']),\n",
       "                                ('cat',\n",
       "                                 Pipeline(steps=[('oneHot',\n",
       "                                                  OneHotEncoder(handle_unknown='ignore'))]),\n",
       "                                 ['SEX', 'MARRIAGE', 'EDUCATION', 'PAY_1',\n",
       "                                  'PAY_2', 'PAY_3', 'PAY_4', 'PAY_5',\n",
       "                                  'PAY_6'])])"
      ]
     },
     "execution_count": 49,
     "metadata": {},
     "output_type": "execute_result"
    }
   ],
   "source": [
    "#The following features are selected for model training and testing\n",
    "#Numeric Features- LIMIT_BAL, AGE, PAY_AMTX, BILL_AMTX- MinMaxScaler used to transform numeric variables\n",
    "#Categorical Features- EDUCATION, SEX, MARITAL_STATUS, PAY_X- OneHotEncoder is used to transform categorical variables\n",
    "\n",
    "numeric_features = ['LIMIT_BAL','AGE', 'PAY_AMT1','PAY_AMT2','PAY_AMT3','PAY_AMT4','PAY_AMT5','PAY_AMT6','BILL_AMT1','BILL_AMT2','BILL_AMT3','BILL_AMT4','BILL_AMT5','BILL_AMT6']\n",
    "categorical_features = ['SEX','MARRIAGE','EDUCATION','PAY_1','PAY_2','PAY_3','PAY_4','PAY_5','PAY_6']\n",
    "\n",
    "numeric_transformer = Pipeline(steps=[('scaler', MinMaxScaler())])\n",
    "categorical_transformer = Pipeline(steps=[('oneHot', OneHotEncoder(categories= 'auto', handle_unknown= 'ignore'))])\n",
    "\n",
    "preprocessor= ColumnTransformer(transformers=[('num',numeric_transformer,numeric_features),('cat',categorical_transformer,categorical_features)])\n",
    "preprocessor"
   ]
  },
  {
   "cell_type": "markdown",
   "metadata": {},
   "source": [
    "#### Split Data into Train and Test set"
   ]
  },
  {
   "cell_type": "code",
   "execution_count": 50,
   "metadata": {},
   "outputs": [],
   "source": [
    "#Splitting data into Training and Test set in the ration 70:30\n",
    "\n",
    "y= credit['default_pay']\n",
    "x= credit.drop(['default_pay','age_by_decade'], axis=1)\n",
    "x_train,x_test, y_train, y_test = train_test_split(x,y,test_size=0.3, random_state = 42)"
   ]
  },
  {
   "cell_type": "code",
   "execution_count": 51,
   "metadata": {},
   "outputs": [
    {
     "name": "stdout",
     "output_type": "stream",
     "text": [
      "The number of observations in the X training set are: 21000\n",
      "<class 'pandas.core.frame.DataFrame'>\n",
      "Int64Index: 21000 entries, 28465 to 23654\n",
      "Data columns (total 23 columns):\n",
      " #   Column     Non-Null Count  Dtype   \n",
      "---  ------     --------------  -----   \n",
      " 0   LIMIT_BAL  21000 non-null  float64 \n",
      " 1   SEX        21000 non-null  category\n",
      " 2   EDUCATION  21000 non-null  category\n",
      " 3   MARRIAGE   21000 non-null  category\n",
      " 4   AGE        21000 non-null  int64   \n",
      " 5   PAY_1      21000 non-null  category\n",
      " 6   PAY_2      21000 non-null  category\n",
      " 7   PAY_3      21000 non-null  category\n",
      " 8   PAY_4      21000 non-null  category\n",
      " 9   PAY_5      21000 non-null  category\n",
      " 10  PAY_6      21000 non-null  category\n",
      " 11  BILL_AMT1  21000 non-null  float64 \n",
      " 12  BILL_AMT2  21000 non-null  float64 \n",
      " 13  BILL_AMT3  21000 non-null  float64 \n",
      " 14  BILL_AMT4  21000 non-null  float64 \n",
      " 15  BILL_AMT5  21000 non-null  float64 \n",
      " 16  BILL_AMT6  21000 non-null  float64 \n",
      " 17  PAY_AMT1   21000 non-null  float64 \n",
      " 18  PAY_AMT2   21000 non-null  float64 \n",
      " 19  PAY_AMT3   21000 non-null  float64 \n",
      " 20  PAY_AMT4   21000 non-null  float64 \n",
      " 21  PAY_AMT5   21000 non-null  float64 \n",
      " 22  PAY_AMT6   21000 non-null  float64 \n",
      "dtypes: category(9), float64(13), int64(1)\n",
      "memory usage: 2.6 MB\n"
     ]
    }
   ],
   "source": [
    "print('The number of observations in the X training set are:', len(x_train))\n",
    "x_train.head()\n",
    "x_train.info()"
   ]
  },
  {
   "cell_type": "code",
   "execution_count": 52,
   "metadata": {},
   "outputs": [
    {
     "name": "stdout",
     "output_type": "stream",
     "text": [
      "The number of observations in the Y testing set are: 9000\n"
     ]
    },
    {
     "data": {
      "text/plain": [
       "2308     No Default\n",
       "22404    No Default\n",
       "23397    No Default\n",
       "25058    No Default\n",
       "2664        Default\n",
       "Name: default_pay, dtype: category\n",
       "Categories (2, object): ['No Default', 'Default']"
      ]
     },
     "execution_count": 52,
     "metadata": {},
     "output_type": "execute_result"
    }
   ],
   "source": [
    "print('The number of observations in the Y testing set are:', len(y_test))\n",
    "y_test.head()"
   ]
  },
  {
   "cell_type": "code",
   "execution_count": 53,
   "metadata": {},
   "outputs": [
    {
     "data": {
      "text/plain": [
       "((21000, 23), (9000, 23))"
      ]
     },
     "execution_count": 53,
     "metadata": {},
     "output_type": "execute_result"
    }
   ],
   "source": [
    "x_train.shape, x_test.shape"
   ]
  },
  {
   "cell_type": "code",
   "execution_count": 54,
   "metadata": {},
   "outputs": [
    {
     "data": {
      "text/plain": [
       "((21000,), (9000,))"
      ]
     },
     "execution_count": 54,
     "metadata": {},
     "output_type": "execute_result"
    }
   ],
   "source": [
    "y_train.shape, y_test.shape"
   ]
  },
  {
   "cell_type": "markdown",
   "metadata": {},
   "source": [
    "##### Model 1 - Logistic Regression"
   ]
  },
  {
   "cell_type": "code",
   "execution_count": 55,
   "metadata": {},
   "outputs": [
    {
     "name": "stdout",
     "output_type": "stream",
     "text": [
      "LR time taken: 66.43519496917725\n",
      "best score 0.8205238095238097\n",
      "best params {'classifier__C': 3.727593720314938, 'classifier__penalty': 'l2'}\n",
      "[[ 665 1295]\n",
      " [ 336 6704]]\n",
      "              precision    recall  f1-score   support\n",
      "\n",
      "     Default       0.66      0.34      0.45      1960\n",
      "  No Default       0.84      0.95      0.89      7040\n",
      "\n",
      "    accuracy                           0.82      9000\n",
      "   macro avg       0.75      0.65      0.67      9000\n",
      "weighted avg       0.80      0.82      0.80      9000\n",
      "\n"
     ]
    },
    {
     "data": {
      "image/png": "[encoded data removed]",
      "text/plain": [
       "<Figure size 432x288 with 1 Axes>"
      ]
     },
     "metadata": {
      "needs_background": "light"
     },
     "output_type": "display_data"
    }
   ],
   "source": [
    "from sklearn.linear_model import LogisticRegression\n",
    "\n",
    "#create an estimator\n",
    "clf= LogisticRegression(solver ='liblinear', random_state=24)\n",
    "\n",
    "#Pipeline preprocessing and estimator\n",
    "lr= Pipeline(steps=[('preprocessor',preprocessor),('classifier',clf)])\n",
    "\n",
    "#set hyperparameters for estimator\n",
    "param_lr = {\n",
    "    'classifier__C' : np.logspace(-5, 8,15),\n",
    "    'classifier__penalty' : ['l1','l2']\n",
    "}\n",
    "\n",
    "#cross validation using Grid Search method\n",
    "lrcv=GridSearchCV(lr,param_lr, cv=5)\n",
    "\n",
    "#calculate time taken to train the model\n",
    "start_time= time.time()\n",
    "lrcv.fit(x_train,y_train)\n",
    "end_time=time.time()\n",
    "lr_exetime= end_time - start_time \n",
    "print('LR time taken:',lr_exetime)\n",
    "\n",
    "#Print best score and best params for an estimator\n",
    "print('best score', lrcv.best_score_)\n",
    "print('best params',lrcv.best_params_)\n",
    "\n",
    "#Predict the test data\n",
    "y_pred = lrcv.predict(x_test)\n",
    "y_pred_prob= lrcv.predict_proba(x_test)[:,1]\n",
    "\n",
    "#Performance metrics evaluation- Accuracy, precision, recall, f1 score, ROC curve, confusion matrix\n",
    "print(confusion_matrix(y_test, y_pred))\n",
    "print(classification_report(y_test, y_pred))\n",
    "\n",
    "lr_accuracy= accuracy_score(y_pred=y_pred, y_true=y_test)\n",
    "lr_precision= precision_score(y_pred=y_pred, y_true=y_test, pos_label= 'Default')\n",
    "lr_recall= recall_score(y_pred=y_pred, y_true=y_test, pos_label= 'Default')\n",
    "lr_f1= f1_score(y_pred=y_pred, y_true=y_test, pos_label= 'Default')\n",
    "\n",
    "\n",
    "#ROC Curve\n",
    "fpr,tpr,thresholds = roc_curve(y_test,y_pred_prob, pos_label='No Default')\n",
    "plt.plot([0,1], [0,1], 'k--')\n",
    "plt.plot(fpr, tpr, label='Logistic Regression')\n",
    "plt.xlabel('False Positive Rate')\n",
    "plt.ylabel('True Positive Rate')\n",
    "plt.title('Logistic Regression ROC Curve')\n",
    "plt.show()"
   ]
  },
  {
   "cell_type": "markdown",
   "metadata": {},
   "source": [
    "##### Model 2- Random Forest"
   ]
  },
  {
   "cell_type": "code",
   "execution_count": 56,
   "metadata": {},
   "outputs": [
    {
     "name": "stdout",
     "output_type": "stream",
     "text": [
      "RF time taken: 2705.6101298332214\n",
      "best score 0.8194285714285714\n",
      "best params {'cls__criterion': 'entropy', 'cls__max_depth': 10, 'cls__min_samples_leaf': 5, 'cls__min_samples_split': 2, 'cls__n_estimators': 50}\n",
      "[[ 673 1287]\n",
      " [ 353 6687]]\n",
      "              precision    recall  f1-score   support\n",
      "\n",
      "     Default       0.66      0.34      0.45      1960\n",
      "  No Default       0.84      0.95      0.89      7040\n",
      "\n",
      "    accuracy                           0.82      9000\n",
      "   macro avg       0.75      0.65      0.67      9000\n",
      "weighted avg       0.80      0.82      0.79      9000\n",
      "\n"
     ]
    },
    {
     "data": {
      "image/png": "[encoded data removed]",
      "text/plain": [
       "<Figure size 432x288 with 1 Axes>"
      ]
     },
     "metadata": {
      "needs_background": "light"
     },
     "output_type": "display_data"
    }
   ],
   "source": [
    "from sklearn.ensemble import RandomForestClassifier\n",
    "\n",
    "#create an estimator\n",
    "rf= RandomForestClassifier(random_state= 1)\n",
    "\n",
    "#Pipeline preprocessing and estimator\n",
    "rfclf= Pipeline(steps=[('preprocessor',preprocessor),('cls',rf)])\n",
    "\n",
    "#set hyperparameters for estimator\n",
    "param_rf = {\n",
    "    'cls__n_estimators': [50, 100],\n",
    "    'cls__criterion': ['gini', 'entropy'],\n",
    "    'cls__max_depth': [3, 10, 20, None],\n",
    "    'cls__min_samples_leaf': [1,3,5,7,9],\n",
    "    'cls__min_samples_split': [2,4,6]\n",
    "      }\n",
    "\n",
    "\n",
    "#cross validation using Grid Search method\n",
    "rfcv= GridSearchCV(rfclf, param_rf,  cv= 3)\n",
    "\n",
    "#calculate time taken to train the model\n",
    "start_time= time.time()\n",
    "rfcv.fit(x_train, y_train)\n",
    "end_time=time.time()\n",
    "rf_exetime= end_time - start_time\n",
    "print('RF time taken:',rf_exetime)\n",
    "\n",
    "#Print best score and best params for an estimator\n",
    "print('best score', rfcv.best_score_)\n",
    "print('best params',rfcv.best_params_)\n",
    "\n",
    "#Predict the test data\n",
    "y_pred = rfcv.predict(x_test)\n",
    "y_pred_prob= rfcv.predict_proba(x_test)[:,1]\n",
    "\n",
    "#Performance metrics evaluation- Accuracy, precision, recall, f1 score, ROC curve, confusion matrix\n",
    "print(confusion_matrix(y_test, y_pred))\n",
    "print(classification_report(y_test, y_pred))\n",
    "\n",
    "rf_accuracy= accuracy_score(y_pred=y_pred, y_true=y_test)\n",
    "rf_precision= precision_score(y_pred=y_pred, y_true=y_test, pos_label= 'Default')\n",
    "rf_recall= recall_score(y_pred=y_pred, y_true=y_test, pos_label= 'Default')\n",
    "rf_f1= f1_score(y_pred=y_pred, y_true=y_test, pos_label= 'Default')\n",
    "\n",
    "#ROC Curve\n",
    "fpr,tpr,thresholds = roc_curve(y_test,y_pred_prob, pos_label='No Default')\n",
    "plt.plot([0,1], [0,1], 'k--')\n",
    "plt.plot(fpr, tpr, label='Random Forest')\n",
    "plt.xlabel('False Positive Rate')\n",
    "plt.ylabel('True Positive Rate')\n",
    "plt.title('Random Forest ROC Curve')\n",
    "plt.show()\n"
   ]
  },
  {
   "cell_type": "markdown",
   "metadata": {},
   "source": [
    "##### Model 3- Knn"
   ]
  },
  {
   "cell_type": "code",
   "execution_count": 57,
   "metadata": {},
   "outputs": [
    {
     "name": "stdout",
     "output_type": "stream",
     "text": [
      "K-nn time taken: 247.54186534881592\n",
      "best score 0.8144761904761906\n",
      "best params {'cls__n_neighbors': 17}\n",
      "[[ 661 1299]\n",
      " [ 362 6678]]\n",
      "              precision    recall  f1-score   support\n",
      "\n",
      "     Default       0.65      0.34      0.44      1960\n",
      "  No Default       0.84      0.95      0.89      7040\n",
      "\n",
      "    accuracy                           0.82      9000\n",
      "   macro avg       0.74      0.64      0.67      9000\n",
      "weighted avg       0.80      0.82      0.79      9000\n",
      "\n"
     ]
    },
    {
     "data": {
      "image/png": "[encoded data removed]",
      "text/plain": [
       "<Figure size 432x288 with 1 Axes>"
      ]
     },
     "metadata": {
      "needs_background": "light"
     },
     "output_type": "display_data"
    }
   ],
   "source": [
    "from sklearn.neighbors import KNeighborsClassifier\n",
    "\n",
    "#create an estimator\n",
    "knn= KNeighborsClassifier(n_jobs = -1)\n",
    "\n",
    "#Pipeline preprocessing and estimator\n",
    "knnclf= Pipeline(steps=[('preprocessor',preprocessor),('cls',knn)])\n",
    "\n",
    "#set hyperparameters for estimator\n",
    "param_knn = {\n",
    "    'cls__n_neighbors': np.arange(1,20)\n",
    "      }\n",
    "\n",
    "#cross validation using Grid Search method\n",
    "knncv=GridSearchCV(knnclf,param_knn,cv=5 )\n",
    "\n",
    "#calculate time taken to train the model\n",
    "start_time= time.time()\n",
    "knncv.fit(x_train,y_train)\n",
    "end_time= time.time()\n",
    "knn_exetime= end_time - start_time\n",
    "print('K-nn time taken:', knn_exetime)\n",
    "\n",
    "#Print best score and best params for an estimator\n",
    "print('best score', knncv.best_score_)\n",
    "print('best params',knncv.best_params_)\n",
    "\n",
    "#Predict the test data\n",
    "y_pred = knncv.predict(x_test)\n",
    "y_pred_prob= knncv.predict_proba(x_test)[:,1]\n",
    "\n",
    "#Performance metrics evaluation- Accuracy, precision, recall, f1 score, ROC curve, confusion matrix\n",
    "print(confusion_matrix(y_test, y_pred))\n",
    "print(classification_report(y_test, y_pred))\n",
    "\n",
    "knn_accuracy= accuracy_score(y_pred=y_pred, y_true=y_test)\n",
    "knn_precision= precision_score(y_pred=y_pred, y_true=y_test, pos_label= 'Default')\n",
    "knn_recall= recall_score(y_pred=y_pred, y_true=y_test, pos_label= 'Default')\n",
    "knn_f1 = f1_score(y_pred=y_pred, y_true=y_test, pos_label= 'Default')\n",
    "\n",
    "\n",
    "#ROC Curve\n",
    "fpr,tpr,thresholds = roc_curve(y_test,y_pred_prob, pos_label='No Default')\n",
    "plt.plot([0,1], [0,1], 'k--')\n",
    "plt.plot(fpr, tpr, label='K-nn')\n",
    "plt.xlabel('False Positive Rate')\n",
    "plt.ylabel('True Positive Rate')\n",
    "plt.title('K-nn ROC Curve')\n",
    "plt.show()"
   ]
  },
  {
   "cell_type": "markdown",
   "metadata": {},
   "source": [
    "##### Model 4- Support Vector Machine"
   ]
  },
  {
   "cell_type": "code",
   "execution_count": 58,
   "metadata": {},
   "outputs": [
    {
     "name": "stderr",
     "output_type": "stream",
     "text": [
      "C:\\Users\\nethu\\Ananconda31\\lib\\site-packages\\sklearn\\svm\\_base.py:985: ConvergenceWarning: Liblinear failed to converge, increase the number of iterations.\n",
      "  warnings.warn(\"Liblinear failed to converge, increase \"\n",
      "C:\\Users\\nethu\\Ananconda31\\lib\\site-packages\\sklearn\\svm\\_base.py:985: ConvergenceWarning: Liblinear failed to converge, increase the number of iterations.\n",
      "  warnings.warn(\"Liblinear failed to converge, increase \"\n",
      "C:\\Users\\nethu\\Ananconda31\\lib\\site-packages\\sklearn\\svm\\_base.py:985: ConvergenceWarning: Liblinear failed to converge, increase the number of iterations.\n",
      "  warnings.warn(\"Liblinear failed to converge, increase \"\n",
      "C:\\Users\\nethu\\Ananconda31\\lib\\site-packages\\sklearn\\svm\\_base.py:985: ConvergenceWarning: Liblinear failed to converge, increase the number of iterations.\n",
      "  warnings.warn(\"Liblinear failed to converge, increase \"\n",
      "C:\\Users\\nethu\\Ananconda31\\lib\\site-packages\\sklearn\\svm\\_base.py:985: ConvergenceWarning: Liblinear failed to converge, increase the number of iterations.\n",
      "  warnings.warn(\"Liblinear failed to converge, increase \"\n",
      "C:\\Users\\nethu\\Ananconda31\\lib\\site-packages\\sklearn\\svm\\_base.py:985: ConvergenceWarning: Liblinear failed to converge, increase the number of iterations.\n",
      "  warnings.warn(\"Liblinear failed to converge, increase \"\n",
      "C:\\Users\\nethu\\Ananconda31\\lib\\site-packages\\sklearn\\svm\\_base.py:985: ConvergenceWarning: Liblinear failed to converge, increase the number of iterations.\n",
      "  warnings.warn(\"Liblinear failed to converge, increase \"\n",
      "C:\\Users\\nethu\\Ananconda31\\lib\\site-packages\\sklearn\\svm\\_base.py:985: ConvergenceWarning: Liblinear failed to converge, increase the number of iterations.\n",
      "  warnings.warn(\"Liblinear failed to converge, increase \"\n",
      "C:\\Users\\nethu\\Ananconda31\\lib\\site-packages\\sklearn\\svm\\_base.py:985: ConvergenceWarning: Liblinear failed to converge, increase the number of iterations.\n",
      "  warnings.warn(\"Liblinear failed to converge, increase \"\n",
      "C:\\Users\\nethu\\Ananconda31\\lib\\site-packages\\sklearn\\svm\\_base.py:985: ConvergenceWarning: Liblinear failed to converge, increase the number of iterations.\n",
      "  warnings.warn(\"Liblinear failed to converge, increase \"\n"
     ]
    },
    {
     "name": "stdout",
     "output_type": "stream",
     "text": [
      "SVC time taken: 21.412718534469604\n",
      "best score 0.8212380952380952\n",
      "best params {'cls__C': 0.1}\n",
      "[[ 676 1284]\n",
      " [ 329 6711]]\n",
      "              precision    recall  f1-score   support\n",
      "\n",
      "     Default       0.67      0.34      0.46      1960\n",
      "  No Default       0.84      0.95      0.89      7040\n",
      "\n",
      "    accuracy                           0.82      9000\n",
      "   macro avg       0.76      0.65      0.67      9000\n",
      "weighted avg       0.80      0.82      0.80      9000\n",
      "\n"
     ]
    }
   ],
   "source": [
    "from sklearn.svm import LinearSVC\n",
    "\n",
    "#create an estimator\n",
    "svc= LinearSVC(random_state= 0, tol= 1e-05)\n",
    "\n",
    "#Pipeline preprocessing and estimator\n",
    "svcclf= Pipeline(steps=[('preprocessor', preprocessor),('cls', svc)])\n",
    "\n",
    "#set hyperparameters for estimator\n",
    "param_svc = {\n",
    "    'cls__C': [0.1,1,10,100]\n",
    "    }\n",
    "\n",
    "#cross validation using Grid Search method\n",
    "svccv= GridSearchCV(svcclf, param_svc,cv=5)\n",
    "\n",
    "#calculate time taken to train the model\n",
    "start_time= time.time()\n",
    "svccv.fit(x_train, y_train)\n",
    "end_time= time.time()\n",
    "svc_exetime= end_time - start_time\n",
    "print('SVC time taken:',svc_exetime)\n",
    "\n",
    "#Print best score and best params for an estimator\n",
    "print('best score', svccv.best_score_)\n",
    "print('best params',svccv.best_params_)\n",
    "\n",
    "#Predict the test data\n",
    "y_pred = svccv.predict(x_test)\n",
    "\n",
    "#Performance metrics evaluation- Accuracy, precision, recall, f1 score, confusion matrix\n",
    "print(confusion_matrix(y_test, y_pred))\n",
    "print(classification_report(y_test, y_pred))\n",
    "\n",
    "svc_accuracy= accuracy_score(y_pred=y_pred, y_true=y_test)\n",
    "svc_precision= precision_score(y_pred=y_pred, y_true=y_test, pos_label= 'Default')\n",
    "svc_recall= recall_score(y_pred=y_pred, y_true=y_test, pos_label= 'Default')\n",
    "svc_f1= f1_score(y_pred=y_pred, y_true=y_test, pos_label= 'Default')\n",
    "\n"
   ]
  },
  {
   "cell_type": "code",
   "execution_count": 59,
   "metadata": {},
   "outputs": [
    {
     "data": {
      "text/html": [
       "<div>\n",
       "<style scoped>\n",
       "    .dataframe tbody tr th:only-of-type {\n",
       "        vertical-align: middle;\n",
       "    }\n",
       "\n",
       "    .dataframe tbody tr th {\n",
       "        vertical-align: top;\n",
       "    }\n",
       "\n",
       "    .dataframe thead th {\n",
       "        text-align: right;\n",
       "    }\n",
       "</style>\n",
       "<table border=\"1\" class=\"dataframe\">\n",
       "  <thead>\n",
       "    <tr style=\"text-align: right;\">\n",
       "      <th></th>\n",
       "      <th>Model</th>\n",
       "      <th>Model Score</th>\n",
       "      <th>Accuracy</th>\n",
       "      <th>Precision</th>\n",
       "      <th>Recall</th>\n",
       "      <th>F1 Score</th>\n",
       "      <th>Execution Time</th>\n",
       "    </tr>\n",
       "  </thead>\n",
       "  <tbody>\n",
       "    <tr>\n",
       "      <th>0</th>\n",
       "      <td>Random Forest</td>\n",
       "      <td>0.819429</td>\n",
       "      <td>0.817778</td>\n",
       "      <td>0.655945</td>\n",
       "      <td>0.343367</td>\n",
       "      <td>0.450770</td>\n",
       "      <td>2705.610130</td>\n",
       "    </tr>\n",
       "    <tr>\n",
       "      <th>1</th>\n",
       "      <td>Logistic Regression</td>\n",
       "      <td>0.820524</td>\n",
       "      <td>0.818778</td>\n",
       "      <td>0.664336</td>\n",
       "      <td>0.339286</td>\n",
       "      <td>0.449173</td>\n",
       "      <td>66.435195</td>\n",
       "    </tr>\n",
       "    <tr>\n",
       "      <th>2</th>\n",
       "      <td>Support Vector Machine</td>\n",
       "      <td>0.821238</td>\n",
       "      <td>0.820778</td>\n",
       "      <td>0.672637</td>\n",
       "      <td>0.344898</td>\n",
       "      <td>0.455987</td>\n",
       "      <td>21.412719</td>\n",
       "    </tr>\n",
       "    <tr>\n",
       "      <th>3</th>\n",
       "      <td>Knn</td>\n",
       "      <td>0.814476</td>\n",
       "      <td>0.815444</td>\n",
       "      <td>0.646139</td>\n",
       "      <td>0.337245</td>\n",
       "      <td>0.443178</td>\n",
       "      <td>247.541865</td>\n",
       "    </tr>\n",
       "  </tbody>\n",
       "</table>\n",
       "</div>"
      ],
      "text/plain": [
       "                    Model  Model Score  Accuracy  Precision    Recall  \\\n",
       "0           Random Forest     0.819429  0.817778   0.655945  0.343367   \n",
       "1     Logistic Regression     0.820524  0.818778   0.664336  0.339286   \n",
       "2  Support Vector Machine     0.821238  0.820778   0.672637  0.344898   \n",
       "3                     Knn     0.814476  0.815444   0.646139  0.337245   \n",
       "\n",
       "   F1 Score  Execution Time  \n",
       "0  0.450770     2705.610130  \n",
       "1  0.449173       66.435195  \n",
       "2  0.455987       21.412719  \n",
       "3  0.443178      247.541865  "
      ]
     },
     "execution_count": 59,
     "metadata": {},
     "output_type": "execute_result"
    }
   ],
   "source": [
    "model_performance= pd.DataFrame({'Model':['Random Forest','Logistic Regression','Support Vector Machine','Knn'],\n",
    "                                 'Model Score':[rfcv.best_score_,lrcv.best_score_,svccv.best_score_,knncv.best_score_],\n",
    "                                'Accuracy':[rf_accuracy, lr_accuracy, svc_accuracy, knn_accuracy],\n",
    "                                'Precision':[rf_precision, lr_precision, svc_precision, knn_precision],\n",
    "                                'Recall': [rf_recall, lr_recall, svc_recall, knn_recall],\n",
    "                                'F1 Score': [rf_f1, lr_f1, svc_f1, knn_f1],\n",
    "                                'Execution Time':[rf_exetime, lr_exetime, svc_exetime, knn_exetime]})\n",
    "\n",
    "model_performance\n"
   ]
  },
  {
   "cell_type": "code",
   "execution_count": 89,
   "metadata": {},
   "outputs": [
    {
     "data": {
      "image/png": "[encoded data removed]",
      "text/plain": [
       "<Figure size 432x288 with 4 Axes>"
      ]
     },
     "metadata": {
      "needs_background": "light"
     },
     "output_type": "display_data"
    }
   ],
   "source": [
    "#compare the confusion matrix of all models to analyse the True Positive and False Negative\n",
    "from sklearn.metrics import plot_confusion_matrix\n",
    "\n",
    "models={'RF': rfcv,'LR': lrcv,'SVC': svccv,'Knn': knncv}\n",
    "\n",
    "def conf_matrix(models, n_rows, n_cols):\n",
    "    fig= plt.figure()\n",
    "    i=0\n",
    "    for key, model in models.items():\n",
    "        i= i+1\n",
    "        ax = fig.add_subplot(n_rows, n_cols, i)\n",
    "        plt.subplots_adjust(bottom=6, right=1.25, top=7, hspace=0.8)\n",
    "        title= key+ '- Confusion Matrix'\n",
    "        cf_matrix= plot_confusion_matrix(model, x_test, y_test, xticks_rotation='horizontal', ax= ax,cmap='Greens', colorbar= False)\n",
    "        cf_matrix.ax_.set_title(title)\n",
    "plt.show()\n",
    "\n",
    "conf_matrix(models, 2,2)   "
   ]
  },
  {
   "cell_type": "code",
   "execution_count": 61,
   "metadata": {},
   "outputs": [
    {
     "data": {
      "image/png": "[encoded data removed]",
      "text/plain": [
       "<Figure size 432x288 with 1 Axes>"
      ]
     },
     "metadata": {
      "needs_background": "light"
     },
     "output_type": "display_data"
    }
   ],
   "source": [
    "#Precision Recall Curve for models- Logistic Regression, Random Forest and K-nn\n",
    "#SVC does not support precision_recall_curve, hence excluded in this plot.\n",
    "\n",
    "i=0\n",
    "precision= dict()\n",
    "recall= dict()\n",
    "threshold= dict()\n",
    "for key, model in models.items():\n",
    "    i= i+1\n",
    "    if key !='SVC':\n",
    "      probas = model.predict_proba(x_test)[:,1] \n",
    "      precision[i], recall[i], threshold[i] = precision_recall_curve(y_true=y_test, probas_pred=probas, pos_label='Default')\n",
    "      plt.plot(precision[i], recall[i], label=key, lw= 1, drawstyle='steps')\n",
    "        \n",
    "plt.xlabel('Precision')\n",
    "plt.ylabel('Recall')\n",
    "plt.title('Precision-Recall Curve')\n",
    "plt.hlines(y=0.5, xmin=0, xmax=1, color='purple')\n",
    "plt.legend()\n",
    "plt.grid()\n",
    "plt.show()"
   ]
  },
  {
   "cell_type": "markdown",
   "metadata": {},
   "source": [
    "#### Conclusion"
   ]
  },
  {
   "cell_type": "markdown",
   "metadata": {},
   "source": [
    "As per the above analysis almost all the models performed well with about 80% of accuracy. But, since the data is imbalanced we need to consider other performance metrics like-Precision and Recall along with accuracy to evaluate models. The True Positive(higher) and False Negative(lower) of Support Vector Machine is better than any other model. Also, the performance metrics - Accuracy, Precision and Recall values are higher for SVM when compared to other models. \n"
   ]
  }
 ],
 "metadata": {
  "kernelspec": {
   "display_name": "Python 3",
   "language": "python",
   "name": "python3"
  },
  "language_info": {
   "codemirror_mode": {
    "name": "ipython",
    "version": 3
   },
   "file_extension": ".py",
   "mimetype": "text/x-python",
   "name": "python",
   "nbconvert_exporter": "python",
   "pygments_lexer": "ipython3",
   "version": "3.8.5"
  }
 },
 "nbformat": 4,
 "nbformat_minor": 2
}
