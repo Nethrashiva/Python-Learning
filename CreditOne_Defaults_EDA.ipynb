{
 "cells": [
  {
   "cell_type": "markdown",
   "metadata": {},
   "source": [
    "## Import Libraries "
   ]
  },
  {
   "cell_type": "code",
   "execution_count": 114,
   "metadata": {},
   "outputs": [],
   "source": [
    "#Import Pandas library\n",
    "import pandas as pd\n",
    "import matplotlib.pyplot as plt\n",
    "import seaborn as sn\n",
    "import numpy as np"
   ]
  },
  {
   "cell_type": "markdown",
   "metadata": {},
   "source": [
    "## Reading Data Set using Pandas"
   ]
  },
  {
   "cell_type": "code",
   "execution_count": 115,
   "metadata": {},
   "outputs": [],
   "source": [
    "#Read csv file\n",
    "credit = pd.read_csv(\"default of credit card clients.csv\", header= 1)"
   ]
  },
  {
   "cell_type": "markdown",
   "metadata": {},
   "source": [
    "## Intial analysis"
   ]
  },
  {
   "cell_type": "code",
   "execution_count": 116,
   "metadata": {},
   "outputs": [
    {
     "data": {
      "text/html": [
       "<div>\n",
       "<style scoped>\n",
       "    .dataframe tbody tr th:only-of-type {\n",
       "        vertical-align: middle;\n",
       "    }\n",
       "\n",
       "    .dataframe tbody tr th {\n",
       "        vertical-align: top;\n",
       "    }\n",
       "\n",
       "    .dataframe thead th {\n",
       "        text-align: right;\n",
       "    }\n",
       "</style>\n",
       "<table border=\"1\" class=\"dataframe\">\n",
       "  <thead>\n",
       "    <tr style=\"text-align: right;\">\n",
       "      <th></th>\n",
       "      <th>ID</th>\n",
       "      <th>LIMIT_BAL</th>\n",
       "      <th>SEX</th>\n",
       "      <th>EDUCATION</th>\n",
       "      <th>MARRIAGE</th>\n",
       "      <th>AGE</th>\n",
       "      <th>PAY_0</th>\n",
       "      <th>PAY_2</th>\n",
       "      <th>PAY_3</th>\n",
       "      <th>PAY_4</th>\n",
       "      <th>...</th>\n",
       "      <th>BILL_AMT4</th>\n",
       "      <th>BILL_AMT5</th>\n",
       "      <th>BILL_AMT6</th>\n",
       "      <th>PAY_AMT1</th>\n",
       "      <th>PAY_AMT2</th>\n",
       "      <th>PAY_AMT3</th>\n",
       "      <th>PAY_AMT4</th>\n",
       "      <th>PAY_AMT5</th>\n",
       "      <th>PAY_AMT6</th>\n",
       "      <th>default payment next month</th>\n",
       "    </tr>\n",
       "  </thead>\n",
       "  <tbody>\n",
       "    <tr>\n",
       "      <th>0</th>\n",
       "      <td>1</td>\n",
       "      <td>20000</td>\n",
       "      <td>2</td>\n",
       "      <td>2</td>\n",
       "      <td>1</td>\n",
       "      <td>24</td>\n",
       "      <td>2</td>\n",
       "      <td>2</td>\n",
       "      <td>-1</td>\n",
       "      <td>-1</td>\n",
       "      <td>...</td>\n",
       "      <td>0</td>\n",
       "      <td>0</td>\n",
       "      <td>0</td>\n",
       "      <td>0</td>\n",
       "      <td>689</td>\n",
       "      <td>0</td>\n",
       "      <td>0</td>\n",
       "      <td>0</td>\n",
       "      <td>0</td>\n",
       "      <td>1</td>\n",
       "    </tr>\n",
       "    <tr>\n",
       "      <th>1</th>\n",
       "      <td>2</td>\n",
       "      <td>120000</td>\n",
       "      <td>2</td>\n",
       "      <td>2</td>\n",
       "      <td>2</td>\n",
       "      <td>26</td>\n",
       "      <td>-1</td>\n",
       "      <td>2</td>\n",
       "      <td>0</td>\n",
       "      <td>0</td>\n",
       "      <td>...</td>\n",
       "      <td>3272</td>\n",
       "      <td>3455</td>\n",
       "      <td>3261</td>\n",
       "      <td>0</td>\n",
       "      <td>1000</td>\n",
       "      <td>1000</td>\n",
       "      <td>1000</td>\n",
       "      <td>0</td>\n",
       "      <td>2000</td>\n",
       "      <td>1</td>\n",
       "    </tr>\n",
       "    <tr>\n",
       "      <th>2</th>\n",
       "      <td>3</td>\n",
       "      <td>90000</td>\n",
       "      <td>2</td>\n",
       "      <td>2</td>\n",
       "      <td>2</td>\n",
       "      <td>34</td>\n",
       "      <td>0</td>\n",
       "      <td>0</td>\n",
       "      <td>0</td>\n",
       "      <td>0</td>\n",
       "      <td>...</td>\n",
       "      <td>14331</td>\n",
       "      <td>14948</td>\n",
       "      <td>15549</td>\n",
       "      <td>1518</td>\n",
       "      <td>1500</td>\n",
       "      <td>1000</td>\n",
       "      <td>1000</td>\n",
       "      <td>1000</td>\n",
       "      <td>5000</td>\n",
       "      <td>0</td>\n",
       "    </tr>\n",
       "    <tr>\n",
       "      <th>3</th>\n",
       "      <td>4</td>\n",
       "      <td>50000</td>\n",
       "      <td>2</td>\n",
       "      <td>2</td>\n",
       "      <td>1</td>\n",
       "      <td>37</td>\n",
       "      <td>0</td>\n",
       "      <td>0</td>\n",
       "      <td>0</td>\n",
       "      <td>0</td>\n",
       "      <td>...</td>\n",
       "      <td>28314</td>\n",
       "      <td>28959</td>\n",
       "      <td>29547</td>\n",
       "      <td>2000</td>\n",
       "      <td>2019</td>\n",
       "      <td>1200</td>\n",
       "      <td>1100</td>\n",
       "      <td>1069</td>\n",
       "      <td>1000</td>\n",
       "      <td>0</td>\n",
       "    </tr>\n",
       "    <tr>\n",
       "      <th>4</th>\n",
       "      <td>5</td>\n",
       "      <td>50000</td>\n",
       "      <td>1</td>\n",
       "      <td>2</td>\n",
       "      <td>1</td>\n",
       "      <td>57</td>\n",
       "      <td>-1</td>\n",
       "      <td>0</td>\n",
       "      <td>-1</td>\n",
       "      <td>0</td>\n",
       "      <td>...</td>\n",
       "      <td>20940</td>\n",
       "      <td>19146</td>\n",
       "      <td>19131</td>\n",
       "      <td>2000</td>\n",
       "      <td>36681</td>\n",
       "      <td>10000</td>\n",
       "      <td>9000</td>\n",
       "      <td>689</td>\n",
       "      <td>679</td>\n",
       "      <td>0</td>\n",
       "    </tr>\n",
       "  </tbody>\n",
       "</table>\n",
       "<p>5 rows × 25 columns</p>\n",
       "</div>"
      ],
      "text/plain": [
       "   ID  LIMIT_BAL  SEX  EDUCATION  MARRIAGE  AGE  PAY_0  PAY_2  PAY_3  PAY_4  \\\n",
       "0   1      20000    2          2         1   24      2      2     -1     -1   \n",
       "1   2     120000    2          2         2   26     -1      2      0      0   \n",
       "2   3      90000    2          2         2   34      0      0      0      0   \n",
       "3   4      50000    2          2         1   37      0      0      0      0   \n",
       "4   5      50000    1          2         1   57     -1      0     -1      0   \n",
       "\n",
       "              ...              BILL_AMT4  BILL_AMT5  BILL_AMT6  PAY_AMT1  \\\n",
       "0             ...                      0          0          0         0   \n",
       "1             ...                   3272       3455       3261         0   \n",
       "2             ...                  14331      14948      15549      1518   \n",
       "3             ...                  28314      28959      29547      2000   \n",
       "4             ...                  20940      19146      19131      2000   \n",
       "\n",
       "   PAY_AMT2  PAY_AMT3  PAY_AMT4  PAY_AMT5  PAY_AMT6  \\\n",
       "0       689         0         0         0         0   \n",
       "1      1000      1000      1000         0      2000   \n",
       "2      1500      1000      1000      1000      5000   \n",
       "3      2019      1200      1100      1069      1000   \n",
       "4     36681     10000      9000       689       679   \n",
       "\n",
       "   default payment next month  \n",
       "0                           1  \n",
       "1                           1  \n",
       "2                           0  \n",
       "3                           0  \n",
       "4                           0  \n",
       "\n",
       "[5 rows x 25 columns]"
      ]
     },
     "execution_count": 116,
     "metadata": {},
     "output_type": "execute_result"
    }
   ],
   "source": [
    "#Check the first 5 rows of the data frame\n",
    "credit.head()"
   ]
  },
  {
   "cell_type": "code",
   "execution_count": 117,
   "metadata": {},
   "outputs": [
    {
     "data": {
      "text/html": [
       "<div>\n",
       "<style scoped>\n",
       "    .dataframe tbody tr th:only-of-type {\n",
       "        vertical-align: middle;\n",
       "    }\n",
       "\n",
       "    .dataframe tbody tr th {\n",
       "        vertical-align: top;\n",
       "    }\n",
       "\n",
       "    .dataframe thead th {\n",
       "        text-align: right;\n",
       "    }\n",
       "</style>\n",
       "<table border=\"1\" class=\"dataframe\">\n",
       "  <thead>\n",
       "    <tr style=\"text-align: right;\">\n",
       "      <th></th>\n",
       "      <th>ID</th>\n",
       "      <th>LIMIT_BAL</th>\n",
       "      <th>SEX</th>\n",
       "      <th>EDUCATION</th>\n",
       "      <th>MARRIAGE</th>\n",
       "      <th>AGE</th>\n",
       "      <th>PAY_0</th>\n",
       "      <th>PAY_2</th>\n",
       "      <th>PAY_3</th>\n",
       "      <th>PAY_4</th>\n",
       "      <th>...</th>\n",
       "      <th>BILL_AMT4</th>\n",
       "      <th>BILL_AMT5</th>\n",
       "      <th>BILL_AMT6</th>\n",
       "      <th>PAY_AMT1</th>\n",
       "      <th>PAY_AMT2</th>\n",
       "      <th>PAY_AMT3</th>\n",
       "      <th>PAY_AMT4</th>\n",
       "      <th>PAY_AMT5</th>\n",
       "      <th>PAY_AMT6</th>\n",
       "      <th>default payment next month</th>\n",
       "    </tr>\n",
       "  </thead>\n",
       "  <tbody>\n",
       "    <tr>\n",
       "      <th>count</th>\n",
       "      <td>30000.000000</td>\n",
       "      <td>30000.000000</td>\n",
       "      <td>30000.000000</td>\n",
       "      <td>30000.000000</td>\n",
       "      <td>30000.000000</td>\n",
       "      <td>30000.000000</td>\n",
       "      <td>30000.000000</td>\n",
       "      <td>30000.000000</td>\n",
       "      <td>30000.000000</td>\n",
       "      <td>30000.000000</td>\n",
       "      <td>...</td>\n",
       "      <td>30000.000000</td>\n",
       "      <td>30000.000000</td>\n",
       "      <td>30000.000000</td>\n",
       "      <td>30000.000000</td>\n",
       "      <td>3.000000e+04</td>\n",
       "      <td>30000.00000</td>\n",
       "      <td>30000.000000</td>\n",
       "      <td>30000.000000</td>\n",
       "      <td>30000.000000</td>\n",
       "      <td>30000.000000</td>\n",
       "    </tr>\n",
       "    <tr>\n",
       "      <th>mean</th>\n",
       "      <td>15000.500000</td>\n",
       "      <td>167484.322667</td>\n",
       "      <td>1.603733</td>\n",
       "      <td>1.853133</td>\n",
       "      <td>1.551867</td>\n",
       "      <td>35.485500</td>\n",
       "      <td>-0.016700</td>\n",
       "      <td>-0.133767</td>\n",
       "      <td>-0.166200</td>\n",
       "      <td>-0.220667</td>\n",
       "      <td>...</td>\n",
       "      <td>43262.948967</td>\n",
       "      <td>40311.400967</td>\n",
       "      <td>38871.760400</td>\n",
       "      <td>5663.580500</td>\n",
       "      <td>5.921163e+03</td>\n",
       "      <td>5225.68150</td>\n",
       "      <td>4826.076867</td>\n",
       "      <td>4799.387633</td>\n",
       "      <td>5215.502567</td>\n",
       "      <td>0.221200</td>\n",
       "    </tr>\n",
       "    <tr>\n",
       "      <th>std</th>\n",
       "      <td>8660.398374</td>\n",
       "      <td>129747.661567</td>\n",
       "      <td>0.489129</td>\n",
       "      <td>0.790349</td>\n",
       "      <td>0.521970</td>\n",
       "      <td>9.217904</td>\n",
       "      <td>1.123802</td>\n",
       "      <td>1.197186</td>\n",
       "      <td>1.196868</td>\n",
       "      <td>1.169139</td>\n",
       "      <td>...</td>\n",
       "      <td>64332.856134</td>\n",
       "      <td>60797.155770</td>\n",
       "      <td>59554.107537</td>\n",
       "      <td>16563.280354</td>\n",
       "      <td>2.304087e+04</td>\n",
       "      <td>17606.96147</td>\n",
       "      <td>15666.159744</td>\n",
       "      <td>15278.305679</td>\n",
       "      <td>17777.465775</td>\n",
       "      <td>0.415062</td>\n",
       "    </tr>\n",
       "    <tr>\n",
       "      <th>min</th>\n",
       "      <td>1.000000</td>\n",
       "      <td>10000.000000</td>\n",
       "      <td>1.000000</td>\n",
       "      <td>0.000000</td>\n",
       "      <td>0.000000</td>\n",
       "      <td>21.000000</td>\n",
       "      <td>-2.000000</td>\n",
       "      <td>-2.000000</td>\n",
       "      <td>-2.000000</td>\n",
       "      <td>-2.000000</td>\n",
       "      <td>...</td>\n",
       "      <td>-170000.000000</td>\n",
       "      <td>-81334.000000</td>\n",
       "      <td>-339603.000000</td>\n",
       "      <td>0.000000</td>\n",
       "      <td>0.000000e+00</td>\n",
       "      <td>0.00000</td>\n",
       "      <td>0.000000</td>\n",
       "      <td>0.000000</td>\n",
       "      <td>0.000000</td>\n",
       "      <td>0.000000</td>\n",
       "    </tr>\n",
       "    <tr>\n",
       "      <th>25%</th>\n",
       "      <td>7500.750000</td>\n",
       "      <td>50000.000000</td>\n",
       "      <td>1.000000</td>\n",
       "      <td>1.000000</td>\n",
       "      <td>1.000000</td>\n",
       "      <td>28.000000</td>\n",
       "      <td>-1.000000</td>\n",
       "      <td>-1.000000</td>\n",
       "      <td>-1.000000</td>\n",
       "      <td>-1.000000</td>\n",
       "      <td>...</td>\n",
       "      <td>2326.750000</td>\n",
       "      <td>1763.000000</td>\n",
       "      <td>1256.000000</td>\n",
       "      <td>1000.000000</td>\n",
       "      <td>8.330000e+02</td>\n",
       "      <td>390.00000</td>\n",
       "      <td>296.000000</td>\n",
       "      <td>252.500000</td>\n",
       "      <td>117.750000</td>\n",
       "      <td>0.000000</td>\n",
       "    </tr>\n",
       "    <tr>\n",
       "      <th>50%</th>\n",
       "      <td>15000.500000</td>\n",
       "      <td>140000.000000</td>\n",
       "      <td>2.000000</td>\n",
       "      <td>2.000000</td>\n",
       "      <td>2.000000</td>\n",
       "      <td>34.000000</td>\n",
       "      <td>0.000000</td>\n",
       "      <td>0.000000</td>\n",
       "      <td>0.000000</td>\n",
       "      <td>0.000000</td>\n",
       "      <td>...</td>\n",
       "      <td>19052.000000</td>\n",
       "      <td>18104.500000</td>\n",
       "      <td>17071.000000</td>\n",
       "      <td>2100.000000</td>\n",
       "      <td>2.009000e+03</td>\n",
       "      <td>1800.00000</td>\n",
       "      <td>1500.000000</td>\n",
       "      <td>1500.000000</td>\n",
       "      <td>1500.000000</td>\n",
       "      <td>0.000000</td>\n",
       "    </tr>\n",
       "    <tr>\n",
       "      <th>75%</th>\n",
       "      <td>22500.250000</td>\n",
       "      <td>240000.000000</td>\n",
       "      <td>2.000000</td>\n",
       "      <td>2.000000</td>\n",
       "      <td>2.000000</td>\n",
       "      <td>41.000000</td>\n",
       "      <td>0.000000</td>\n",
       "      <td>0.000000</td>\n",
       "      <td>0.000000</td>\n",
       "      <td>0.000000</td>\n",
       "      <td>...</td>\n",
       "      <td>54506.000000</td>\n",
       "      <td>50190.500000</td>\n",
       "      <td>49198.250000</td>\n",
       "      <td>5006.000000</td>\n",
       "      <td>5.000000e+03</td>\n",
       "      <td>4505.00000</td>\n",
       "      <td>4013.250000</td>\n",
       "      <td>4031.500000</td>\n",
       "      <td>4000.000000</td>\n",
       "      <td>0.000000</td>\n",
       "    </tr>\n",
       "    <tr>\n",
       "      <th>max</th>\n",
       "      <td>30000.000000</td>\n",
       "      <td>1000000.000000</td>\n",
       "      <td>2.000000</td>\n",
       "      <td>6.000000</td>\n",
       "      <td>3.000000</td>\n",
       "      <td>79.000000</td>\n",
       "      <td>8.000000</td>\n",
       "      <td>8.000000</td>\n",
       "      <td>8.000000</td>\n",
       "      <td>8.000000</td>\n",
       "      <td>...</td>\n",
       "      <td>891586.000000</td>\n",
       "      <td>927171.000000</td>\n",
       "      <td>961664.000000</td>\n",
       "      <td>873552.000000</td>\n",
       "      <td>1.684259e+06</td>\n",
       "      <td>896040.00000</td>\n",
       "      <td>621000.000000</td>\n",
       "      <td>426529.000000</td>\n",
       "      <td>528666.000000</td>\n",
       "      <td>1.000000</td>\n",
       "    </tr>\n",
       "  </tbody>\n",
       "</table>\n",
       "<p>8 rows × 25 columns</p>\n",
       "</div>"
      ],
      "text/plain": [
       "                 ID       LIMIT_BAL           SEX     EDUCATION      MARRIAGE  \\\n",
       "count  30000.000000    30000.000000  30000.000000  30000.000000  30000.000000   \n",
       "mean   15000.500000   167484.322667      1.603733      1.853133      1.551867   \n",
       "std     8660.398374   129747.661567      0.489129      0.790349      0.521970   \n",
       "min        1.000000    10000.000000      1.000000      0.000000      0.000000   \n",
       "25%     7500.750000    50000.000000      1.000000      1.000000      1.000000   \n",
       "50%    15000.500000   140000.000000      2.000000      2.000000      2.000000   \n",
       "75%    22500.250000   240000.000000      2.000000      2.000000      2.000000   \n",
       "max    30000.000000  1000000.000000      2.000000      6.000000      3.000000   \n",
       "\n",
       "                AGE         PAY_0         PAY_2         PAY_3         PAY_4  \\\n",
       "count  30000.000000  30000.000000  30000.000000  30000.000000  30000.000000   \n",
       "mean      35.485500     -0.016700     -0.133767     -0.166200     -0.220667   \n",
       "std        9.217904      1.123802      1.197186      1.196868      1.169139   \n",
       "min       21.000000     -2.000000     -2.000000     -2.000000     -2.000000   \n",
       "25%       28.000000     -1.000000     -1.000000     -1.000000     -1.000000   \n",
       "50%       34.000000      0.000000      0.000000      0.000000      0.000000   \n",
       "75%       41.000000      0.000000      0.000000      0.000000      0.000000   \n",
       "max       79.000000      8.000000      8.000000      8.000000      8.000000   \n",
       "\n",
       "                  ...                  BILL_AMT4      BILL_AMT5  \\\n",
       "count             ...               30000.000000   30000.000000   \n",
       "mean              ...               43262.948967   40311.400967   \n",
       "std               ...               64332.856134   60797.155770   \n",
       "min               ...             -170000.000000  -81334.000000   \n",
       "25%               ...                2326.750000    1763.000000   \n",
       "50%               ...               19052.000000   18104.500000   \n",
       "75%               ...               54506.000000   50190.500000   \n",
       "max               ...              891586.000000  927171.000000   \n",
       "\n",
       "           BILL_AMT6       PAY_AMT1      PAY_AMT2      PAY_AMT3  \\\n",
       "count   30000.000000   30000.000000  3.000000e+04   30000.00000   \n",
       "mean    38871.760400    5663.580500  5.921163e+03    5225.68150   \n",
       "std     59554.107537   16563.280354  2.304087e+04   17606.96147   \n",
       "min   -339603.000000       0.000000  0.000000e+00       0.00000   \n",
       "25%      1256.000000    1000.000000  8.330000e+02     390.00000   \n",
       "50%     17071.000000    2100.000000  2.009000e+03    1800.00000   \n",
       "75%     49198.250000    5006.000000  5.000000e+03    4505.00000   \n",
       "max    961664.000000  873552.000000  1.684259e+06  896040.00000   \n",
       "\n",
       "            PAY_AMT4       PAY_AMT5       PAY_AMT6  default payment next month  \n",
       "count   30000.000000   30000.000000   30000.000000                30000.000000  \n",
       "mean     4826.076867    4799.387633    5215.502567                    0.221200  \n",
       "std     15666.159744   15278.305679   17777.465775                    0.415062  \n",
       "min         0.000000       0.000000       0.000000                    0.000000  \n",
       "25%       296.000000     252.500000     117.750000                    0.000000  \n",
       "50%      1500.000000    1500.000000    1500.000000                    0.000000  \n",
       "75%      4013.250000    4031.500000    4000.000000                    0.000000  \n",
       "max    621000.000000  426529.000000  528666.000000                    1.000000  \n",
       "\n",
       "[8 rows x 25 columns]"
      ]
     },
     "execution_count": 117,
     "metadata": {},
     "output_type": "execute_result"
    }
   ],
   "source": [
    "#Check the statistics of dataframe\n",
    "credit.describe()"
   ]
  },
  {
   "cell_type": "code",
   "execution_count": 118,
   "metadata": {},
   "outputs": [
    {
     "data": {
      "text/plain": [
       "Index(['ID', 'LIMIT_BAL', 'SEX', 'EDUCATION', 'MARRIAGE', 'AGE', 'PAY_0',\n",
       "       'PAY_2', 'PAY_3', 'PAY_4', 'PAY_5', 'PAY_6', 'BILL_AMT1', 'BILL_AMT2',\n",
       "       'BILL_AMT3', 'BILL_AMT4', 'BILL_AMT5', 'BILL_AMT6', 'PAY_AMT1',\n",
       "       'PAY_AMT2', 'PAY_AMT3', 'PAY_AMT4', 'PAY_AMT5', 'PAY_AMT6',\n",
       "       'default payment next month'],\n",
       "      dtype='object')"
      ]
     },
     "execution_count": 118,
     "metadata": {},
     "output_type": "execute_result"
    }
   ],
   "source": [
    "#Column Names\n",
    "credit.columns"
   ]
  },
  {
   "cell_type": "code",
   "execution_count": 119,
   "metadata": {},
   "outputs": [
    {
     "name": "stdout",
     "output_type": "stream",
     "text": [
      "<class 'pandas.core.frame.DataFrame'>\n",
      "RangeIndex: 30000 entries, 0 to 29999\n",
      "Data columns (total 25 columns):\n",
      "ID                            30000 non-null int64\n",
      "LIMIT_BAL                     30000 non-null int64\n",
      "SEX                           30000 non-null int64\n",
      "EDUCATION                     30000 non-null int64\n",
      "MARRIAGE                      30000 non-null int64\n",
      "AGE                           30000 non-null int64\n",
      "PAY_0                         30000 non-null int64\n",
      "PAY_2                         30000 non-null int64\n",
      "PAY_3                         30000 non-null int64\n",
      "PAY_4                         30000 non-null int64\n",
      "PAY_5                         30000 non-null int64\n",
      "PAY_6                         30000 non-null int64\n",
      "BILL_AMT1                     30000 non-null int64\n",
      "BILL_AMT2                     30000 non-null int64\n",
      "BILL_AMT3                     30000 non-null int64\n",
      "BILL_AMT4                     30000 non-null int64\n",
      "BILL_AMT5                     30000 non-null int64\n",
      "BILL_AMT6                     30000 non-null int64\n",
      "PAY_AMT1                      30000 non-null int64\n",
      "PAY_AMT2                      30000 non-null int64\n",
      "PAY_AMT3                      30000 non-null int64\n",
      "PAY_AMT4                      30000 non-null int64\n",
      "PAY_AMT5                      30000 non-null int64\n",
      "PAY_AMT6                      30000 non-null int64\n",
      "default payment next month    30000 non-null int64\n",
      "dtypes: int64(25)\n",
      "memory usage: 5.7 MB\n"
     ]
    }
   ],
   "source": [
    "#Information about the dataset\n",
    "credit.info()"
   ]
  },
  {
   "cell_type": "markdown",
   "metadata": {},
   "source": [
    "## Data Preparation"
   ]
  },
  {
   "cell_type": "code",
   "execution_count": 120,
   "metadata": {},
   "outputs": [
    {
     "data": {
      "text/plain": [
       "Index(['ID', 'LIMIT_BAL', 'SEX', 'EDUCATION', 'MARRIAGE', 'AGE', 'PAY_1',\n",
       "       'PAY_2', 'PAY_3', 'PAY_4', 'PAY_5', 'PAY_6', 'BILL_AMT1', 'BILL_AMT2',\n",
       "       'BILL_AMT3', 'BILL_AMT4', 'BILL_AMT5', 'BILL_AMT6', 'PAY_AMT1',\n",
       "       'PAY_AMT2', 'PAY_AMT3', 'PAY_AMT4', 'PAY_AMT5', 'PAY_AMT6',\n",
       "       'default_pay'],\n",
       "      dtype='object')"
      ]
     },
     "execution_count": 120,
     "metadata": {},
     "output_type": "execute_result"
    }
   ],
   "source": [
    "#Rename variable \"default payment next month\" to \"default\" and PAY_0 to PAY_1\n",
    "credit.rename(columns= {\"default payment next month\" : \"default_pay\",\"PAY_0\" : \"PAY_1\"}, inplace = True)\n",
    "credit.columns"
   ]
  },
  {
   "cell_type": "code",
   "execution_count": 121,
   "metadata": {},
   "outputs": [
    {
     "name": "stdout",
     "output_type": "stream",
     "text": [
      "Series([], dtype: bool)\n"
     ]
    }
   ],
   "source": [
    "#Check for any duplicates\n",
    "credit_dups = pd.DataFrame.duplicated(credit)\n",
    "#print(credit)\n",
    "print(credit_dups[credit_dups == True])"
   ]
  },
  {
   "cell_type": "code",
   "execution_count": 122,
   "metadata": {},
   "outputs": [
    {
     "name": "stdout",
     "output_type": "stream",
     "text": [
      "No missing values in ID\n",
      "No missing values in LIMIT_BAL\n",
      "No missing values in SEX\n",
      "No missing values in EDUCATION\n",
      "No missing values in MARRIAGE\n",
      "No missing values in AGE\n",
      "No missing values in PAY_1\n",
      "No missing values in PAY_2\n",
      "No missing values in PAY_3\n",
      "No missing values in PAY_4\n",
      "No missing values in PAY_5\n",
      "No missing values in PAY_6\n",
      "No missing values in BILL_AMT1\n",
      "No missing values in BILL_AMT2\n",
      "No missing values in BILL_AMT3\n",
      "No missing values in BILL_AMT4\n",
      "No missing values in BILL_AMT5\n",
      "No missing values in BILL_AMT6\n",
      "No missing values in PAY_AMT1\n",
      "No missing values in PAY_AMT2\n",
      "No missing values in PAY_AMT3\n",
      "No missing values in PAY_AMT4\n",
      "No missing values in PAY_AMT5\n",
      "No missing values in PAY_AMT6\n",
      "No missing values in default_pay\n"
     ]
    }
   ],
   "source": [
    "#Check for any missing values\n",
    "#checking NaN values if there is any then data will be sanitized \n",
    "for column in credit:\n",
    "    if credit[column].isnull().values.any():\n",
    "        print (\"NaN value/s detected in \"+column)\n",
    "    else:\n",
    "        print (\"No missing values in \"+column)"
   ]
  },
  {
   "cell_type": "code",
   "execution_count": 123,
   "metadata": {},
   "outputs": [
    {
     "name": "stdout",
     "output_type": "stream",
     "text": [
      "<class 'pandas.core.frame.DataFrame'>\n",
      "RangeIndex: 30000 entries, 0 to 29999\n",
      "Data columns (total 25 columns):\n",
      "ID             30000 non-null int64\n",
      "LIMIT_BAL      30000 non-null int64\n",
      "SEX            30000 non-null category\n",
      "EDUCATION      30000 non-null category\n",
      "MARRIAGE       30000 non-null category\n",
      "AGE            30000 non-null int64\n",
      "PAY_1          30000 non-null category\n",
      "PAY_2          30000 non-null category\n",
      "PAY_3          30000 non-null category\n",
      "PAY_4          30000 non-null category\n",
      "PAY_5          30000 non-null category\n",
      "PAY_6          30000 non-null category\n",
      "BILL_AMT1      30000 non-null int64\n",
      "BILL_AMT2      30000 non-null int64\n",
      "BILL_AMT3      30000 non-null int64\n",
      "BILL_AMT4      30000 non-null int64\n",
      "BILL_AMT5      30000 non-null int64\n",
      "BILL_AMT6      30000 non-null int64\n",
      "PAY_AMT1       30000 non-null int64\n",
      "PAY_AMT2       30000 non-null int64\n",
      "PAY_AMT3       30000 non-null int64\n",
      "PAY_AMT4       30000 non-null int64\n",
      "PAY_AMT5       30000 non-null int64\n",
      "PAY_AMT6       30000 non-null int64\n",
      "default_pay    30000 non-null category\n",
      "dtypes: category(10), int64(15)\n",
      "memory usage: 3.7 MB\n"
     ]
    }
   ],
   "source": [
    "#Convert Sex, Education, Marriage, Default_pay,and all Payment status svariables from integer to category\n",
    "credit[[\"SEX\",\"EDUCATION\",\"MARRIAGE\",\"default_pay\"]] = credit[[\"SEX\",\"EDUCATION\",\"MARRIAGE\",\"default_pay\"]].astype(\"category\")\n",
    "credit[[\"PAY_1\",\"PAY_2\",\"PAY_3\",\"PAY_4\",\"PAY_5\",\"PAY_6\"]] = credit[[\"PAY_1\",\"PAY_2\",\"PAY_3\",\"PAY_4\",\"PAY_5\",\"PAY_6\"]].astype(\"category\")\n",
    "credit.info()"
   ]
  },
  {
   "cell_type": "code",
   "execution_count": 124,
   "metadata": {},
   "outputs": [
    {
     "name": "stdout",
     "output_type": "stream",
     "text": [
      "Sex:  [2, 1]\n",
      "Categories (2, int64): [2, 1] \n",
      "\n",
      "Marriage:  [1, 2, 3, 0]\n",
      "Categories (4, int64): [1, 2, 3, 0] \n",
      "\n",
      "Education:  [2, 1, 3, 5, 4, 6, 0]\n",
      "Categories (7, int64): [2, 1, 3, 5, 4, 6, 0] \n",
      "\n"
     ]
    },
    {
     "data": {
      "text/plain": [
       "2    14030\n",
       "1    10585\n",
       "3     4917\n",
       "5      280\n",
       "4      123\n",
       "6       51\n",
       "0       14\n",
       "Name: EDUCATION, dtype: int64"
      ]
     },
     "execution_count": 124,
     "metadata": {},
     "output_type": "execute_result"
    }
   ],
   "source": [
    "#Check for category levels\n",
    "print(\"Sex: \",credit[\"SEX\"].unique(),\"\\n\")\n",
    "print(\"Marriage: \",credit[\"MARRIAGE\"].unique(),\"\\n\")\n",
    "print(\"Education: \",credit[\"EDUCATION\"].unique(),\"\\n\")\n",
    "credit[\"EDUCATION\"].value_counts()"
   ]
  },
  {
   "cell_type": "code",
   "execution_count": 125,
   "metadata": {},
   "outputs": [
    {
     "data": {
      "text/plain": [
       "0             University\n",
       "1             University\n",
       "2             University\n",
       "3             University\n",
       "4             University\n",
       "5        Graduate School\n",
       "6        Graduate School\n",
       "7             University\n",
       "8            High School\n",
       "9            High School\n",
       "10           High School\n",
       "11       Graduate School\n",
       "12            University\n",
       "13            University\n",
       "14       Graduate School\n",
       "15           High School\n",
       "16       Graduate School\n",
       "17       Graduate School\n",
       "18       Graduate School\n",
       "19       Graduate School\n",
       "20           High School\n",
       "21            University\n",
       "22            University\n",
       "23       Graduate School\n",
       "24       Graduate School\n",
       "25           High School\n",
       "26       Graduate School\n",
       "27           High School\n",
       "28           High School\n",
       "29       Graduate School\n",
       "              ...       \n",
       "29970    Graduate School\n",
       "29971        High School\n",
       "29972    Graduate School\n",
       "29973         University\n",
       "29974         University\n",
       "29975         University\n",
       "29976         University\n",
       "29977    Graduate School\n",
       "29978         University\n",
       "29979    Graduate School\n",
       "29980        High School\n",
       "29981         University\n",
       "29982         University\n",
       "29983         University\n",
       "29984         University\n",
       "29985    Graduate School\n",
       "29986    Graduate School\n",
       "29987    Graduate School\n",
       "29988    Graduate School\n",
       "29989    Graduate School\n",
       "29990         University\n",
       "29991         University\n",
       "29992        High School\n",
       "29993    Graduate School\n",
       "29994         University\n",
       "29995        High School\n",
       "29996        High School\n",
       "29997         University\n",
       "29998        High School\n",
       "29999         University\n",
       "Name: EDUCATION, Length: 30000, dtype: category\n",
       "Categories (4, object): [Graduate School, University, High School, Others]"
      ]
     },
     "execution_count": 125,
     "metadata": {},
     "output_type": "execute_result"
    }
   ],
   "source": [
    "#change the values of EDUCATION : (1 = graduate school; 2 = university; 3 = high school; 0, 4, 5, 6 = others)\n",
    "#Merge levels 0,4,5,6 to 4\n",
    "\n",
    "Edu_level = ((credit[\"EDUCATION\"] == 0) | (credit[\"EDUCATION\"] == 5) | (credit[\"EDUCATION\"] ==6))\n",
    "credit.loc[Edu_level, \"EDUCATION\"] = 4\n",
    "credit['EDUCATION'] = credit['EDUCATION'].cat.rename_categories({1 : 'Graduate School' , 2: 'University' , 3: 'High School', 4: 'Others'})\n",
    "credit[\"EDUCATION\"].cat.remove_unused_categories()\n"
   ]
  },
  {
   "cell_type": "code",
   "execution_count": 126,
   "metadata": {},
   "outputs": [
    {
     "data": {
      "text/plain": [
       "Female    18112\n",
       "Male      11888\n",
       "Name: SEX, dtype: int64"
      ]
     },
     "execution_count": 126,
     "metadata": {},
     "output_type": "execute_result"
    }
   ],
   "source": [
    "#Rename levels in SEX as 1- Male , 2- Female\n",
    "credit['SEX'] = credit['SEX'].cat.rename_categories(['Male', 'Female'])\n",
    "credit['SEX'].value_counts()"
   ]
  },
  {
   "cell_type": "code",
   "execution_count": 127,
   "metadata": {},
   "outputs": [
    {
     "data": {
      "text/plain": [
       "Single     15964\n",
       "Married    13659\n",
       "Divorce      323\n",
       "Others        54\n",
       "Name: MARRIAGE, dtype: int64"
      ]
     },
     "execution_count": 127,
     "metadata": {},
     "output_type": "execute_result"
    }
   ],
   "source": [
    "#Rename levels in Marriage as 1- Married, 2- single, 3- Divorce, 0- Others\n",
    "credit['MARRIAGE'] = credit['MARRIAGE'].cat.rename_categories({1 : 'Married' , 2: 'Single' , 3: 'Divorce', 0: 'Others'})\n",
    "credit['MARRIAGE'].value_counts()"
   ]
  },
  {
   "cell_type": "code",
   "execution_count": 128,
   "metadata": {},
   "outputs": [
    {
     "data": {
      "text/plain": [
       "No Default    23364\n",
       "Default        6636\n",
       "Name: default_pay, dtype: int64"
      ]
     },
     "execution_count": 128,
     "metadata": {},
     "output_type": "execute_result"
    }
   ],
   "source": [
    "credit['default_pay'] = credit['default_pay'].cat.rename_categories(['No Default', 'Default'])\n",
    "credit[\"default_pay\"].value_counts()"
   ]
  },
  {
   "cell_type": "code",
   "execution_count": 129,
   "metadata": {},
   "outputs": [
    {
     "data": {
      "text/plain": [
       "Index(['LIMIT_BAL', 'SEX', 'EDUCATION', 'MARRIAGE', 'AGE', 'PAY_1', 'PAY_2',\n",
       "       'PAY_3', 'PAY_4', 'PAY_5', 'PAY_6', 'BILL_AMT1', 'BILL_AMT2',\n",
       "       'BILL_AMT3', 'BILL_AMT4', 'BILL_AMT5', 'BILL_AMT6', 'PAY_AMT1',\n",
       "       'PAY_AMT2', 'PAY_AMT3', 'PAY_AMT4', 'PAY_AMT5', 'PAY_AMT6',\n",
       "       'default_pay'],\n",
       "      dtype='object')"
      ]
     },
     "execution_count": 129,
     "metadata": {},
     "output_type": "execute_result"
    }
   ],
   "source": [
    "#Drop variables- here we drop ID column \n",
    "\n",
    "credit.drop(columns = [\"ID\"], inplace = True)\n",
    "credit.columns"
   ]
  },
  {
   "cell_type": "code",
   "execution_count": 130,
   "metadata": {},
   "outputs": [
    {
     "name": "stdout",
     "output_type": "stream",
     "text": [
      "<class 'pandas.core.frame.DataFrame'>\n",
      "RangeIndex: 30000 entries, 0 to 29999\n",
      "Data columns (total 24 columns):\n",
      "LIMIT_BAL      30000 non-null int64\n",
      "SEX            30000 non-null category\n",
      "EDUCATION      30000 non-null category\n",
      "MARRIAGE       30000 non-null category\n",
      "AGE            30000 non-null int64\n",
      "PAY_1          30000 non-null category\n",
      "PAY_2          30000 non-null category\n",
      "PAY_3          30000 non-null category\n",
      "PAY_4          30000 non-null category\n",
      "PAY_5          30000 non-null category\n",
      "PAY_6          30000 non-null category\n",
      "BILL_AMT1      30000 non-null int64\n",
      "BILL_AMT2      30000 non-null int64\n",
      "BILL_AMT3      30000 non-null int64\n",
      "BILL_AMT4      30000 non-null int64\n",
      "BILL_AMT5      30000 non-null int64\n",
      "BILL_AMT6      30000 non-null int64\n",
      "PAY_AMT1       30000 non-null int64\n",
      "PAY_AMT2       30000 non-null int64\n",
      "PAY_AMT3       30000 non-null int64\n",
      "PAY_AMT4       30000 non-null int64\n",
      "PAY_AMT5       30000 non-null int64\n",
      "PAY_AMT6       30000 non-null int64\n",
      "default_pay    30000 non-null category\n",
      "dtypes: category(10), int64(14)\n",
      "memory usage: 3.5 MB\n"
     ]
    }
   ],
   "source": [
    "credit.info()"
   ]
  },
  {
   "cell_type": "code",
   "execution_count": 131,
   "metadata": {},
   "outputs": [],
   "source": [
    "#Discretize the AGE variable by decades.\n",
    "credit['age_by_decade'] = pd.cut(x=credit['AGE'], bins=[20, 29, 39, 49, 59, 69, 79, 89], labels=['20s', '30s', '40s', '50s','60s','70s','80s'])"
   ]
  },
  {
   "cell_type": "code",
   "execution_count": 132,
   "metadata": {},
   "outputs": [],
   "source": [
    "#Write the modified credit defaults dataframe to a csv file for further visualizationsssss\n",
    "credit.to_csv('Credit_defaults_v1.csv', sep = ',', index = False)"
   ]
  },
  {
   "cell_type": "code",
   "execution_count": 133,
   "metadata": {},
   "outputs": [
    {
     "data": {
      "text/html": [
       "<div>\n",
       "<style scoped>\n",
       "    .dataframe tbody tr th:only-of-type {\n",
       "        vertical-align: middle;\n",
       "    }\n",
       "\n",
       "    .dataframe tbody tr th {\n",
       "        vertical-align: top;\n",
       "    }\n",
       "\n",
       "    .dataframe thead th {\n",
       "        text-align: right;\n",
       "    }\n",
       "</style>\n",
       "<table border=\"1\" class=\"dataframe\">\n",
       "  <thead>\n",
       "    <tr style=\"text-align: right;\">\n",
       "      <th></th>\n",
       "      <th>PAY_AMT1</th>\n",
       "      <th>PAY_AMT2</th>\n",
       "      <th>PAY_AMT3</th>\n",
       "      <th>PAY_AMT4</th>\n",
       "      <th>PAY_AMT5</th>\n",
       "      <th>PAY_AMT6</th>\n",
       "    </tr>\n",
       "  </thead>\n",
       "  <tbody>\n",
       "    <tr>\n",
       "      <th>count</th>\n",
       "      <td>30000.000000</td>\n",
       "      <td>3.000000e+04</td>\n",
       "      <td>30000.00000</td>\n",
       "      <td>30000.000000</td>\n",
       "      <td>30000.000000</td>\n",
       "      <td>30000.000000</td>\n",
       "    </tr>\n",
       "    <tr>\n",
       "      <th>mean</th>\n",
       "      <td>5663.580500</td>\n",
       "      <td>5.921163e+03</td>\n",
       "      <td>5225.68150</td>\n",
       "      <td>4826.076867</td>\n",
       "      <td>4799.387633</td>\n",
       "      <td>5215.502567</td>\n",
       "    </tr>\n",
       "    <tr>\n",
       "      <th>std</th>\n",
       "      <td>16563.280354</td>\n",
       "      <td>2.304087e+04</td>\n",
       "      <td>17606.96147</td>\n",
       "      <td>15666.159744</td>\n",
       "      <td>15278.305679</td>\n",
       "      <td>17777.465775</td>\n",
       "    </tr>\n",
       "    <tr>\n",
       "      <th>min</th>\n",
       "      <td>0.000000</td>\n",
       "      <td>0.000000e+00</td>\n",
       "      <td>0.00000</td>\n",
       "      <td>0.000000</td>\n",
       "      <td>0.000000</td>\n",
       "      <td>0.000000</td>\n",
       "    </tr>\n",
       "    <tr>\n",
       "      <th>25%</th>\n",
       "      <td>1000.000000</td>\n",
       "      <td>8.330000e+02</td>\n",
       "      <td>390.00000</td>\n",
       "      <td>296.000000</td>\n",
       "      <td>252.500000</td>\n",
       "      <td>117.750000</td>\n",
       "    </tr>\n",
       "    <tr>\n",
       "      <th>50%</th>\n",
       "      <td>2100.000000</td>\n",
       "      <td>2.009000e+03</td>\n",
       "      <td>1800.00000</td>\n",
       "      <td>1500.000000</td>\n",
       "      <td>1500.000000</td>\n",
       "      <td>1500.000000</td>\n",
       "    </tr>\n",
       "    <tr>\n",
       "      <th>75%</th>\n",
       "      <td>5006.000000</td>\n",
       "      <td>5.000000e+03</td>\n",
       "      <td>4505.00000</td>\n",
       "      <td>4013.250000</td>\n",
       "      <td>4031.500000</td>\n",
       "      <td>4000.000000</td>\n",
       "    </tr>\n",
       "    <tr>\n",
       "      <th>max</th>\n",
       "      <td>873552.000000</td>\n",
       "      <td>1.684259e+06</td>\n",
       "      <td>896040.00000</td>\n",
       "      <td>621000.000000</td>\n",
       "      <td>426529.000000</td>\n",
       "      <td>528666.000000</td>\n",
       "    </tr>\n",
       "  </tbody>\n",
       "</table>\n",
       "</div>"
      ],
      "text/plain": [
       "            PAY_AMT1      PAY_AMT2      PAY_AMT3       PAY_AMT4  \\\n",
       "count   30000.000000  3.000000e+04   30000.00000   30000.000000   \n",
       "mean     5663.580500  5.921163e+03    5225.68150    4826.076867   \n",
       "std     16563.280354  2.304087e+04   17606.96147   15666.159744   \n",
       "min         0.000000  0.000000e+00       0.00000       0.000000   \n",
       "25%      1000.000000  8.330000e+02     390.00000     296.000000   \n",
       "50%      2100.000000  2.009000e+03    1800.00000    1500.000000   \n",
       "75%      5006.000000  5.000000e+03    4505.00000    4013.250000   \n",
       "max    873552.000000  1.684259e+06  896040.00000  621000.000000   \n",
       "\n",
       "            PAY_AMT5       PAY_AMT6  \n",
       "count   30000.000000   30000.000000  \n",
       "mean     4799.387633    5215.502567  \n",
       "std     15278.305679   17777.465775  \n",
       "min         0.000000       0.000000  \n",
       "25%       252.500000     117.750000  \n",
       "50%      1500.000000    1500.000000  \n",
       "75%      4031.500000    4000.000000  \n",
       "max    426529.000000  528666.000000  "
      ]
     },
     "execution_count": 133,
     "metadata": {},
     "output_type": "execute_result"
    }
   ],
   "source": [
    "#initial analysis of Payment amount variables\n",
    "credit[['PAY_AMT1','PAY_AMT2','PAY_AMT3','PAY_AMT4','PAY_AMT5','PAY_AMT6']].describe()"
   ]
  },
  {
   "cell_type": "code",
   "execution_count": 134,
   "metadata": {},
   "outputs": [
    {
     "data": {
      "text/html": [
       "<div>\n",
       "<style scoped>\n",
       "    .dataframe tbody tr th:only-of-type {\n",
       "        vertical-align: middle;\n",
       "    }\n",
       "\n",
       "    .dataframe tbody tr th {\n",
       "        vertical-align: top;\n",
       "    }\n",
       "\n",
       "    .dataframe thead th {\n",
       "        text-align: right;\n",
       "    }\n",
       "</style>\n",
       "<table border=\"1\" class=\"dataframe\">\n",
       "  <thead>\n",
       "    <tr style=\"text-align: right;\">\n",
       "      <th></th>\n",
       "      <th>BILL_AMT1</th>\n",
       "      <th>BILL_AMT2</th>\n",
       "      <th>BILL_AMT3</th>\n",
       "      <th>BILL_AMT4</th>\n",
       "      <th>BILL_AMT5</th>\n",
       "      <th>BILL_AMT6</th>\n",
       "    </tr>\n",
       "  </thead>\n",
       "  <tbody>\n",
       "    <tr>\n",
       "      <th>count</th>\n",
       "      <td>30000.000000</td>\n",
       "      <td>30000.000000</td>\n",
       "      <td>3.000000e+04</td>\n",
       "      <td>30000.000000</td>\n",
       "      <td>30000.000000</td>\n",
       "      <td>30000.000000</td>\n",
       "    </tr>\n",
       "    <tr>\n",
       "      <th>mean</th>\n",
       "      <td>51223.330900</td>\n",
       "      <td>49179.075167</td>\n",
       "      <td>4.701315e+04</td>\n",
       "      <td>43262.948967</td>\n",
       "      <td>40311.400967</td>\n",
       "      <td>38871.760400</td>\n",
       "    </tr>\n",
       "    <tr>\n",
       "      <th>std</th>\n",
       "      <td>73635.860576</td>\n",
       "      <td>71173.768783</td>\n",
       "      <td>6.934939e+04</td>\n",
       "      <td>64332.856134</td>\n",
       "      <td>60797.155770</td>\n",
       "      <td>59554.107537</td>\n",
       "    </tr>\n",
       "    <tr>\n",
       "      <th>min</th>\n",
       "      <td>-165580.000000</td>\n",
       "      <td>-69777.000000</td>\n",
       "      <td>-1.572640e+05</td>\n",
       "      <td>-170000.000000</td>\n",
       "      <td>-81334.000000</td>\n",
       "      <td>-339603.000000</td>\n",
       "    </tr>\n",
       "    <tr>\n",
       "      <th>25%</th>\n",
       "      <td>3558.750000</td>\n",
       "      <td>2984.750000</td>\n",
       "      <td>2.666250e+03</td>\n",
       "      <td>2326.750000</td>\n",
       "      <td>1763.000000</td>\n",
       "      <td>1256.000000</td>\n",
       "    </tr>\n",
       "    <tr>\n",
       "      <th>50%</th>\n",
       "      <td>22381.500000</td>\n",
       "      <td>21200.000000</td>\n",
       "      <td>2.008850e+04</td>\n",
       "      <td>19052.000000</td>\n",
       "      <td>18104.500000</td>\n",
       "      <td>17071.000000</td>\n",
       "    </tr>\n",
       "    <tr>\n",
       "      <th>75%</th>\n",
       "      <td>67091.000000</td>\n",
       "      <td>64006.250000</td>\n",
       "      <td>6.016475e+04</td>\n",
       "      <td>54506.000000</td>\n",
       "      <td>50190.500000</td>\n",
       "      <td>49198.250000</td>\n",
       "    </tr>\n",
       "    <tr>\n",
       "      <th>max</th>\n",
       "      <td>964511.000000</td>\n",
       "      <td>983931.000000</td>\n",
       "      <td>1.664089e+06</td>\n",
       "      <td>891586.000000</td>\n",
       "      <td>927171.000000</td>\n",
       "      <td>961664.000000</td>\n",
       "    </tr>\n",
       "  </tbody>\n",
       "</table>\n",
       "</div>"
      ],
      "text/plain": [
       "           BILL_AMT1      BILL_AMT2     BILL_AMT3      BILL_AMT4  \\\n",
       "count   30000.000000   30000.000000  3.000000e+04   30000.000000   \n",
       "mean    51223.330900   49179.075167  4.701315e+04   43262.948967   \n",
       "std     73635.860576   71173.768783  6.934939e+04   64332.856134   \n",
       "min   -165580.000000  -69777.000000 -1.572640e+05 -170000.000000   \n",
       "25%      3558.750000    2984.750000  2.666250e+03    2326.750000   \n",
       "50%     22381.500000   21200.000000  2.008850e+04   19052.000000   \n",
       "75%     67091.000000   64006.250000  6.016475e+04   54506.000000   \n",
       "max    964511.000000  983931.000000  1.664089e+06  891586.000000   \n",
       "\n",
       "           BILL_AMT5      BILL_AMT6  \n",
       "count   30000.000000   30000.000000  \n",
       "mean    40311.400967   38871.760400  \n",
       "std     60797.155770   59554.107537  \n",
       "min    -81334.000000 -339603.000000  \n",
       "25%      1763.000000    1256.000000  \n",
       "50%     18104.500000   17071.000000  \n",
       "75%     50190.500000   49198.250000  \n",
       "max    927171.000000  961664.000000  "
      ]
     },
     "execution_count": 134,
     "metadata": {},
     "output_type": "execute_result"
    }
   ],
   "source": [
    "#Initial analysis of Bill amount variables\n",
    "credit[['BILL_AMT1','BILL_AMT2','BILL_AMT3','BILL_AMT4','BILL_AMT5','BILL_AMT6']].describe()"
   ]
  },
  {
   "cell_type": "code",
   "execution_count": 135,
   "metadata": {},
   "outputs": [
    {
     "data": {
      "text/html": [
       "<div>\n",
       "<style scoped>\n",
       "    .dataframe tbody tr th:only-of-type {\n",
       "        vertical-align: middle;\n",
       "    }\n",
       "\n",
       "    .dataframe tbody tr th {\n",
       "        vertical-align: top;\n",
       "    }\n",
       "\n",
       "    .dataframe thead th {\n",
       "        text-align: right;\n",
       "    }\n",
       "</style>\n",
       "<table border=\"1\" class=\"dataframe\">\n",
       "  <thead>\n",
       "    <tr style=\"text-align: right;\">\n",
       "      <th></th>\n",
       "      <th>LIMIT_BAL</th>\n",
       "    </tr>\n",
       "  </thead>\n",
       "  <tbody>\n",
       "    <tr>\n",
       "      <th>count</th>\n",
       "      <td>30000.000000</td>\n",
       "    </tr>\n",
       "    <tr>\n",
       "      <th>mean</th>\n",
       "      <td>167484.322667</td>\n",
       "    </tr>\n",
       "    <tr>\n",
       "      <th>std</th>\n",
       "      <td>129747.661567</td>\n",
       "    </tr>\n",
       "    <tr>\n",
       "      <th>min</th>\n",
       "      <td>10000.000000</td>\n",
       "    </tr>\n",
       "    <tr>\n",
       "      <th>25%</th>\n",
       "      <td>50000.000000</td>\n",
       "    </tr>\n",
       "    <tr>\n",
       "      <th>50%</th>\n",
       "      <td>140000.000000</td>\n",
       "    </tr>\n",
       "    <tr>\n",
       "      <th>75%</th>\n",
       "      <td>240000.000000</td>\n",
       "    </tr>\n",
       "    <tr>\n",
       "      <th>max</th>\n",
       "      <td>1000000.000000</td>\n",
       "    </tr>\n",
       "  </tbody>\n",
       "</table>\n",
       "</div>"
      ],
      "text/plain": [
       "            LIMIT_BAL\n",
       "count    30000.000000\n",
       "mean    167484.322667\n",
       "std     129747.661567\n",
       "min      10000.000000\n",
       "25%      50000.000000\n",
       "50%     140000.000000\n",
       "75%     240000.000000\n",
       "max    1000000.000000"
      ]
     },
     "execution_count": 135,
     "metadata": {},
     "output_type": "execute_result"
    }
   ],
   "source": [
    "#initial analysis of Payment amount variable\n",
    "credit[['LIMIT_BAL']].describe()"
   ]
  },
  {
   "cell_type": "markdown",
   "metadata": {},
   "source": [
    "## Visualization"
   ]
  },
  {
   "cell_type": "code",
   "execution_count": 136,
   "metadata": {},
   "outputs": [],
   "source": [
    "#Function to print percentage of defaults and non defaults according to different faactors\n",
    "\n",
    "def percentage_ratio(default_count, total_count, label):\n",
    "    print(\"Percentage of defaults in \", label ,\" is: \" +\"{:.0f}\".format(((default_count * 100)/total_count))+\"%\")\n",
    "    \n",
    "\n",
    "def draw_histograms(pay_data,variables, n_rows, n_cols, n_bins):\n",
    "    fig = plt.figure()\n",
    "    for i, var_name in enumerate(variables):\n",
    "        ax = fig.add_subplot(n_rows, n_cols, i+1)\n",
    "        credit[var_name].hist(bins=n_bins, ax=ax)\n",
    "        ax.set_title(var_name)\n",
    "    fig.tight_layout()\n",
    "    plt.show()"
   ]
  },
  {
   "cell_type": "code",
   "execution_count": 137,
   "metadata": {},
   "outputs": [
    {
     "name": "stdout",
     "output_type": "stream",
     "text": [
      "Percentage of defaults in  Default  is: 22%\n",
      "Percentage of defaults in  No Default  is: 78%\n"
     ]
    },
    {
     "data": {
      "image/png": "[encoded data removed]",
      "text/plain": [
       "<Figure size 540x360 with 1 Axes>"
      ]
     },
     "metadata": {
      "needs_background": "light"
     },
     "output_type": "display_data"
    }
   ],
   "source": [
    "#Defaults and No Defaults plot\n",
    "defaults = sn.catplot(x='default_pay', data=credit, kind='count', aspect=1.5)\n",
    "for x in sorted(credit['default_pay'].unique()):\n",
    "    default_count = credit['default_pay'].count()\n",
    "    credit_default = credit['default_pay'][(credit['default_pay']== x)].count()\n",
    "    percentage_ratio(credit_default,default_count, x)"
   ]
  },
  {
   "cell_type": "markdown",
   "metadata": {},
   "source": [
    "About 78% of the data population is not defaulted, however there are about 22% of the population are defulted. Lets get into detailed analysis on how each factor is affecting the credit defaults."
   ]
  },
  {
   "cell_type": "markdown",
   "metadata": {},
   "source": [
    "### 1. Age Factor"
   ]
  },
  {
   "cell_type": "code",
   "execution_count": 138,
   "metadata": {},
   "outputs": [
    {
     "name": "stdout",
     "output_type": "stream",
     "text": [
      "Percentage of defaults in  20s  is: 23%\n",
      "Percentage of defaults in  30s  is: 20%\n",
      "Percentage of defaults in  40s  is: 23%\n",
      "Percentage of defaults in  50s  is: 25%\n",
      "Percentage of defaults in  60s  is: 28%\n",
      "Percentage of defaults in  70s  is: 28%\n"
     ]
    },
    {
     "data": {
      "image/png": "[encoded data removed]",
      "text/plain": [
       "<Figure size 629.375x360 with 1 Axes>"
      ]
     },
     "metadata": {
      "needs_background": "light"
     },
     "output_type": "display_data"
    }
   ],
   "source": [
    "#Visulise the data on Age Factor.\n",
    "agegroup = sn.catplot(x= 'age_by_decade' ,hue= 'default_pay', data= credit, kind= 'count', aspect = 1.5)\n",
    "\n",
    "for x in sorted(credit['age_by_decade'].unique()):\n",
    "    Age_count = credit['age_by_decade'][credit['age_by_decade']==x].count()\n",
    "    credit_default_byage = credit['age_by_decade'][(credit['age_by_decade']== x) & (credit['default_pay'] =='Default')].count()\n",
    "    percentage_ratio(credit_default_byage,Age_count, x)"
   ]
  },
  {
   "cell_type": "code",
   "execution_count": 139,
   "metadata": {
    "scrolled": true
   },
   "outputs": [
    {
     "name": "stderr",
     "output_type": "stream",
     "text": [
      "C:\\Users\\nethu\\Anaconda3\\lib\\site-packages\\scipy\\stats\\stats.py:1713: FutureWarning: Using a non-tuple sequence for multidimensional indexing is deprecated; use `arr[tuple(seq)]` instead of `arr[seq]`. In the future this will be interpreted as an array index, `arr[np.array(seq)]`, which will result either in an error or a different result.\n",
      "  return np.add.reduce(sorted[indexer] * weights, axis=axis) / sumval\n"
     ]
    },
    {
     "data": {
      "text/plain": [
       "<seaborn.axisgrid.FacetGrid at 0xb2717b0>"
      ]
     },
     "execution_count": 139,
     "metadata": {},
     "output_type": "execute_result"
    },
    {
     "data": {
      "image/png": "[encoded data removed]",
      "text/plain": [
       "<Figure size 953.375x216 with 1 Axes>"
      ]
     },
     "metadata": {
      "needs_background": "light"
     },
     "output_type": "display_data"
    }
   ],
   "source": [
    "#Distribution of Age of customers who defaults\n",
    "fig = sn.FacetGrid(credit, hue='default_pay', aspect=4)\n",
    "fig.map(sn.kdeplot, 'AGE', shade=True)\n",
    "oldest = credit['AGE'].max()\n",
    "fig.set(xlim=(0,oldest))\n",
    "fig.set(title='Distribution of Age Grouped by defaults')\n",
    "fig.add_legend()"
   ]
  },
  {
   "cell_type": "markdown",
   "metadata": {},
   "source": [
    "The above category plot and distribution plot shows that the age groups between 20-40 are more likely to default compared to the other age groups. "
   ]
  },
  {
   "cell_type": "markdown",
   "metadata": {},
   "source": [
    "#### Distribution of Age on Marital status"
   ]
  },
  {
   "cell_type": "code",
   "execution_count": 140,
   "metadata": {},
   "outputs": [
    {
     "data": {
      "text/plain": [
       "<seaborn.axisgrid.FacetGrid at 0xb8d1b90>"
      ]
     },
     "execution_count": 140,
     "metadata": {},
     "output_type": "execute_result"
    },
    {
     "data": {
      "image/png": "[encoded data removed]",
      "text/plain": [
       "<Figure size 938.375x216 with 1 Axes>"
      ]
     },
     "metadata": {
      "needs_background": "light"
     },
     "output_type": "display_data"
    }
   ],
   "source": [
    "fig = sn.FacetGrid(credit, hue='MARRIAGE', aspect=4)\n",
    "fig.map(sn.kdeplot, 'AGE', shade=True)\n",
    "oldest = credit['AGE'].max()\n",
    "fig.set(xlim=(0,oldest))\n",
    "fig.set(title='Distribution of Age Grouped by Marriage')\n",
    "fig.add_legend()"
   ]
  },
  {
   "cell_type": "markdown",
   "metadata": {},
   "source": [
    "The distribution plot above shows that the majority of the population are Single and are ranging from the age 20-40. the remaining population are distributed across all the marital status- Married, Divorce and Others."
   ]
  },
  {
   "cell_type": "markdown",
   "metadata": {},
   "source": [
    "#### Distribution of Age on Gender"
   ]
  },
  {
   "cell_type": "code",
   "execution_count": 141,
   "metadata": {},
   "outputs": [
    {
     "data": {
      "text/plain": [
       "<seaborn.axisgrid.FacetGrid at 0xbb14070>"
      ]
     },
     "execution_count": 141,
     "metadata": {},
     "output_type": "execute_result"
    },
    {
     "data": {
      "image/png": "[encoded data removed]",
      "text/plain": [
       "<Figure size 936.625x216 with 1 Axes>"
      ]
     },
     "metadata": {
      "needs_background": "light"
     },
     "output_type": "display_data"
    }
   ],
   "source": [
    "fig = sn.FacetGrid(credit, hue='SEX', aspect=4)\n",
    "fig.map(sn.kdeplot, 'AGE', shade=True)\n",
    "oldest = credit['AGE'].max()\n",
    "fig.set(xlim=(0,oldest))\n",
    "fig.set(title='Distribution of Age Grouped by Gender')\n",
    "fig.add_legend()\n",
    "\n",
    "### 2. Gender Factor"
   ]
  },
  {
   "cell_type": "markdown",
   "metadata": {},
   "source": [
    "The majority of the population are Female and are majorily between the age group of 20-40. "
   ]
  },
  {
   "cell_type": "markdown",
   "metadata": {},
   "source": [
    "## Gender Factor"
   ]
  },
  {
   "cell_type": "code",
   "execution_count": 142,
   "metadata": {},
   "outputs": [
    {
     "name": "stdout",
     "output_type": "stream",
     "text": [
      "Percentage of defaults in  Female  is: 21%\n",
      "Percentage of defaults in  Male  is: 24%\n"
     ]
    },
    {
     "data": {
      "image/png": "[encoded data removed]",
      "text/plain": [
       "<Figure size 629.375x360 with 1 Axes>"
      ]
     },
     "metadata": {
      "needs_background": "light"
     },
     "output_type": "display_data"
    }
   ],
   "source": [
    "gender = sn.catplot('SEX',hue='default_pay', data= credit, kind= 'count', aspect = 1.5)\n",
    "gender._legend.set_title('Default status')\n",
    "for x in credit['SEX'].unique():\n",
    "    gender_count = credit['SEX'][credit['SEX']==x].count()\n",
    "    credit_default_bygender = credit['SEX'][(credit['SEX']== x) & (credit['default_pay'] =='Default')].count()\n",
    "    percentage_ratio(credit_default_bygender,gender_count, x)"
   ]
  },
  {
   "cell_type": "markdown",
   "metadata": {},
   "source": [
    "As you can see above the majority of the population that are in the dataset are Female and are also more likely to be defaulted when compared to the Male population. The dataset shows about out of 18112 Female population atleast 21% of them are said to be defaulted. Whereas, for about 11888 male population about 24% are said to be defaulted."
   ]
  },
  {
   "cell_type": "markdown",
   "metadata": {},
   "source": [
    "### 3. Education Factor"
   ]
  },
  {
   "cell_type": "code",
   "execution_count": 143,
   "metadata": {
    "scrolled": true
   },
   "outputs": [
    {
     "name": "stdout",
     "output_type": "stream",
     "text": [
      "Percentage of defaults in  Graduate School  is: 19%\n",
      "Percentage of defaults in  High School  is: 25%\n",
      "Percentage of defaults in  Others  is: 7%\n",
      "Percentage of defaults in  University  is: 24%\n"
     ]
    },
    {
     "data": {
      "image/png": "[encoded data removed]",
      "text/plain": [
       "<Figure size 629.375x360 with 1 Axes>"
      ]
     },
     "metadata": {
      "needs_background": "light"
     },
     "output_type": "display_data"
    }
   ],
   "source": [
    "Education = sn.catplot('EDUCATION', hue='default_pay', data= credit, kind= 'count', aspect = 1.5, order= ['Graduate School','University','High School','Others'])\n",
    "Education._legend.set_title('Default status')\n",
    "for x in sorted(credit['EDUCATION'].unique()):\n",
    "    \n",
    "    Edu_count = credit['EDUCATION'][credit['EDUCATION']==x].count()\n",
    "    credit_default_byedu = credit['EDUCATION'][(credit['EDUCATION']== x) & (credit['default_pay'] =='Default')].count()\n",
    "   \n",
    "    percentage_ratio(credit_default_byedu,Edu_count, x)"
   ]
  },
  {
   "cell_type": "markdown",
   "metadata": {},
   "source": [
    "As per the above graph, The defaulters are likely to have education either from - Graduate School, High School or University."
   ]
  },
  {
   "cell_type": "markdown",
   "metadata": {},
   "source": [
    "### 4. Marriage Factor"
   ]
  },
  {
   "cell_type": "code",
   "execution_count": 144,
   "metadata": {},
   "outputs": [
    {
     "name": "stdout",
     "output_type": "stream",
     "text": [
      "Percentage of defaults in  Divorce  is: 26%\n",
      "Percentage of defaults in  Married  is: 23%\n",
      "Percentage of defaults in  Others  is: 9%\n",
      "Percentage of defaults in  Single  is: 21%\n"
     ]
    },
    {
     "data": {
      "image/png": "[encoded data removed]",
      "text/plain": [
       "<Figure size 629.375x360 with 1 Axes>"
      ]
     },
     "metadata": {
      "needs_background": "light"
     },
     "output_type": "display_data"
    }
   ],
   "source": [
    "maritalstatusgroup = sn.catplot('MARRIAGE',hue= 'default_pay', data= credit, kind= 'count', aspect = 1.5, order =['Single','Married','Divorce','Others'])\n",
    "maritalstatusgroup._legend.set_title('Default status')\n",
    "for x in sorted(credit['MARRIAGE'].unique()):\n",
    "    \n",
    "    marriage_count = credit['MARRIAGE'][credit['MARRIAGE']==x].count()\n",
    "    credit_default_bymar = credit['MARRIAGE'][(credit['MARRIAGE']== x) & (credit['default_pay'] =='Default')].count()\n",
    "    percentage_ratio(credit_default_bymar,marriage_count, x)"
   ]
  },
  {
   "cell_type": "markdown",
   "metadata": {},
   "source": [
    "If we consider Marriage factor, then we can see that the majority defaulters are either Single or Married.  "
   ]
  },
  {
   "cell_type": "markdown",
   "metadata": {},
   "source": [
    "#### Relationship between Age, Education and defaults"
   ]
  },
  {
   "cell_type": "code",
   "execution_count": 145,
   "metadata": {
    "scrolled": true
   },
   "outputs": [
    {
     "data": {
      "image/png": "[encoded data removed]",
      "text/plain": [
       "<Figure size 1241.38x288 with 4 Axes>"
      ]
     },
     "metadata": {
      "needs_background": "light"
     },
     "output_type": "display_data"
    }
   ],
   "source": [
    "g = sn.FacetGrid(credit, col='EDUCATION', hue='default_pay',height=4, aspect=1, sharey=False, col_order= ['Graduate School','University','High School','Others'])\n",
    "g = g.map(plt.hist, 'AGE', alpha=0.5).set_axis_labels('AGE','Count').set_titles((\"{col_name}\"))\n",
    "g.add_legend()\n",
    "g.savefig('Education_and_Age')"
   ]
  },
  {
   "cell_type": "markdown",
   "metadata": {},
   "source": [
    "After analysing how different factors are individually contributing to Defaults. We tried to establish relationship between the Factors to see how the Defaulters are distributed across the Dataset.\n",
    "As per the above graphs, we can rank in order the defaulters as below:\n",
    "1. Defaulters with age group 20-50 and with Education from University. \n",
    "2. Defaulters with age group 20-50 and with Education from Graduate School.\n",
    "3. Defaulters with age group 20-50 and with Education from High School.\n",
    "4. Defaulters with age group 20-50 and with other qualifications."
   ]
  },
  {
   "cell_type": "markdown",
   "metadata": {},
   "source": [
    "#### Relationship  between Marriage, Age and Default"
   ]
  },
  {
   "cell_type": "code",
   "execution_count": 146,
   "metadata": {},
   "outputs": [
    {
     "data": {
      "image/png": "[encoded data removed]",
      "text/plain": [
       "<Figure size 1152x288 with 4 Axes>"
      ]
     },
     "metadata": {
      "needs_background": "light"
     },
     "output_type": "display_data"
    }
   ],
   "source": [
    "g1 = sn.FacetGrid(credit, col='MARRIAGE', hue='default_pay',height=4, aspect=1, sharey=False)\n",
    "g1 = g1.map(plt.hist, 'AGE', alpha=0.5).set_axis_labels('AGE','Count').set_titles((\"{col_name}\"))\n",
    "\n",
    "g1.savefig('Marriage and age')"
   ]
  },
  {
   "cell_type": "markdown",
   "metadata": {},
   "source": [
    "As per the above graph, we can rank in order the defaulters based on their marital status and age as below:\n",
    "1. Defaulters with age group 20-50 and are Single.\n",
    "2. Defaulters with age group 20-50 and are Married.\n",
    "3. Defaulters with age group 20-50 and are Divorced.\n",
    "4. Defaulters with age group 20-40 with other marital status."
   ]
  },
  {
   "cell_type": "markdown",
   "metadata": {},
   "source": [
    "### 5. Payment Status"
   ]
  },
  {
   "cell_type": "code",
   "execution_count": 147,
   "metadata": {},
   "outputs": [],
   "source": [
    "def get_columns(prefix):\n",
    "    return[prefix+str(x) for x in range(1,7)]"
   ]
  },
  {
   "cell_type": "code",
   "execution_count": 148,
   "metadata": {
    "scrolled": true
   },
   "outputs": [
    {
     "data": {
      "image/png": "[encoded data removed]",
      "text/plain": [
       "<Figure size 1440x720 with 6 Axes>"
      ]
     },
     "metadata": {
      "needs_background": "light"
     },
     "output_type": "display_data"
    }
   ],
   "source": [
    "pay_columns = get_columns('PAY_')\n",
    "_, ax = plt.subplots(2,3, figsize=(20,10))\n",
    "for i in range(len(pay_columns)):\n",
    "    sn.catplot(pay_columns[i],hue= 'default_pay', data= credit, kind= 'count', aspect = 1.5,ax=ax[i//3][i%3] )\n",
    "    plt.close()"
   ]
  },
  {
   "cell_type": "markdown",
   "metadata": {},
   "source": [
    "The above graph says that, the majority of the customers are defaulted for delay in payment for 2 months.  "
   ]
  },
  {
   "cell_type": "markdown",
   "metadata": {},
   "source": [
    "### 6. Credit Limit"
   ]
  },
  {
   "cell_type": "code",
   "execution_count": 149,
   "metadata": {},
   "outputs": [
    {
     "data": {
      "text/plain": [
       "<seaborn.axisgrid.FacetGrid at 0xe9f60f0>"
      ]
     },
     "execution_count": 149,
     "metadata": {},
     "output_type": "execute_result"
    },
    {
     "data": {
      "image/png": "[encoded data removed]",
      "text/plain": [
       "<Figure size 953.375x216 with 1 Axes>"
      ]
     },
     "metadata": {
      "needs_background": "light"
     },
     "output_type": "display_data"
    }
   ],
   "source": [
    "Limit = sn.FacetGrid(credit, hue='default_pay', aspect=4)\n",
    "Limit.map(sn.kdeplot, 'LIMIT_BAL', shade=True)\n",
    "Maxlimit = credit['LIMIT_BAL'].max()\n",
    "Limit.set(xlim=(0,Maxlimit))\n",
    "Limit.set(title='Distribution of Credit Limit by defaults')\n",
    "Limit.add_legend()\n"
   ]
  },
  {
   "cell_type": "markdown",
   "metadata": {},
   "source": [
    "#### Relationship between Age and Credit Limit"
   ]
  },
  {
   "cell_type": "code",
   "execution_count": 150,
   "metadata": {},
   "outputs": [
    {
     "data": {
      "image/png": "[encoded data removed]",
      "text/plain": [
       "<Figure size 432x288 with 1 Axes>"
      ]
     },
     "metadata": {
      "needs_background": "light"
     },
     "output_type": "display_data"
    }
   ],
   "source": [
    "plt.scatter(credit['AGE'], credit['LIMIT_BAL'],alpha=0.5)\n",
    "plt.show()\n"
   ]
  },
  {
   "cell_type": "raw",
   "metadata": {},
   "source": [
    "The credit limits upto $500,000 are higher between age groups 20-50. However, there are some population above age 25 and below 60 who have taken credit limits upto $800,000 and beyond."
   ]
  },
  {
   "cell_type": "code",
   "execution_count": 151,
   "metadata": {},
   "outputs": [
    {
     "data": {
      "image/png": "[encoded data removed]",
      "text/plain": [
       "<Figure size 432x288 with 1 Axes>"
      ]
     },
     "metadata": {
      "needs_background": "light"
     },
     "output_type": "display_data"
    }
   ],
   "source": [
    "sn.scatterplot(credit['EDUCATION'], credit['LIMIT_BAL'],alpha=1.0)\n",
    "plt.show()"
   ]
  },
  {
   "cell_type": "markdown",
   "metadata": {},
   "source": [
    "### 7. Payment Amount"
   ]
  },
  {
   "cell_type": "code",
   "execution_count": 152,
   "metadata": {
    "scrolled": true
   },
   "outputs": [
    {
     "data": {
      "image/png": "[encoded data removed]",
      "text/plain": [
       "<Figure size 432x288 with 6 Axes>"
      ]
     },
     "metadata": {
      "needs_background": "light"
     },
     "output_type": "display_data"
    }
   ],
   "source": [
    "pay_amt = credit[get_columns('PAY_AMT')]\n",
    "draw_histograms(pay_amt,pay_amt.columns, 2, 3, 4)"
   ]
  },
  {
   "cell_type": "code",
   "execution_count": 153,
   "metadata": {},
   "outputs": [
    {
     "data": {
      "text/html": [
       "<div>\n",
       "<style scoped>\n",
       "    .dataframe tbody tr th:only-of-type {\n",
       "        vertical-align: middle;\n",
       "    }\n",
       "\n",
       "    .dataframe tbody tr th {\n",
       "        vertical-align: top;\n",
       "    }\n",
       "\n",
       "    .dataframe thead th {\n",
       "        text-align: right;\n",
       "    }\n",
       "</style>\n",
       "<table border=\"1\" class=\"dataframe\">\n",
       "  <thead>\n",
       "    <tr style=\"text-align: right;\">\n",
       "      <th></th>\n",
       "      <th>LIMIT_BAL</th>\n",
       "      <th>AGE</th>\n",
       "      <th>SEX</th>\n",
       "      <th>EDUCATION</th>\n",
       "      <th>MARRIAGE</th>\n",
       "      <th>PAY_AMT1</th>\n",
       "      <th>PAY_AMT2</th>\n",
       "      <th>PAY_AMT3</th>\n",
       "      <th>PAY_AMT4</th>\n",
       "      <th>PAY_AMT5</th>\n",
       "      <th>PAY_AMT6</th>\n",
       "      <th>default_pay</th>\n",
       "    </tr>\n",
       "  </thead>\n",
       "  <tbody>\n",
       "    <tr>\n",
       "      <th>0</th>\n",
       "      <td>20000</td>\n",
       "      <td>24</td>\n",
       "      <td>Female</td>\n",
       "      <td>University</td>\n",
       "      <td>Married</td>\n",
       "      <td>0</td>\n",
       "      <td>689</td>\n",
       "      <td>0</td>\n",
       "      <td>0</td>\n",
       "      <td>0</td>\n",
       "      <td>0</td>\n",
       "      <td>Default</td>\n",
       "    </tr>\n",
       "    <tr>\n",
       "      <th>1</th>\n",
       "      <td>120000</td>\n",
       "      <td>26</td>\n",
       "      <td>Female</td>\n",
       "      <td>University</td>\n",
       "      <td>Single</td>\n",
       "      <td>0</td>\n",
       "      <td>1000</td>\n",
       "      <td>1000</td>\n",
       "      <td>1000</td>\n",
       "      <td>0</td>\n",
       "      <td>2000</td>\n",
       "      <td>Default</td>\n",
       "    </tr>\n",
       "    <tr>\n",
       "      <th>13</th>\n",
       "      <td>70000</td>\n",
       "      <td>30</td>\n",
       "      <td>Male</td>\n",
       "      <td>University</td>\n",
       "      <td>Single</td>\n",
       "      <td>3200</td>\n",
       "      <td>0</td>\n",
       "      <td>3000</td>\n",
       "      <td>3000</td>\n",
       "      <td>1500</td>\n",
       "      <td>0</td>\n",
       "      <td>Default</td>\n",
       "    </tr>\n",
       "    <tr>\n",
       "      <th>16</th>\n",
       "      <td>20000</td>\n",
       "      <td>24</td>\n",
       "      <td>Male</td>\n",
       "      <td>Graduate School</td>\n",
       "      <td>Single</td>\n",
       "      <td>3200</td>\n",
       "      <td>0</td>\n",
       "      <td>1500</td>\n",
       "      <td>0</td>\n",
       "      <td>1650</td>\n",
       "      <td>0</td>\n",
       "      <td>Default</td>\n",
       "    </tr>\n",
       "    <tr>\n",
       "      <th>21</th>\n",
       "      <td>120000</td>\n",
       "      <td>39</td>\n",
       "      <td>Female</td>\n",
       "      <td>University</td>\n",
       "      <td>Married</td>\n",
       "      <td>316</td>\n",
       "      <td>316</td>\n",
       "      <td>0</td>\n",
       "      <td>632</td>\n",
       "      <td>316</td>\n",
       "      <td>0</td>\n",
       "      <td>Default</td>\n",
       "    </tr>\n",
       "    <tr>\n",
       "      <th>22</th>\n",
       "      <td>70000</td>\n",
       "      <td>26</td>\n",
       "      <td>Female</td>\n",
       "      <td>University</td>\n",
       "      <td>Single</td>\n",
       "      <td>2007</td>\n",
       "      <td>3582</td>\n",
       "      <td>0</td>\n",
       "      <td>3601</td>\n",
       "      <td>0</td>\n",
       "      <td>1820</td>\n",
       "      <td>Default</td>\n",
       "    </tr>\n",
       "    <tr>\n",
       "      <th>23</th>\n",
       "      <td>450000</td>\n",
       "      <td>40</td>\n",
       "      <td>Female</td>\n",
       "      <td>Graduate School</td>\n",
       "      <td>Married</td>\n",
       "      <td>19428</td>\n",
       "      <td>1473</td>\n",
       "      <td>560</td>\n",
       "      <td>0</td>\n",
       "      <td>0</td>\n",
       "      <td>1128</td>\n",
       "      <td>Default</td>\n",
       "    </tr>\n",
       "    <tr>\n",
       "      <th>26</th>\n",
       "      <td>60000</td>\n",
       "      <td>27</td>\n",
       "      <td>Male</td>\n",
       "      <td>Graduate School</td>\n",
       "      <td>Single</td>\n",
       "      <td>0</td>\n",
       "      <td>1000</td>\n",
       "      <td>0</td>\n",
       "      <td>500</td>\n",
       "      <td>0</td>\n",
       "      <td>1000</td>\n",
       "      <td>Default</td>\n",
       "    </tr>\n",
       "    <tr>\n",
       "      <th>31</th>\n",
       "      <td>50000</td>\n",
       "      <td>33</td>\n",
       "      <td>Male</td>\n",
       "      <td>University</td>\n",
       "      <td>Single</td>\n",
       "      <td>1718</td>\n",
       "      <td>1500</td>\n",
       "      <td>1000</td>\n",
       "      <td>1000</td>\n",
       "      <td>1000</td>\n",
       "      <td>716</td>\n",
       "      <td>Default</td>\n",
       "    </tr>\n",
       "    <tr>\n",
       "      <th>38</th>\n",
       "      <td>50000</td>\n",
       "      <td>25</td>\n",
       "      <td>Male</td>\n",
       "      <td>Graduate School</td>\n",
       "      <td>Single</td>\n",
       "      <td>780</td>\n",
       "      <td>0</td>\n",
       "      <td>0</td>\n",
       "      <td>0</td>\n",
       "      <td>0</td>\n",
       "      <td>0</td>\n",
       "      <td>Default</td>\n",
       "    </tr>\n",
       "  </tbody>\n",
       "</table>\n",
       "</div>"
      ],
      "text/plain": [
       "    LIMIT_BAL  AGE     SEX        EDUCATION MARRIAGE  PAY_AMT1  PAY_AMT2  \\\n",
       "0       20000   24  Female       University  Married         0       689   \n",
       "1      120000   26  Female       University   Single         0      1000   \n",
       "13      70000   30    Male       University   Single      3200         0   \n",
       "16      20000   24    Male  Graduate School   Single      3200         0   \n",
       "21     120000   39  Female       University  Married       316       316   \n",
       "22      70000   26  Female       University   Single      2007      3582   \n",
       "23     450000   40  Female  Graduate School  Married     19428      1473   \n",
       "26      60000   27    Male  Graduate School   Single         0      1000   \n",
       "31      50000   33    Male       University   Single      1718      1500   \n",
       "38      50000   25    Male  Graduate School   Single       780         0   \n",
       "\n",
       "    PAY_AMT3  PAY_AMT4  PAY_AMT5  PAY_AMT6 default_pay  \n",
       "0          0         0         0         0     Default  \n",
       "1       1000      1000         0      2000     Default  \n",
       "13      3000      3000      1500         0     Default  \n",
       "16      1500         0      1650         0     Default  \n",
       "21         0       632       316         0     Default  \n",
       "22         0      3601         0      1820     Default  \n",
       "23       560         0         0      1128     Default  \n",
       "26         0       500         0      1000     Default  \n",
       "31      1000      1000      1000       716     Default  \n",
       "38         0         0         0         0     Default  "
      ]
     },
     "execution_count": 153,
     "metadata": {},
     "output_type": "execute_result"
    }
   ],
   "source": [
    "pay_amt= pd.DataFrame(credit[['LIMIT_BAL','AGE','SEX','EDUCATION','MARRIAGE','PAY_AMT1', 'PAY_AMT2', 'PAY_AMT3', 'PAY_AMT4', 'PAY_AMT5', 'PAY_AMT6', 'default_pay']])\n",
    "pay_amt[pay_amt['default_pay']== 'Default'].head(10)"
   ]
  },
  {
   "cell_type": "markdown",
   "metadata": {},
   "source": [
    "### 8. Bill Amount"
   ]
  },
  {
   "cell_type": "code",
   "execution_count": 154,
   "metadata": {},
   "outputs": [
    {
     "data": {
      "image/png": "[encoded data removed]",
      "text/plain": [
       "<Figure size 432x288 with 6 Axes>"
      ]
     },
     "metadata": {
      "needs_background": "light"
     },
     "output_type": "display_data"
    }
   ],
   "source": [
    "bill_amt = credit[get_columns('BILL_AMT')]\n",
    "draw_histograms(bill_amt,bill_amt.columns, 2, 3, 4)"
   ]
  },
  {
   "cell_type": "code",
   "execution_count": 155,
   "metadata": {},
   "outputs": [
    {
     "data": {
      "text/html": [
       "<div>\n",
       "<style scoped>\n",
       "    .dataframe tbody tr th:only-of-type {\n",
       "        vertical-align: middle;\n",
       "    }\n",
       "\n",
       "    .dataframe tbody tr th {\n",
       "        vertical-align: top;\n",
       "    }\n",
       "\n",
       "    .dataframe thead th {\n",
       "        text-align: right;\n",
       "    }\n",
       "</style>\n",
       "<table border=\"1\" class=\"dataframe\">\n",
       "  <thead>\n",
       "    <tr style=\"text-align: right;\">\n",
       "      <th></th>\n",
       "      <th>LIMIT_BAL</th>\n",
       "      <th>AGE</th>\n",
       "      <th>SEX</th>\n",
       "      <th>EDUCATION</th>\n",
       "      <th>MARRIAGE</th>\n",
       "      <th>BILL_AMT1</th>\n",
       "      <th>BILL_AMT2</th>\n",
       "      <th>BILL_AMT3</th>\n",
       "      <th>BILL_AMT4</th>\n",
       "      <th>BILL_AMT5</th>\n",
       "      <th>BILL_AMT6</th>\n",
       "      <th>default_pay</th>\n",
       "    </tr>\n",
       "  </thead>\n",
       "  <tbody>\n",
       "    <tr>\n",
       "      <th>0</th>\n",
       "      <td>20000</td>\n",
       "      <td>24</td>\n",
       "      <td>Female</td>\n",
       "      <td>University</td>\n",
       "      <td>Married</td>\n",
       "      <td>3913</td>\n",
       "      <td>3102</td>\n",
       "      <td>689</td>\n",
       "      <td>0</td>\n",
       "      <td>0</td>\n",
       "      <td>0</td>\n",
       "      <td>Default</td>\n",
       "    </tr>\n",
       "    <tr>\n",
       "      <th>1</th>\n",
       "      <td>120000</td>\n",
       "      <td>26</td>\n",
       "      <td>Female</td>\n",
       "      <td>University</td>\n",
       "      <td>Single</td>\n",
       "      <td>2682</td>\n",
       "      <td>1725</td>\n",
       "      <td>2682</td>\n",
       "      <td>3272</td>\n",
       "      <td>3455</td>\n",
       "      <td>3261</td>\n",
       "      <td>Default</td>\n",
       "    </tr>\n",
       "    <tr>\n",
       "      <th>13</th>\n",
       "      <td>70000</td>\n",
       "      <td>30</td>\n",
       "      <td>Male</td>\n",
       "      <td>University</td>\n",
       "      <td>Single</td>\n",
       "      <td>65802</td>\n",
       "      <td>67369</td>\n",
       "      <td>65701</td>\n",
       "      <td>66782</td>\n",
       "      <td>36137</td>\n",
       "      <td>36894</td>\n",
       "      <td>Default</td>\n",
       "    </tr>\n",
       "    <tr>\n",
       "      <th>16</th>\n",
       "      <td>20000</td>\n",
       "      <td>24</td>\n",
       "      <td>Male</td>\n",
       "      <td>Graduate School</td>\n",
       "      <td>Single</td>\n",
       "      <td>15376</td>\n",
       "      <td>18010</td>\n",
       "      <td>17428</td>\n",
       "      <td>18338</td>\n",
       "      <td>17905</td>\n",
       "      <td>19104</td>\n",
       "      <td>Default</td>\n",
       "    </tr>\n",
       "    <tr>\n",
       "      <th>21</th>\n",
       "      <td>120000</td>\n",
       "      <td>39</td>\n",
       "      <td>Female</td>\n",
       "      <td>University</td>\n",
       "      <td>Married</td>\n",
       "      <td>316</td>\n",
       "      <td>316</td>\n",
       "      <td>316</td>\n",
       "      <td>0</td>\n",
       "      <td>632</td>\n",
       "      <td>316</td>\n",
       "      <td>Default</td>\n",
       "    </tr>\n",
       "    <tr>\n",
       "      <th>22</th>\n",
       "      <td>70000</td>\n",
       "      <td>26</td>\n",
       "      <td>Female</td>\n",
       "      <td>University</td>\n",
       "      <td>Single</td>\n",
       "      <td>41087</td>\n",
       "      <td>42445</td>\n",
       "      <td>45020</td>\n",
       "      <td>44006</td>\n",
       "      <td>46905</td>\n",
       "      <td>46012</td>\n",
       "      <td>Default</td>\n",
       "    </tr>\n",
       "    <tr>\n",
       "      <th>23</th>\n",
       "      <td>450000</td>\n",
       "      <td>40</td>\n",
       "      <td>Female</td>\n",
       "      <td>Graduate School</td>\n",
       "      <td>Married</td>\n",
       "      <td>5512</td>\n",
       "      <td>19420</td>\n",
       "      <td>1473</td>\n",
       "      <td>560</td>\n",
       "      <td>0</td>\n",
       "      <td>0</td>\n",
       "      <td>Default</td>\n",
       "    </tr>\n",
       "    <tr>\n",
       "      <th>26</th>\n",
       "      <td>60000</td>\n",
       "      <td>27</td>\n",
       "      <td>Male</td>\n",
       "      <td>Graduate School</td>\n",
       "      <td>Single</td>\n",
       "      <td>-109</td>\n",
       "      <td>-425</td>\n",
       "      <td>259</td>\n",
       "      <td>-57</td>\n",
       "      <td>127</td>\n",
       "      <td>-189</td>\n",
       "      <td>Default</td>\n",
       "    </tr>\n",
       "    <tr>\n",
       "      <th>31</th>\n",
       "      <td>50000</td>\n",
       "      <td>33</td>\n",
       "      <td>Male</td>\n",
       "      <td>University</td>\n",
       "      <td>Single</td>\n",
       "      <td>30518</td>\n",
       "      <td>29618</td>\n",
       "      <td>22102</td>\n",
       "      <td>22734</td>\n",
       "      <td>23217</td>\n",
       "      <td>23680</td>\n",
       "      <td>Default</td>\n",
       "    </tr>\n",
       "    <tr>\n",
       "      <th>38</th>\n",
       "      <td>50000</td>\n",
       "      <td>25</td>\n",
       "      <td>Male</td>\n",
       "      <td>Graduate School</td>\n",
       "      <td>Single</td>\n",
       "      <td>0</td>\n",
       "      <td>780</td>\n",
       "      <td>0</td>\n",
       "      <td>0</td>\n",
       "      <td>0</td>\n",
       "      <td>0</td>\n",
       "      <td>Default</td>\n",
       "    </tr>\n",
       "  </tbody>\n",
       "</table>\n",
       "</div>"
      ],
      "text/plain": [
       "    LIMIT_BAL  AGE     SEX        EDUCATION MARRIAGE  BILL_AMT1  BILL_AMT2  \\\n",
       "0       20000   24  Female       University  Married       3913       3102   \n",
       "1      120000   26  Female       University   Single       2682       1725   \n",
       "13      70000   30    Male       University   Single      65802      67369   \n",
       "16      20000   24    Male  Graduate School   Single      15376      18010   \n",
       "21     120000   39  Female       University  Married        316        316   \n",
       "22      70000   26  Female       University   Single      41087      42445   \n",
       "23     450000   40  Female  Graduate School  Married       5512      19420   \n",
       "26      60000   27    Male  Graduate School   Single       -109       -425   \n",
       "31      50000   33    Male       University   Single      30518      29618   \n",
       "38      50000   25    Male  Graduate School   Single          0        780   \n",
       "\n",
       "    BILL_AMT3  BILL_AMT4  BILL_AMT5  BILL_AMT6 default_pay  \n",
       "0         689          0          0          0     Default  \n",
       "1        2682       3272       3455       3261     Default  \n",
       "13      65701      66782      36137      36894     Default  \n",
       "16      17428      18338      17905      19104     Default  \n",
       "21        316          0        632        316     Default  \n",
       "22      45020      44006      46905      46012     Default  \n",
       "23       1473        560          0          0     Default  \n",
       "26        259        -57        127       -189     Default  \n",
       "31      22102      22734      23217      23680     Default  \n",
       "38          0          0          0          0     Default  "
      ]
     },
     "execution_count": 155,
     "metadata": {},
     "output_type": "execute_result"
    }
   ],
   "source": [
    "bill_amt= pd.DataFrame(credit[['LIMIT_BAL', 'AGE','SEX','EDUCATION','MARRIAGE','BILL_AMT1', 'BILL_AMT2', 'BILL_AMT3', 'BILL_AMT4', 'BILL_AMT5', 'BILL_AMT6', 'default_pay']])\n",
    "bill_amt[bill_amt['default_pay']== 'Default'].head(10)\n"
   ]
  },
  {
   "cell_type": "code",
   "execution_count": 156,
   "metadata": {},
   "outputs": [
    {
     "data": {
      "text/html": [
       "<div>\n",
       "<style scoped>\n",
       "    .dataframe tbody tr th:only-of-type {\n",
       "        vertical-align: middle;\n",
       "    }\n",
       "\n",
       "    .dataframe tbody tr th {\n",
       "        vertical-align: top;\n",
       "    }\n",
       "\n",
       "    .dataframe thead th {\n",
       "        text-align: right;\n",
       "    }\n",
       "</style>\n",
       "<table border=\"1\" class=\"dataframe\">\n",
       "  <thead>\n",
       "    <tr style=\"text-align: right;\">\n",
       "      <th></th>\n",
       "      <th>LIMIT_BAL</th>\n",
       "      <th>SEX</th>\n",
       "      <th>EDUCATION</th>\n",
       "      <th>MARRIAGE</th>\n",
       "      <th>AGE</th>\n",
       "      <th>PAY_1</th>\n",
       "      <th>PAY_2</th>\n",
       "      <th>PAY_3</th>\n",
       "      <th>PAY_4</th>\n",
       "      <th>PAY_5</th>\n",
       "      <th>...</th>\n",
       "      <th>BILL_AMT5</th>\n",
       "      <th>BILL_AMT6</th>\n",
       "      <th>PAY_AMT1</th>\n",
       "      <th>PAY_AMT2</th>\n",
       "      <th>PAY_AMT3</th>\n",
       "      <th>PAY_AMT4</th>\n",
       "      <th>PAY_AMT5</th>\n",
       "      <th>PAY_AMT6</th>\n",
       "      <th>default_pay</th>\n",
       "      <th>age_by_decade</th>\n",
       "    </tr>\n",
       "  </thead>\n",
       "  <tbody>\n",
       "    <tr>\n",
       "      <th>0</th>\n",
       "      <td>20000</td>\n",
       "      <td>Female</td>\n",
       "      <td>University</td>\n",
       "      <td>Married</td>\n",
       "      <td>24</td>\n",
       "      <td>2</td>\n",
       "      <td>2</td>\n",
       "      <td>-1</td>\n",
       "      <td>-1</td>\n",
       "      <td>-2</td>\n",
       "      <td>...</td>\n",
       "      <td>0</td>\n",
       "      <td>0</td>\n",
       "      <td>0</td>\n",
       "      <td>689</td>\n",
       "      <td>0</td>\n",
       "      <td>0</td>\n",
       "      <td>0</td>\n",
       "      <td>0</td>\n",
       "      <td>Default</td>\n",
       "      <td>20s</td>\n",
       "    </tr>\n",
       "    <tr>\n",
       "      <th>1</th>\n",
       "      <td>120000</td>\n",
       "      <td>Female</td>\n",
       "      <td>University</td>\n",
       "      <td>Single</td>\n",
       "      <td>26</td>\n",
       "      <td>-1</td>\n",
       "      <td>2</td>\n",
       "      <td>0</td>\n",
       "      <td>0</td>\n",
       "      <td>0</td>\n",
       "      <td>...</td>\n",
       "      <td>3455</td>\n",
       "      <td>3261</td>\n",
       "      <td>0</td>\n",
       "      <td>1000</td>\n",
       "      <td>1000</td>\n",
       "      <td>1000</td>\n",
       "      <td>0</td>\n",
       "      <td>2000</td>\n",
       "      <td>Default</td>\n",
       "      <td>20s</td>\n",
       "    </tr>\n",
       "    <tr>\n",
       "      <th>2</th>\n",
       "      <td>90000</td>\n",
       "      <td>Female</td>\n",
       "      <td>University</td>\n",
       "      <td>Single</td>\n",
       "      <td>34</td>\n",
       "      <td>0</td>\n",
       "      <td>0</td>\n",
       "      <td>0</td>\n",
       "      <td>0</td>\n",
       "      <td>0</td>\n",
       "      <td>...</td>\n",
       "      <td>14948</td>\n",
       "      <td>15549</td>\n",
       "      <td>1518</td>\n",
       "      <td>1500</td>\n",
       "      <td>1000</td>\n",
       "      <td>1000</td>\n",
       "      <td>1000</td>\n",
       "      <td>5000</td>\n",
       "      <td>No Default</td>\n",
       "      <td>30s</td>\n",
       "    </tr>\n",
       "    <tr>\n",
       "      <th>3</th>\n",
       "      <td>50000</td>\n",
       "      <td>Female</td>\n",
       "      <td>University</td>\n",
       "      <td>Married</td>\n",
       "      <td>37</td>\n",
       "      <td>0</td>\n",
       "      <td>0</td>\n",
       "      <td>0</td>\n",
       "      <td>0</td>\n",
       "      <td>0</td>\n",
       "      <td>...</td>\n",
       "      <td>28959</td>\n",
       "      <td>29547</td>\n",
       "      <td>2000</td>\n",
       "      <td>2019</td>\n",
       "      <td>1200</td>\n",
       "      <td>1100</td>\n",
       "      <td>1069</td>\n",
       "      <td>1000</td>\n",
       "      <td>No Default</td>\n",
       "      <td>30s</td>\n",
       "    </tr>\n",
       "    <tr>\n",
       "      <th>4</th>\n",
       "      <td>50000</td>\n",
       "      <td>Male</td>\n",
       "      <td>University</td>\n",
       "      <td>Married</td>\n",
       "      <td>57</td>\n",
       "      <td>-1</td>\n",
       "      <td>0</td>\n",
       "      <td>-1</td>\n",
       "      <td>0</td>\n",
       "      <td>0</td>\n",
       "      <td>...</td>\n",
       "      <td>19146</td>\n",
       "      <td>19131</td>\n",
       "      <td>2000</td>\n",
       "      <td>36681</td>\n",
       "      <td>10000</td>\n",
       "      <td>9000</td>\n",
       "      <td>689</td>\n",
       "      <td>679</td>\n",
       "      <td>No Default</td>\n",
       "      <td>50s</td>\n",
       "    </tr>\n",
       "  </tbody>\n",
       "</table>\n",
       "<p>5 rows × 25 columns</p>\n",
       "</div>"
      ],
      "text/plain": [
       "   LIMIT_BAL     SEX   EDUCATION MARRIAGE  AGE PAY_1 PAY_2 PAY_3 PAY_4 PAY_5  \\\n",
       "0      20000  Female  University  Married   24     2     2    -1    -1    -2   \n",
       "1     120000  Female  University   Single   26    -1     2     0     0     0   \n",
       "2      90000  Female  University   Single   34     0     0     0     0     0   \n",
       "3      50000  Female  University  Married   37     0     0     0     0     0   \n",
       "4      50000    Male  University  Married   57    -1     0    -1     0     0   \n",
       "\n",
       "       ...       BILL_AMT5  BILL_AMT6  PAY_AMT1  PAY_AMT2  PAY_AMT3  PAY_AMT4  \\\n",
       "0      ...               0          0         0       689         0         0   \n",
       "1      ...            3455       3261         0      1000      1000      1000   \n",
       "2      ...           14948      15549      1518      1500      1000      1000   \n",
       "3      ...           28959      29547      2000      2019      1200      1100   \n",
       "4      ...           19146      19131      2000     36681     10000      9000   \n",
       "\n",
       "   PAY_AMT5  PAY_AMT6  default_pay  age_by_decade  \n",
       "0         0         0      Default            20s  \n",
       "1         0      2000      Default            20s  \n",
       "2      1000      5000   No Default            30s  \n",
       "3      1069      1000   No Default            30s  \n",
       "4       689       679   No Default            50s  \n",
       "\n",
       "[5 rows x 25 columns]"
      ]
     },
     "execution_count": 156,
     "metadata": {},
     "output_type": "execute_result"
    }
   ],
   "source": [
    "credit.head()"
   ]
  },
  {
   "cell_type": "markdown",
   "metadata": {},
   "source": [
    "### Correlation"
   ]
  },
  {
   "cell_type": "code",
   "execution_count": 157,
   "metadata": {},
   "outputs": [
    {
     "data": {
      "text/html": [
       "<div>\n",
       "<style scoped>\n",
       "    .dataframe tbody tr th:only-of-type {\n",
       "        vertical-align: middle;\n",
       "    }\n",
       "\n",
       "    .dataframe tbody tr th {\n",
       "        vertical-align: top;\n",
       "    }\n",
       "\n",
       "    .dataframe thead th {\n",
       "        text-align: right;\n",
       "    }\n",
       "</style>\n",
       "<table border=\"1\" class=\"dataframe\">\n",
       "  <thead>\n",
       "    <tr style=\"text-align: right;\">\n",
       "      <th></th>\n",
       "      <th>LIMIT_BAL</th>\n",
       "      <th>AGE</th>\n",
       "      <th>BILL_AMT1</th>\n",
       "      <th>BILL_AMT2</th>\n",
       "      <th>BILL_AMT3</th>\n",
       "      <th>BILL_AMT4</th>\n",
       "      <th>BILL_AMT5</th>\n",
       "      <th>BILL_AMT6</th>\n",
       "      <th>PAY_AMT1</th>\n",
       "      <th>PAY_AMT2</th>\n",
       "      <th>PAY_AMT3</th>\n",
       "      <th>PAY_AMT4</th>\n",
       "      <th>PAY_AMT5</th>\n",
       "      <th>PAY_AMT6</th>\n",
       "    </tr>\n",
       "  </thead>\n",
       "  <tbody>\n",
       "    <tr>\n",
       "      <th>LIMIT_BAL</th>\n",
       "      <td>1.000000</td>\n",
       "      <td>0.144713</td>\n",
       "      <td>0.285430</td>\n",
       "      <td>0.278314</td>\n",
       "      <td>0.283236</td>\n",
       "      <td>0.293988</td>\n",
       "      <td>0.295562</td>\n",
       "      <td>0.290389</td>\n",
       "      <td>0.195236</td>\n",
       "      <td>0.178408</td>\n",
       "      <td>0.210167</td>\n",
       "      <td>0.203242</td>\n",
       "      <td>0.217202</td>\n",
       "      <td>0.219595</td>\n",
       "    </tr>\n",
       "    <tr>\n",
       "      <th>AGE</th>\n",
       "      <td>0.144713</td>\n",
       "      <td>1.000000</td>\n",
       "      <td>0.056239</td>\n",
       "      <td>0.054283</td>\n",
       "      <td>0.053710</td>\n",
       "      <td>0.051353</td>\n",
       "      <td>0.049345</td>\n",
       "      <td>0.047613</td>\n",
       "      <td>0.026147</td>\n",
       "      <td>0.021785</td>\n",
       "      <td>0.029247</td>\n",
       "      <td>0.021379</td>\n",
       "      <td>0.022850</td>\n",
       "      <td>0.019478</td>\n",
       "    </tr>\n",
       "    <tr>\n",
       "      <th>BILL_AMT1</th>\n",
       "      <td>0.285430</td>\n",
       "      <td>0.056239</td>\n",
       "      <td>1.000000</td>\n",
       "      <td>0.951484</td>\n",
       "      <td>0.892279</td>\n",
       "      <td>0.860272</td>\n",
       "      <td>0.829779</td>\n",
       "      <td>0.802650</td>\n",
       "      <td>0.140277</td>\n",
       "      <td>0.099355</td>\n",
       "      <td>0.156887</td>\n",
       "      <td>0.158303</td>\n",
       "      <td>0.167026</td>\n",
       "      <td>0.179341</td>\n",
       "    </tr>\n",
       "    <tr>\n",
       "      <th>BILL_AMT2</th>\n",
       "      <td>0.278314</td>\n",
       "      <td>0.054283</td>\n",
       "      <td>0.951484</td>\n",
       "      <td>1.000000</td>\n",
       "      <td>0.928326</td>\n",
       "      <td>0.892482</td>\n",
       "      <td>0.859778</td>\n",
       "      <td>0.831594</td>\n",
       "      <td>0.280365</td>\n",
       "      <td>0.100851</td>\n",
       "      <td>0.150718</td>\n",
       "      <td>0.147398</td>\n",
       "      <td>0.157957</td>\n",
       "      <td>0.174256</td>\n",
       "    </tr>\n",
       "    <tr>\n",
       "      <th>BILL_AMT3</th>\n",
       "      <td>0.283236</td>\n",
       "      <td>0.053710</td>\n",
       "      <td>0.892279</td>\n",
       "      <td>0.928326</td>\n",
       "      <td>1.000000</td>\n",
       "      <td>0.923969</td>\n",
       "      <td>0.883910</td>\n",
       "      <td>0.853320</td>\n",
       "      <td>0.244335</td>\n",
       "      <td>0.316936</td>\n",
       "      <td>0.130011</td>\n",
       "      <td>0.143405</td>\n",
       "      <td>0.179712</td>\n",
       "      <td>0.182326</td>\n",
       "    </tr>\n",
       "    <tr>\n",
       "      <th>BILL_AMT4</th>\n",
       "      <td>0.293988</td>\n",
       "      <td>0.051353</td>\n",
       "      <td>0.860272</td>\n",
       "      <td>0.892482</td>\n",
       "      <td>0.923969</td>\n",
       "      <td>1.000000</td>\n",
       "      <td>0.940134</td>\n",
       "      <td>0.900941</td>\n",
       "      <td>0.233012</td>\n",
       "      <td>0.207564</td>\n",
       "      <td>0.300023</td>\n",
       "      <td>0.130191</td>\n",
       "      <td>0.160433</td>\n",
       "      <td>0.177637</td>\n",
       "    </tr>\n",
       "    <tr>\n",
       "      <th>BILL_AMT5</th>\n",
       "      <td>0.295562</td>\n",
       "      <td>0.049345</td>\n",
       "      <td>0.829779</td>\n",
       "      <td>0.859778</td>\n",
       "      <td>0.883910</td>\n",
       "      <td>0.940134</td>\n",
       "      <td>1.000000</td>\n",
       "      <td>0.946197</td>\n",
       "      <td>0.217031</td>\n",
       "      <td>0.181246</td>\n",
       "      <td>0.252305</td>\n",
       "      <td>0.293118</td>\n",
       "      <td>0.141574</td>\n",
       "      <td>0.164184</td>\n",
       "    </tr>\n",
       "    <tr>\n",
       "      <th>BILL_AMT6</th>\n",
       "      <td>0.290389</td>\n",
       "      <td>0.047613</td>\n",
       "      <td>0.802650</td>\n",
       "      <td>0.831594</td>\n",
       "      <td>0.853320</td>\n",
       "      <td>0.900941</td>\n",
       "      <td>0.946197</td>\n",
       "      <td>1.000000</td>\n",
       "      <td>0.199965</td>\n",
       "      <td>0.172663</td>\n",
       "      <td>0.233770</td>\n",
       "      <td>0.250237</td>\n",
       "      <td>0.307729</td>\n",
       "      <td>0.115494</td>\n",
       "    </tr>\n",
       "    <tr>\n",
       "      <th>PAY_AMT1</th>\n",
       "      <td>0.195236</td>\n",
       "      <td>0.026147</td>\n",
       "      <td>0.140277</td>\n",
       "      <td>0.280365</td>\n",
       "      <td>0.244335</td>\n",
       "      <td>0.233012</td>\n",
       "      <td>0.217031</td>\n",
       "      <td>0.199965</td>\n",
       "      <td>1.000000</td>\n",
       "      <td>0.285576</td>\n",
       "      <td>0.252191</td>\n",
       "      <td>0.199558</td>\n",
       "      <td>0.148459</td>\n",
       "      <td>0.185735</td>\n",
       "    </tr>\n",
       "    <tr>\n",
       "      <th>PAY_AMT2</th>\n",
       "      <td>0.178408</td>\n",
       "      <td>0.021785</td>\n",
       "      <td>0.099355</td>\n",
       "      <td>0.100851</td>\n",
       "      <td>0.316936</td>\n",
       "      <td>0.207564</td>\n",
       "      <td>0.181246</td>\n",
       "      <td>0.172663</td>\n",
       "      <td>0.285576</td>\n",
       "      <td>1.000000</td>\n",
       "      <td>0.244770</td>\n",
       "      <td>0.180107</td>\n",
       "      <td>0.180908</td>\n",
       "      <td>0.157634</td>\n",
       "    </tr>\n",
       "    <tr>\n",
       "      <th>PAY_AMT3</th>\n",
       "      <td>0.210167</td>\n",
       "      <td>0.029247</td>\n",
       "      <td>0.156887</td>\n",
       "      <td>0.150718</td>\n",
       "      <td>0.130011</td>\n",
       "      <td>0.300023</td>\n",
       "      <td>0.252305</td>\n",
       "      <td>0.233770</td>\n",
       "      <td>0.252191</td>\n",
       "      <td>0.244770</td>\n",
       "      <td>1.000000</td>\n",
       "      <td>0.216325</td>\n",
       "      <td>0.159214</td>\n",
       "      <td>0.162740</td>\n",
       "    </tr>\n",
       "    <tr>\n",
       "      <th>PAY_AMT4</th>\n",
       "      <td>0.203242</td>\n",
       "      <td>0.021379</td>\n",
       "      <td>0.158303</td>\n",
       "      <td>0.147398</td>\n",
       "      <td>0.143405</td>\n",
       "      <td>0.130191</td>\n",
       "      <td>0.293118</td>\n",
       "      <td>0.250237</td>\n",
       "      <td>0.199558</td>\n",
       "      <td>0.180107</td>\n",
       "      <td>0.216325</td>\n",
       "      <td>1.000000</td>\n",
       "      <td>0.151830</td>\n",
       "      <td>0.157834</td>\n",
       "    </tr>\n",
       "    <tr>\n",
       "      <th>PAY_AMT5</th>\n",
       "      <td>0.217202</td>\n",
       "      <td>0.022850</td>\n",
       "      <td>0.167026</td>\n",
       "      <td>0.157957</td>\n",
       "      <td>0.179712</td>\n",
       "      <td>0.160433</td>\n",
       "      <td>0.141574</td>\n",
       "      <td>0.307729</td>\n",
       "      <td>0.148459</td>\n",
       "      <td>0.180908</td>\n",
       "      <td>0.159214</td>\n",
       "      <td>0.151830</td>\n",
       "      <td>1.000000</td>\n",
       "      <td>0.154896</td>\n",
       "    </tr>\n",
       "    <tr>\n",
       "      <th>PAY_AMT6</th>\n",
       "      <td>0.219595</td>\n",
       "      <td>0.019478</td>\n",
       "      <td>0.179341</td>\n",
       "      <td>0.174256</td>\n",
       "      <td>0.182326</td>\n",
       "      <td>0.177637</td>\n",
       "      <td>0.164184</td>\n",
       "      <td>0.115494</td>\n",
       "      <td>0.185735</td>\n",
       "      <td>0.157634</td>\n",
       "      <td>0.162740</td>\n",
       "      <td>0.157834</td>\n",
       "      <td>0.154896</td>\n",
       "      <td>1.000000</td>\n",
       "    </tr>\n",
       "  </tbody>\n",
       "</table>\n",
       "</div>"
      ],
      "text/plain": [
       "           LIMIT_BAL       AGE  BILL_AMT1  BILL_AMT2  BILL_AMT3  BILL_AMT4  \\\n",
       "LIMIT_BAL   1.000000  0.144713   0.285430   0.278314   0.283236   0.293988   \n",
       "AGE         0.144713  1.000000   0.056239   0.054283   0.053710   0.051353   \n",
       "BILL_AMT1   0.285430  0.056239   1.000000   0.951484   0.892279   0.860272   \n",
       "BILL_AMT2   0.278314  0.054283   0.951484   1.000000   0.928326   0.892482   \n",
       "BILL_AMT3   0.283236  0.053710   0.892279   0.928326   1.000000   0.923969   \n",
       "BILL_AMT4   0.293988  0.051353   0.860272   0.892482   0.923969   1.000000   \n",
       "BILL_AMT5   0.295562  0.049345   0.829779   0.859778   0.883910   0.940134   \n",
       "BILL_AMT6   0.290389  0.047613   0.802650   0.831594   0.853320   0.900941   \n",
       "PAY_AMT1    0.195236  0.026147   0.140277   0.280365   0.244335   0.233012   \n",
       "PAY_AMT2    0.178408  0.021785   0.099355   0.100851   0.316936   0.207564   \n",
       "PAY_AMT3    0.210167  0.029247   0.156887   0.150718   0.130011   0.300023   \n",
       "PAY_AMT4    0.203242  0.021379   0.158303   0.147398   0.143405   0.130191   \n",
       "PAY_AMT5    0.217202  0.022850   0.167026   0.157957   0.179712   0.160433   \n",
       "PAY_AMT6    0.219595  0.019478   0.179341   0.174256   0.182326   0.177637   \n",
       "\n",
       "           BILL_AMT5  BILL_AMT6  PAY_AMT1  PAY_AMT2  PAY_AMT3  PAY_AMT4  \\\n",
       "LIMIT_BAL   0.295562   0.290389  0.195236  0.178408  0.210167  0.203242   \n",
       "AGE         0.049345   0.047613  0.026147  0.021785  0.029247  0.021379   \n",
       "BILL_AMT1   0.829779   0.802650  0.140277  0.099355  0.156887  0.158303   \n",
       "BILL_AMT2   0.859778   0.831594  0.280365  0.100851  0.150718  0.147398   \n",
       "BILL_AMT3   0.883910   0.853320  0.244335  0.316936  0.130011  0.143405   \n",
       "BILL_AMT4   0.940134   0.900941  0.233012  0.207564  0.300023  0.130191   \n",
       "BILL_AMT5   1.000000   0.946197  0.217031  0.181246  0.252305  0.293118   \n",
       "BILL_AMT6   0.946197   1.000000  0.199965  0.172663  0.233770  0.250237   \n",
       "PAY_AMT1    0.217031   0.199965  1.000000  0.285576  0.252191  0.199558   \n",
       "PAY_AMT2    0.181246   0.172663  0.285576  1.000000  0.244770  0.180107   \n",
       "PAY_AMT3    0.252305   0.233770  0.252191  0.244770  1.000000  0.216325   \n",
       "PAY_AMT4    0.293118   0.250237  0.199558  0.180107  0.216325  1.000000   \n",
       "PAY_AMT5    0.141574   0.307729  0.148459  0.180908  0.159214  0.151830   \n",
       "PAY_AMT6    0.164184   0.115494  0.185735  0.157634  0.162740  0.157834   \n",
       "\n",
       "           PAY_AMT5  PAY_AMT6  \n",
       "LIMIT_BAL  0.217202  0.219595  \n",
       "AGE        0.022850  0.019478  \n",
       "BILL_AMT1  0.167026  0.179341  \n",
       "BILL_AMT2  0.157957  0.174256  \n",
       "BILL_AMT3  0.179712  0.182326  \n",
       "BILL_AMT4  0.160433  0.177637  \n",
       "BILL_AMT5  0.141574  0.164184  \n",
       "BILL_AMT6  0.307729  0.115494  \n",
       "PAY_AMT1   0.148459  0.185735  \n",
       "PAY_AMT2   0.180908  0.157634  \n",
       "PAY_AMT3   0.159214  0.162740  \n",
       "PAY_AMT4   0.151830  0.157834  \n",
       "PAY_AMT5   1.000000  0.154896  \n",
       "PAY_AMT6   0.154896  1.000000  "
      ]
     },
     "execution_count": 157,
     "metadata": {},
     "output_type": "execute_result"
    }
   ],
   "source": [
    "#Correlation\n",
    "corr_credit = credit.corr()\n",
    "corr_credit"
   ]
  },
  {
   "cell_type": "code",
   "execution_count": 158,
   "metadata": {},
   "outputs": [
    {
     "data": {
      "text/plain": [
       "<matplotlib.axes._subplots.AxesSubplot at 0xbd49dd0>"
      ]
     },
     "execution_count": 158,
     "metadata": {},
     "output_type": "execute_result"
    },
    {
     "data": {
      "image/png": "[encoded data removed]",
      "text/plain": [
       "<Figure size 432x288 with 2 Axes>"
      ]
     },
     "metadata": {
      "needs_background": "light"
     },
     "output_type": "display_data"
    }
   ],
   "source": [
    "cmap = sn.diverging_palette(220, 10, as_cmap=True)\n",
    "sn.heatmap(corr_credit,cmap=cmap, vmin=0,vmax=1, center=0,\n",
    "            square=True, linewidths=.5)"
   ]
  },
  {
   "cell_type": "markdown",
   "metadata": {},
   "source": [
    "1. We see that there is high correlation between the variables BILL_AMTX and their correlation also increases with time. i.e., the BILL_AMT2 is highly correlated with BILL_AMT1 when compared to other BILL_AMTX variables. This indicates that the Bill amount increases month by month.\n",
    "2. We also noticed a kind of pattern that exists between BILL_AMTX and PAY_AMTX variables. The BILL_AMT2 is highly correlated to PAY_AMT1. Which means that the Amount of Bill Statement in August is correlated to Amount paid in September. This is a similar pattern observed between BILL_AMTX and PAY_AMTX+1.\n",
    "3. Credit Limit is correlated to all variables. But, its comparitevly high with variables BILL_AMTX and PAY_AMTX:\n",
    "    we can consider 2 reasons here:\n",
    "     1. Considering the increase in Previous Payment history, the customer would be provided with higher credit limit.\n",
    "     2. Since the Credit Limit increases the Bill amount also increases."
   ]
  },
  {
   "cell_type": "markdown",
   "metadata": {},
   "source": [
    "### Covariance"
   ]
  },
  {
   "cell_type": "code",
   "execution_count": 159,
   "metadata": {
    "scrolled": true
   },
   "outputs": [
    {
     "data": {
      "text/html": [
       "<div>\n",
       "<style scoped>\n",
       "    .dataframe tbody tr th:only-of-type {\n",
       "        vertical-align: middle;\n",
       "    }\n",
       "\n",
       "    .dataframe tbody tr th {\n",
       "        vertical-align: top;\n",
       "    }\n",
       "\n",
       "    .dataframe thead th {\n",
       "        text-align: right;\n",
       "    }\n",
       "</style>\n",
       "<table border=\"1\" class=\"dataframe\">\n",
       "  <thead>\n",
       "    <tr style=\"text-align: right;\">\n",
       "      <th></th>\n",
       "      <th>LIMIT_BAL</th>\n",
       "      <th>AGE</th>\n",
       "      <th>BILL_AMT1</th>\n",
       "      <th>BILL_AMT2</th>\n",
       "      <th>BILL_AMT3</th>\n",
       "      <th>BILL_AMT4</th>\n",
       "      <th>BILL_AMT5</th>\n",
       "      <th>BILL_AMT6</th>\n",
       "      <th>PAY_AMT1</th>\n",
       "      <th>PAY_AMT2</th>\n",
       "      <th>PAY_AMT3</th>\n",
       "      <th>PAY_AMT4</th>\n",
       "      <th>PAY_AMT5</th>\n",
       "      <th>PAY_AMT6</th>\n",
       "    </tr>\n",
       "  </thead>\n",
       "  <tbody>\n",
       "    <tr>\n",
       "      <th>LIMIT_BAL</th>\n",
       "      <td>1.683446e+10</td>\n",
       "      <td>173076.722569</td>\n",
       "      <td>2.727020e+09</td>\n",
       "      <td>2.570130e+09</td>\n",
       "      <td>2.548533e+09</td>\n",
       "      <td>2.453926e+09</td>\n",
       "      <td>2.331481e+09</td>\n",
       "      <td>2.243837e+09</td>\n",
       "      <td>4.195711e+08</td>\n",
       "      <td>5.333504e+08</td>\n",
       "      <td>4.801180e+08</td>\n",
       "      <td>4.131202e+08</td>\n",
       "      <td>4.305657e+08</td>\n",
       "      <td>5.065153e+08</td>\n",
       "    </tr>\n",
       "    <tr>\n",
       "      <th>AGE</th>\n",
       "      <td>1.730767e+05</td>\n",
       "      <td>84.969755</td>\n",
       "      <td>3.817293e+04</td>\n",
       "      <td>3.561366e+04</td>\n",
       "      <td>3.433425e+04</td>\n",
       "      <td>3.045311e+04</td>\n",
       "      <td>2.765407e+04</td>\n",
       "      <td>2.613765e+04</td>\n",
       "      <td>3.992042e+03</td>\n",
       "      <td>4.626862e+03</td>\n",
       "      <td>4.746824e+03</td>\n",
       "      <td>3.087324e+03</td>\n",
       "      <td>3.218052e+03</td>\n",
       "      <td>3.191904e+03</td>\n",
       "    </tr>\n",
       "    <tr>\n",
       "      <th>BILL_AMT1</th>\n",
       "      <td>2.727020e+09</td>\n",
       "      <td>38172.933546</td>\n",
       "      <td>5.422240e+09</td>\n",
       "      <td>4.986670e+09</td>\n",
       "      <td>4.556511e+09</td>\n",
       "      <td>4.075286e+09</td>\n",
       "      <td>3.714795e+09</td>\n",
       "      <td>3.519876e+09</td>\n",
       "      <td>1.710894e+08</td>\n",
       "      <td>1.685692e+08</td>\n",
       "      <td>2.034048e+08</td>\n",
       "      <td>1.826164e+08</td>\n",
       "      <td>1.879091e+08</td>\n",
       "      <td>2.347681e+08</td>\n",
       "    </tr>\n",
       "    <tr>\n",
       "      <th>BILL_AMT2</th>\n",
       "      <td>2.570130e+09</td>\n",
       "      <td>35613.657962</td>\n",
       "      <td>4.986670e+09</td>\n",
       "      <td>5.065705e+09</td>\n",
       "      <td>4.582086e+09</td>\n",
       "      <td>4.086508e+09</td>\n",
       "      <td>3.720401e+09</td>\n",
       "      <td>3.524868e+09</td>\n",
       "      <td>3.305146e+08</td>\n",
       "      <td>1.653859e+08</td>\n",
       "      <td>1.888731e+08</td>\n",
       "      <td>1.643518e+08</td>\n",
       "      <td>1.717652e+08</td>\n",
       "      <td>2.204845e+08</td>\n",
       "    </tr>\n",
       "    <tr>\n",
       "      <th>BILL_AMT3</th>\n",
       "      <td>2.548533e+09</td>\n",
       "      <td>34334.251320</td>\n",
       "      <td>4.556511e+09</td>\n",
       "      <td>4.582086e+09</td>\n",
       "      <td>4.809338e+09</td>\n",
       "      <td>4.122238e+09</td>\n",
       "      <td>3.726780e+09</td>\n",
       "      <td>3.524247e+09</td>\n",
       "      <td>2.806565e+08</td>\n",
       "      <td>5.064226e+08</td>\n",
       "      <td>1.587478e+08</td>\n",
       "      <td>1.558003e+08</td>\n",
       "      <td>1.904126e+08</td>\n",
       "      <td>2.247817e+08</td>\n",
       "    </tr>\n",
       "    <tr>\n",
       "      <th>BILL_AMT4</th>\n",
       "      <td>2.453926e+09</td>\n",
       "      <td>30453.108180</td>\n",
       "      <td>4.075286e+09</td>\n",
       "      <td>4.086508e+09</td>\n",
       "      <td>4.122238e+09</td>\n",
       "      <td>4.138716e+09</td>\n",
       "      <td>3.677105e+09</td>\n",
       "      <td>3.451762e+09</td>\n",
       "      <td>2.482888e+08</td>\n",
       "      <td>3.076686e+08</td>\n",
       "      <td>3.398374e+08</td>\n",
       "      <td>1.312133e+08</td>\n",
       "      <td>1.576892e+08</td>\n",
       "      <td>2.031590e+08</td>\n",
       "    </tr>\n",
       "    <tr>\n",
       "      <th>BILL_AMT5</th>\n",
       "      <td>2.331481e+09</td>\n",
       "      <td>27654.067800</td>\n",
       "      <td>3.714795e+09</td>\n",
       "      <td>3.720401e+09</td>\n",
       "      <td>3.726780e+09</td>\n",
       "      <td>3.677105e+09</td>\n",
       "      <td>3.696294e+09</td>\n",
       "      <td>3.425914e+09</td>\n",
       "      <td>2.185501e+08</td>\n",
       "      <td>2.538936e+08</td>\n",
       "      <td>2.700805e+08</td>\n",
       "      <td>2.791830e+08</td>\n",
       "      <td>1.315051e+08</td>\n",
       "      <td>1.774537e+08</td>\n",
       "    </tr>\n",
       "    <tr>\n",
       "      <th>BILL_AMT6</th>\n",
       "      <td>2.243837e+09</td>\n",
       "      <td>26137.648547</td>\n",
       "      <td>3.519876e+09</td>\n",
       "      <td>3.524868e+09</td>\n",
       "      <td>3.524247e+09</td>\n",
       "      <td>3.451762e+09</td>\n",
       "      <td>3.425914e+09</td>\n",
       "      <td>3.546692e+09</td>\n",
       "      <td>1.972478e+08</td>\n",
       "      <td>2.369244e+08</td>\n",
       "      <td>2.451233e+08</td>\n",
       "      <td>2.334670e+08</td>\n",
       "      <td>2.799982e+08</td>\n",
       "      <td>1.222761e+08</td>\n",
       "    </tr>\n",
       "    <tr>\n",
       "      <th>PAY_AMT1</th>\n",
       "      <td>4.195711e+08</td>\n",
       "      <td>3992.041735</td>\n",
       "      <td>1.710894e+08</td>\n",
       "      <td>3.305146e+08</td>\n",
       "      <td>2.806565e+08</td>\n",
       "      <td>2.482888e+08</td>\n",
       "      <td>2.185501e+08</td>\n",
       "      <td>1.972478e+08</td>\n",
       "      <td>2.743423e+08</td>\n",
       "      <td>1.089849e+08</td>\n",
       "      <td>7.354626e+07</td>\n",
       "      <td>5.178189e+07</td>\n",
       "      <td>3.756893e+07</td>\n",
       "      <td>5.469033e+07</td>\n",
       "    </tr>\n",
       "    <tr>\n",
       "      <th>PAY_AMT2</th>\n",
       "      <td>5.333504e+08</td>\n",
       "      <td>4626.861549</td>\n",
       "      <td>1.685692e+08</td>\n",
       "      <td>1.653859e+08</td>\n",
       "      <td>5.064226e+08</td>\n",
       "      <td>3.076686e+08</td>\n",
       "      <td>2.538936e+08</td>\n",
       "      <td>2.369244e+08</td>\n",
       "      <td>1.089849e+08</td>\n",
       "      <td>5.308817e+08</td>\n",
       "      <td>9.929841e+07</td>\n",
       "      <td>6.501168e+07</td>\n",
       "      <td>6.368414e+07</td>\n",
       "      <td>6.456816e+07</td>\n",
       "    </tr>\n",
       "    <tr>\n",
       "      <th>PAY_AMT3</th>\n",
       "      <td>4.801180e+08</td>\n",
       "      <td>4746.824393</td>\n",
       "      <td>2.034048e+08</td>\n",
       "      <td>1.888731e+08</td>\n",
       "      <td>1.587478e+08</td>\n",
       "      <td>3.398374e+08</td>\n",
       "      <td>2.700805e+08</td>\n",
       "      <td>2.451233e+08</td>\n",
       "      <td>7.354626e+07</td>\n",
       "      <td>9.929841e+07</td>\n",
       "      <td>3.100051e+08</td>\n",
       "      <td>5.966970e+07</td>\n",
       "      <td>4.282921e+07</td>\n",
       "      <td>5.093879e+07</td>\n",
       "    </tr>\n",
       "    <tr>\n",
       "      <th>PAY_AMT4</th>\n",
       "      <td>4.131202e+08</td>\n",
       "      <td>3087.324192</td>\n",
       "      <td>1.826164e+08</td>\n",
       "      <td>1.643518e+08</td>\n",
       "      <td>1.558003e+08</td>\n",
       "      <td>1.312133e+08</td>\n",
       "      <td>2.791830e+08</td>\n",
       "      <td>2.334670e+08</td>\n",
       "      <td>5.178189e+07</td>\n",
       "      <td>6.501168e+07</td>\n",
       "      <td>5.966970e+07</td>\n",
       "      <td>2.454286e+08</td>\n",
       "      <td>3.634098e+07</td>\n",
       "      <td>4.395747e+07</td>\n",
       "    </tr>\n",
       "    <tr>\n",
       "      <th>PAY_AMT5</th>\n",
       "      <td>4.305657e+08</td>\n",
       "      <td>3218.052172</td>\n",
       "      <td>1.879091e+08</td>\n",
       "      <td>1.717652e+08</td>\n",
       "      <td>1.904126e+08</td>\n",
       "      <td>1.576892e+08</td>\n",
       "      <td>1.315051e+08</td>\n",
       "      <td>2.799982e+08</td>\n",
       "      <td>3.756893e+07</td>\n",
       "      <td>6.368414e+07</td>\n",
       "      <td>4.282921e+07</td>\n",
       "      <td>3.634098e+07</td>\n",
       "      <td>2.334266e+08</td>\n",
       "      <td>4.207110e+07</td>\n",
       "    </tr>\n",
       "    <tr>\n",
       "      <th>PAY_AMT6</th>\n",
       "      <td>5.065153e+08</td>\n",
       "      <td>3191.903901</td>\n",
       "      <td>2.347681e+08</td>\n",
       "      <td>2.204845e+08</td>\n",
       "      <td>2.247817e+08</td>\n",
       "      <td>2.031590e+08</td>\n",
       "      <td>1.774537e+08</td>\n",
       "      <td>1.222761e+08</td>\n",
       "      <td>5.469033e+07</td>\n",
       "      <td>6.456816e+07</td>\n",
       "      <td>5.093879e+07</td>\n",
       "      <td>4.395747e+07</td>\n",
       "      <td>4.207110e+07</td>\n",
       "      <td>3.160383e+08</td>\n",
       "    </tr>\n",
       "  </tbody>\n",
       "</table>\n",
       "</div>"
      ],
      "text/plain": [
       "              LIMIT_BAL            AGE     BILL_AMT1     BILL_AMT2  \\\n",
       "LIMIT_BAL  1.683446e+10  173076.722569  2.727020e+09  2.570130e+09   \n",
       "AGE        1.730767e+05      84.969755  3.817293e+04  3.561366e+04   \n",
       "BILL_AMT1  2.727020e+09   38172.933546  5.422240e+09  4.986670e+09   \n",
       "BILL_AMT2  2.570130e+09   35613.657962  4.986670e+09  5.065705e+09   \n",
       "BILL_AMT3  2.548533e+09   34334.251320  4.556511e+09  4.582086e+09   \n",
       "BILL_AMT4  2.453926e+09   30453.108180  4.075286e+09  4.086508e+09   \n",
       "BILL_AMT5  2.331481e+09   27654.067800  3.714795e+09  3.720401e+09   \n",
       "BILL_AMT6  2.243837e+09   26137.648547  3.519876e+09  3.524868e+09   \n",
       "PAY_AMT1   4.195711e+08    3992.041735  1.710894e+08  3.305146e+08   \n",
       "PAY_AMT2   5.333504e+08    4626.861549  1.685692e+08  1.653859e+08   \n",
       "PAY_AMT3   4.801180e+08    4746.824393  2.034048e+08  1.888731e+08   \n",
       "PAY_AMT4   4.131202e+08    3087.324192  1.826164e+08  1.643518e+08   \n",
       "PAY_AMT5   4.305657e+08    3218.052172  1.879091e+08  1.717652e+08   \n",
       "PAY_AMT6   5.065153e+08    3191.903901  2.347681e+08  2.204845e+08   \n",
       "\n",
       "              BILL_AMT3     BILL_AMT4     BILL_AMT5     BILL_AMT6  \\\n",
       "LIMIT_BAL  2.548533e+09  2.453926e+09  2.331481e+09  2.243837e+09   \n",
       "AGE        3.433425e+04  3.045311e+04  2.765407e+04  2.613765e+04   \n",
       "BILL_AMT1  4.556511e+09  4.075286e+09  3.714795e+09  3.519876e+09   \n",
       "BILL_AMT2  4.582086e+09  4.086508e+09  3.720401e+09  3.524868e+09   \n",
       "BILL_AMT3  4.809338e+09  4.122238e+09  3.726780e+09  3.524247e+09   \n",
       "BILL_AMT4  4.122238e+09  4.138716e+09  3.677105e+09  3.451762e+09   \n",
       "BILL_AMT5  3.726780e+09  3.677105e+09  3.696294e+09  3.425914e+09   \n",
       "BILL_AMT6  3.524247e+09  3.451762e+09  3.425914e+09  3.546692e+09   \n",
       "PAY_AMT1   2.806565e+08  2.482888e+08  2.185501e+08  1.972478e+08   \n",
       "PAY_AMT2   5.064226e+08  3.076686e+08  2.538936e+08  2.369244e+08   \n",
       "PAY_AMT3   1.587478e+08  3.398374e+08  2.700805e+08  2.451233e+08   \n",
       "PAY_AMT4   1.558003e+08  1.312133e+08  2.791830e+08  2.334670e+08   \n",
       "PAY_AMT5   1.904126e+08  1.576892e+08  1.315051e+08  2.799982e+08   \n",
       "PAY_AMT6   2.247817e+08  2.031590e+08  1.774537e+08  1.222761e+08   \n",
       "\n",
       "               PAY_AMT1      PAY_AMT2      PAY_AMT3      PAY_AMT4  \\\n",
       "LIMIT_BAL  4.195711e+08  5.333504e+08  4.801180e+08  4.131202e+08   \n",
       "AGE        3.992042e+03  4.626862e+03  4.746824e+03  3.087324e+03   \n",
       "BILL_AMT1  1.710894e+08  1.685692e+08  2.034048e+08  1.826164e+08   \n",
       "BILL_AMT2  3.305146e+08  1.653859e+08  1.888731e+08  1.643518e+08   \n",
       "BILL_AMT3  2.806565e+08  5.064226e+08  1.587478e+08  1.558003e+08   \n",
       "BILL_AMT4  2.482888e+08  3.076686e+08  3.398374e+08  1.312133e+08   \n",
       "BILL_AMT5  2.185501e+08  2.538936e+08  2.700805e+08  2.791830e+08   \n",
       "BILL_AMT6  1.972478e+08  2.369244e+08  2.451233e+08  2.334670e+08   \n",
       "PAY_AMT1   2.743423e+08  1.089849e+08  7.354626e+07  5.178189e+07   \n",
       "PAY_AMT2   1.089849e+08  5.308817e+08  9.929841e+07  6.501168e+07   \n",
       "PAY_AMT3   7.354626e+07  9.929841e+07  3.100051e+08  5.966970e+07   \n",
       "PAY_AMT4   5.178189e+07  6.501168e+07  5.966970e+07  2.454286e+08   \n",
       "PAY_AMT5   3.756893e+07  6.368414e+07  4.282921e+07  3.634098e+07   \n",
       "PAY_AMT6   5.469033e+07  6.456816e+07  5.093879e+07  4.395747e+07   \n",
       "\n",
       "               PAY_AMT5      PAY_AMT6  \n",
       "LIMIT_BAL  4.305657e+08  5.065153e+08  \n",
       "AGE        3.218052e+03  3.191904e+03  \n",
       "BILL_AMT1  1.879091e+08  2.347681e+08  \n",
       "BILL_AMT2  1.717652e+08  2.204845e+08  \n",
       "BILL_AMT3  1.904126e+08  2.247817e+08  \n",
       "BILL_AMT4  1.576892e+08  2.031590e+08  \n",
       "BILL_AMT5  1.315051e+08  1.774537e+08  \n",
       "BILL_AMT6  2.799982e+08  1.222761e+08  \n",
       "PAY_AMT1   3.756893e+07  5.469033e+07  \n",
       "PAY_AMT2   6.368414e+07  6.456816e+07  \n",
       "PAY_AMT3   4.282921e+07  5.093879e+07  \n",
       "PAY_AMT4   3.634098e+07  4.395747e+07  \n",
       "PAY_AMT5   2.334266e+08  4.207110e+07  \n",
       "PAY_AMT6   4.207110e+07  3.160383e+08  "
      ]
     },
     "execution_count": 159,
     "metadata": {},
     "output_type": "execute_result"
    }
   ],
   "source": [
    "#Covariance\n",
    "cov_credit = credit.cov()\n",
    "cov_credit"
   ]
  }
 ],
 "metadata": {
  "kernelspec": {
   "display_name": "Python 3",
   "language": "python",
   "name": "python3"
  },
  "language_info": {
   "codemirror_mode": {
    "name": "ipython",
    "version": 3
   },
   "file_extension": ".py",
   "mimetype": "text/x-python",
   "name": "python",
   "nbconvert_exporter": "python",
   "pygments_lexer": "ipython3",
   "version": "3.6.0"
  }
 },
 "nbformat": 4,
 "nbformat_minor": 2
}
